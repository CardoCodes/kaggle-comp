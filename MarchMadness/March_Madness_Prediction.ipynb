{
 "cells": [
  {
   "cell_type": "markdown",
   "metadata": {},
   "source": [
    "# March Madness Prediction\n",
    "\n",
    "## Overview\n",
    "\n",
    "### Goal\n",
    "Submissions are based on the Brier Score, the goal will be to minimize the brier score between the predicted probabilities and the actual game outcomes. The Brier score measures the accuracy of probablistic predition, in this case the mean square error. \n",
    "\n",
    "The brier score can be thought of as a cost function that measures the average squared difference between the predicted probabilities and the actual outcomes.\n",
    "\n",
    "$$\n",
    "Brier = \\frac{1}{N} \\sum_{i=1}^{N} (p_i - o_i)^2\n",
    "$$\n",
    "\n",
    "where $p_i$ is the predicted probability of the event and $o_i$ is the actual outcome. The Brier score can span across all items in a set of N predictions.\n",
    "\n",
    "Therefore, minimizing the Brier score will result in a more accurate prediction.\n"
   ]
  },
  {
   "cell_type": "markdown",
   "metadata": {},
   "source": [
    "## Import Libraries\n",
    "Numpy for numerical operations\n",
    "Pandas for data manipulation\n",
    "Matplotlib, Seaborn, Plotly for plotting\n"
   ]
  },
  {
   "cell_type": "code",
   "execution_count": 34,
   "metadata": {},
   "outputs": [],
   "source": [
    "import glob\n",
    "import numpy as np\n",
    "import pandas as pd\n",
    "import matplotlib.pyplot as plt\n",
    "import seaborn as sns\n",
    "import plotly.express as px\n",
    "import plotly.graph_objects as go\n",
    "import plotly.io as pio\n",
    "import plotly.subplots as sp\n",
    "import xgboost as xgb\n",
    "import sklearn as sk\n",
    "from sklearn.feature_selection import VarianceThreshold\n",
    "from sklearn.model_selection import train_test_split\n",
    "from sklearn.metrics import accuracy_score\n",
    "from sklearn.metrics import log_loss\n",
    "\n",
    "plt.style.use(\"dark_background\")\n",
    "px.defaults.template = 'plotly_dark'\n"
   ]
  },
  {
   "cell_type": "markdown",
   "metadata": {},
   "source": [
    "## Load Data\n",
    "\n",
    "Set up a data dictionary that will store the data for each file, this will make it easier to access data from the csvs. Not all files are used in the prediction process, but they are included for completeness.\n"
   ]
  },
  {
   "cell_type": "code",
   "execution_count": 35,
   "metadata": {},
   "outputs": [],
   "source": [
    "data_dir = 'data/'\n",
    "data = {}\n",
    "\n",
    "files = glob.glob(data_dir + '*.csv')\n",
    "for file in files:\n",
    "    filename = file.split('/')[-1].split('\\\\')[-1].split('.')[0]\n",
    "    try:\n",
    "        data[filename] = pd.read_csv(file, encoding='latin-1')\n",
    "    except Exception as e:\n",
    "        print(f\"Warning: Could not load {filename}: {e}\")\n",
    "\n",
    "sub = data['SampleSubmissionStage1']\n"
   ]
  },
  {
   "cell_type": "markdown",
   "metadata": {},
   "source": [
    "Now that we have the data loaded, lets start by loading team and team spelling data. Here we will be using the team and team spelling data from the regular season and tournament. Combining women and mens data to get a complete dataset.\n"
   ]
  },
  {
   "cell_type": "code",
   "execution_count": 36,
   "metadata": {},
   "outputs": [
    {
     "data": {
      "text/html": [
       "<div>\n",
       "<style scoped>\n",
       "    .dataframe tbody tr th:only-of-type {\n",
       "        vertical-align: middle;\n",
       "    }\n",
       "\n",
       "    .dataframe tbody tr th {\n",
       "        vertical-align: top;\n",
       "    }\n",
       "\n",
       "    .dataframe thead th {\n",
       "        text-align: right;\n",
       "    }\n",
       "</style>\n",
       "<table border=\"1\" class=\"dataframe\">\n",
       "  <thead>\n",
       "    <tr style=\"text-align: right;\">\n",
       "      <th></th>\n",
       "      <th>TeamID</th>\n",
       "      <th>TeamName</th>\n",
       "      <th>FirstD1Season</th>\n",
       "      <th>LastD1Season</th>\n",
       "      <th>TeamNameCount</th>\n",
       "    </tr>\n",
       "  </thead>\n",
       "  <tbody>\n",
       "    <tr>\n",
       "      <th>0</th>\n",
       "      <td>1101</td>\n",
       "      <td>Abilene Chr</td>\n",
       "      <td>2014.0</td>\n",
       "      <td>2025.0</td>\n",
       "      <td>3</td>\n",
       "    </tr>\n",
       "    <tr>\n",
       "      <th>1</th>\n",
       "      <td>1102</td>\n",
       "      <td>Air Force</td>\n",
       "      <td>1985.0</td>\n",
       "      <td>2025.0</td>\n",
       "      <td>2</td>\n",
       "    </tr>\n",
       "    <tr>\n",
       "      <th>2</th>\n",
       "      <td>1103</td>\n",
       "      <td>Akron</td>\n",
       "      <td>1985.0</td>\n",
       "      <td>2025.0</td>\n",
       "      <td>1</td>\n",
       "    </tr>\n",
       "    <tr>\n",
       "      <th>3</th>\n",
       "      <td>1104</td>\n",
       "      <td>Alabama</td>\n",
       "      <td>1985.0</td>\n",
       "      <td>2025.0</td>\n",
       "      <td>1</td>\n",
       "    </tr>\n",
       "    <tr>\n",
       "      <th>4</th>\n",
       "      <td>1105</td>\n",
       "      <td>Alabama A&amp;M</td>\n",
       "      <td>2000.0</td>\n",
       "      <td>2025.0</td>\n",
       "      <td>2</td>\n",
       "    </tr>\n",
       "  </tbody>\n",
       "</table>\n",
       "</div>"
      ],
      "text/plain": [
       "   TeamID     TeamName  FirstD1Season  LastD1Season  TeamNameCount\n",
       "0    1101  Abilene Chr         2014.0        2025.0              3\n",
       "1    1102    Air Force         1985.0        2025.0              2\n",
       "2    1103        Akron         1985.0        2025.0              1\n",
       "3    1104      Alabama         1985.0        2025.0              1\n",
       "4    1105  Alabama A&M         2000.0        2025.0              2"
      ]
     },
     "execution_count": 36,
     "metadata": {},
     "output_type": "execute_result"
    }
   ],
   "source": [
    "teams = pd.concat([data['MTeams'], data['WTeams']])\n",
    "teams_spelling = pd.concat([data['MTeamSpellings'], data['WTeamSpellings']])\n",
    "teams_spelling = teams_spelling.groupby(by='TeamID', as_index=False)['TeamNameSpelling'].count()\n",
    "teams_spelling.columns = ['TeamID', 'TeamNameCount']\n",
    "teams = pd.merge(teams, teams_spelling, how='left', on=['TeamID'])\n",
    "teams.head()"
   ]
  },
  {
   "cell_type": "markdown",
   "metadata": {},
   "source": [
    "Add season and turney reluts, both compact and detailed. There is a chance we only end up using the detailed results, but it is good to have both. "
   ]
  },
  {
   "cell_type": "code",
   "execution_count": 37,
   "metadata": {},
   "outputs": [],
   "source": [
    "season_compact_results = pd.concat([data['MRegularSeasonCompactResults'], data['WRegularSeasonCompactResults']]).assign(ST='S')\n",
    "season_detailed_results = pd.concat([data['MRegularSeasonDetailedResults'], data['WRegularSeasonDetailedResults']]).assign(ST='S')\n",
    "tourney_compact_results = pd.concat([data['MNCAATourneyCompactResults'], data['WNCAATourneyCompactResults']]).assign(ST='T')\n",
    "tourney_detailed_results = pd.concat([data['MNCAATourneyDetailedResults'], data['WNCAATourneyDetailedResults']]).assign(ST='T')"
   ]
  },
  {
   "cell_type": "markdown",
   "metadata": {},
   "source": [
    "We will create a summary of the datasets. This will help us understand the shape of the data and the columns that are available. Which will be important when we start to explore the data and feature engineering."
   ]
  },
  {
   "cell_type": "code",
   "execution_count": 38,
   "metadata": {},
   "outputs": [
    {
     "data": {
      "text/html": [
       "<style type=\"text/css\">\n",
       "#T_0de5b_row0_col0, #T_0de5b_row0_col1, #T_0de5b_row0_col2, #T_0de5b_row0_col3, #T_0de5b_row1_col0, #T_0de5b_row1_col1, #T_0de5b_row1_col2, #T_0de5b_row1_col3, #T_0de5b_row2_col0, #T_0de5b_row2_col1, #T_0de5b_row2_col2, #T_0de5b_row2_col3, #T_0de5b_row3_col0, #T_0de5b_row3_col1, #T_0de5b_row3_col2, #T_0de5b_row3_col3 {\n",
       "  border-color: black;\n",
       "  border-style: solid;\n",
       "  border-width: 1px;\n",
       "  text-align: center;\n",
       "}\n",
       "</style>\n",
       "<table id=\"T_0de5b\">\n",
       "  <thead>\n",
       "    <tr>\n",
       "      <th class=\"blank level0\" >&nbsp;</th>\n",
       "      <th id=\"T_0de5b_level0_col0\" class=\"col_heading level0 col0\" >Dataset</th>\n",
       "      <th id=\"T_0de5b_level0_col1\" class=\"col_heading level0 col1\" >Shape</th>\n",
       "      <th id=\"T_0de5b_level0_col2\" class=\"col_heading level0 col2\" >Columns</th>\n",
       "      <th id=\"T_0de5b_level0_col3\" class=\"col_heading level0 col3\" >Sample Years</th>\n",
       "    </tr>\n",
       "  </thead>\n",
       "  <tbody>\n",
       "    <tr>\n",
       "      <th id=\"T_0de5b_level0_row0\" class=\"row_heading level0 row0\" >0</th>\n",
       "      <td id=\"T_0de5b_row0_col0\" class=\"data row0 col0\" >Regular Season Compact</td>\n",
       "      <td id=\"T_0de5b_row0_col1\" class=\"data row0 col1\" >(329125, 9)</td>\n",
       "      <td id=\"T_0de5b_row0_col2\" class=\"data row0 col2\" >9</td>\n",
       "      <td id=\"T_0de5b_row0_col3\" class=\"data row0 col3\" >1985-2025</td>\n",
       "    </tr>\n",
       "    <tr>\n",
       "      <th id=\"T_0de5b_level0_row1\" class=\"row_heading level0 row1\" >1</th>\n",
       "      <td id=\"T_0de5b_row1_col0\" class=\"data row1 col0\" >Regular Season Detailed</td>\n",
       "      <td id=\"T_0de5b_row1_col1\" class=\"data row1 col1\" >(199757, 35)</td>\n",
       "      <td id=\"T_0de5b_row1_col2\" class=\"data row1 col2\" >35</td>\n",
       "      <td id=\"T_0de5b_row1_col3\" class=\"data row1 col3\" >2003-2025</td>\n",
       "    </tr>\n",
       "    <tr>\n",
       "      <th id=\"T_0de5b_level0_row2\" class=\"row_heading level0 row2\" >2</th>\n",
       "      <td id=\"T_0de5b_row2_col0\" class=\"data row2 col0\" >Tournament Compact</td>\n",
       "      <td id=\"T_0de5b_row2_col1\" class=\"data row2 col1\" >(4168, 9)</td>\n",
       "      <td id=\"T_0de5b_row2_col2\" class=\"data row2 col2\" >9</td>\n",
       "      <td id=\"T_0de5b_row2_col3\" class=\"data row2 col3\" >1985-2024</td>\n",
       "    </tr>\n",
       "    <tr>\n",
       "      <th id=\"T_0de5b_level0_row3\" class=\"row_heading level0 row3\" >3</th>\n",
       "      <td id=\"T_0de5b_row3_col0\" class=\"data row3 col0\" >Tournament Detailed</td>\n",
       "      <td id=\"T_0de5b_row3_col1\" class=\"data row3 col1\" >(2276, 35)</td>\n",
       "      <td id=\"T_0de5b_row3_col2\" class=\"data row3 col2\" >35</td>\n",
       "      <td id=\"T_0de5b_row3_col3\" class=\"data row3 col3\" >2003-2024</td>\n",
       "    </tr>\n",
       "  </tbody>\n",
       "</table>\n"
      ],
      "text/plain": [
       "<pandas.io.formats.style.Styler at 0x7ae9aeaf5430>"
      ]
     },
     "metadata": {},
     "output_type": "display_data"
    }
   ],
   "source": [
    "# Create a summary of the datasets\n",
    "summary = pd.DataFrame({\n",
    "    'Dataset': [\n",
    "        'Regular Season Compact',\n",
    "        'Regular Season Detailed',\n",
    "        'Tournament Compact',\n",
    "        'Tournament Detailed'\n",
    "    ],\n",
    "    'Shape': [\n",
    "        season_compact_results.shape,\n",
    "        season_detailed_results.shape,\n",
    "        tourney_compact_results.shape,\n",
    "        tourney_detailed_results.shape\n",
    "    ],\n",
    "    'Columns': [\n",
    "        len(season_compact_results.columns),\n",
    "        len(season_detailed_results.columns),\n",
    "        len(tourney_compact_results.columns),\n",
    "        len(tourney_detailed_results.columns)\n",
    "    ],\n",
    "    'Sample Years': [\n",
    "        f\"{season_compact_results['Season'].min()}-{season_compact_results['Season'].max()}\",\n",
    "        f\"{season_detailed_results['Season'].min()}-{season_detailed_results['Season'].max()}\",\n",
    "        f\"{tourney_compact_results['Season'].min()}-{tourney_compact_results['Season'].max()}\",\n",
    "        f\"{tourney_detailed_results['Season'].min()}-{tourney_detailed_results['Season'].max()}\"\n",
    "    ]\n",
    "})\n",
    "\n",
    "# Display the summary with nice formatting\n",
    "display(summary.style.set_properties(**{\n",
    "    'border-color': 'black',\n",
    "    'border-style': 'solid',\n",
    "    'border-width': '1px',\n",
    "    'text-align': 'center'\n",
    "}))\n",
    "\n",
    "# If you want to see the first few rows of each dataset, you can also do:\n",
    "# print(\"\\nSample of Regular Season Compact Results:\")\n",
    "# display(season_compact_results.head(3))\n",
    "\n",
    "# print(\"\\nSample of Regular Season Detailed Results:\")\n",
    "# display(season_detailed_results.head(3))\n",
    "\n",
    "# print(\"\\nSample of Tournament Compact Results:\")\n",
    "# display(tourney_compact_results.head(3))\n",
    "\n",
    "# print(\"\\nSample of Tournament Detailed Results:\")\n",
    "# display(tourney_detailed_results.head(3))"
   ]
  },
  {
   "cell_type": "code",
   "execution_count": 39,
   "metadata": {},
   "outputs": [],
   "source": [
    "# Load additional march madness data\n",
    "slots = pd.concat([data['MNCAATourneySlots'], data['WNCAATourneySlots']])\n",
    "seeds = pd.concat([data['MNCAATourneySeeds'], data['WNCAATourneySeeds']])\n",
    "seeds['SeedValue'] = seeds['Seed'].str.extract(r'(\\d+)').astype(int)\n",
    "seeds_dict = {'_'.join(map(str,[int(k1),k2])):int(v[1:3]) for k1, v, k2 in seeds[['Season', 'Seed', 'TeamID']].values}\n",
    "game_cities = pd.concat([data['MGameCities'], data['WGameCities']])\n",
    "seasons = pd.concat([data['MSeasons'], data['WSeasons']])\n",
    "\n",
    "# Combine all game results\n",
    "all_compact_results = pd.concat([season_compact_results, tourney_compact_results])\n",
    "all_detailed_results = pd.concat([season_detailed_results, tourney_detailed_results])\n"
   ]
  },
  {
   "cell_type": "markdown",
   "metadata": {},
   "source": [
    "## Feature Engineering\n",
    "\n"
   ]
  },
  {
   "cell_type": "code",
   "execution_count": 40,
   "metadata": {},
   "outputs": [],
   "source": [
    "# Add derived features to compact results\n",
    "all_compact_results['ScoreDiff'] = all_compact_results['WScore'] - all_compact_results['LScore']\n",
    "all_compact_results['HomeAdvantage'] = all_compact_results['WLoc'].map({'H': 1, 'N': 0, 'A': -1})\n",
    "\n",
    "# Add derived features to detaifled results\n",
    "all_detailed_results['ScoreDiff'] = all_detailed_results['WScore'] - all_detailed_results['LScore']\n",
    "all_detailed_results['HomeAdvantage'] = all_detailed_results['WLoc'].map({'H': 1, 'N': 0, 'A': -1})\n",
    "\n",
    "    # Calculate shooting percentages (handling division by zero)\n",
    "all_detailed_results['WFGPct'] = np.where(all_detailed_results['WFGA'] > 0, \n",
    "                                        all_detailed_results['WFGM'] / all_detailed_results['WFGA'], 0)\n",
    "all_detailed_results['WFG3Pct'] = np.where(all_detailed_results['WFGA3'] > 0, \n",
    "                                        all_detailed_results['WFGM3'] / all_detailed_results['WFGA3'], 0)\n",
    "all_detailed_results['WFTPct'] = np.where(all_detailed_results['WFTA'] > 0, \n",
    "                                        all_detailed_results['WFTM'] / all_detailed_results['WFTA'], 0)\n",
    "all_detailed_results['LFGPct'] = np.where(all_detailed_results['LFGA'] > 0, \n",
    "                                        all_detailed_results['LFGM'] / all_detailed_results['LFGA'], 0)\n",
    "all_detailed_results['LFG3Pct'] = np.where(all_detailed_results['LFGA3'] > 0, \n",
    "                                        all_detailed_results['LFGM3'] / all_detailed_results['LFGA3'], 0)\n",
    "all_detailed_results['LFTPct'] = np.where(all_detailed_results['LFTA'] > 0, \n",
    "                                        all_detailed_results['LFTM'] / all_detailed_results['LFTA'], 0)\n",
    "\n",
    "# Add statistical differences\n",
    "all_detailed_results['ReboundDiff'] = (all_detailed_results['WOR'] + all_detailed_results['WDR']) - \\\n",
    "                                    (all_detailed_results['LOR'] + all_detailed_results['LDR'])\n",
    "all_detailed_results['AssistDiff'] = all_detailed_results['WAst'] - all_detailed_results['LAst']\n",
    "all_detailed_results['TurnoverDiff'] = all_detailed_results['WTO'] - all_detailed_results['LTO']\n",
    "all_detailed_results['StealDiff'] = all_detailed_results['WStl'] - all_detailed_results['LStl']\n",
    "all_detailed_results['BlockDiff'] = all_detailed_results['WBlk'] - all_detailed_results['LBlk']\n",
    "all_detailed_results['FoulDiff'] = all_detailed_results['WPF'] - all_detailed_results['LPF']\n",
    "\n",
    "# Add seed information to tournament games\n",
    "tourney_compact = all_compact_results[all_compact_results['ST'] == 'T'].copy()\n",
    "tourney_detailed = all_detailed_results[all_detailed_results['ST'] == 'T'].copy()\n",
    "\n",
    "# Add winner seeds\n",
    "tourney_compact = pd.merge(\n",
    "    tourney_compact,\n",
    "    seeds[['Season', 'TeamID', 'SeedValue']],\n",
    "    how='left',\n",
    "    left_on=['Season', 'WTeamID'],\n",
    "    right_on=['Season', 'TeamID']\n",
    ")\n",
    "tourney_compact.rename(columns={'SeedValue': 'WSeedValue'}, inplace=True)\n",
    "tourney_compact.drop('TeamID', axis=1, inplace=True)\n",
    "\n",
    "tourney_detailed = pd.merge(\n",
    "    tourney_detailed,\n",
    "    seeds[['Season', 'TeamID', 'SeedValue']],\n",
    "    how='left',\n",
    "    left_on=['Season', 'WTeamID'],\n",
    "    right_on=['Season', 'TeamID']\n",
    ")\n",
    "tourney_detailed.rename(columns={'SeedValue': 'WSeedValue'}, inplace=True)\n",
    "tourney_detailed.drop('TeamID', axis=1, inplace=True)\n",
    "\n",
    "# Add loser seeds\n",
    "tourney_compact = pd.merge(\n",
    "    tourney_compact,\n",
    "    seeds[['Season', 'TeamID', 'SeedValue']],\n",
    "    how='left',\n",
    "    left_on=['Season', 'LTeamID'],\n",
    "    right_on=['Season', 'TeamID']\n",
    ")\n",
    "tourney_compact.rename(columns={'SeedValue': 'LSeedValue'}, inplace=True)\n",
    "tourney_compact.drop('TeamID', axis=1, inplace=True)\n",
    "\n",
    "tourney_detailed = pd.merge(\n",
    "    tourney_detailed,\n",
    "    seeds[['Season', 'TeamID', 'SeedValue']],\n",
    "    how='left',\n",
    "    left_on=['Season', 'LTeamID'],\n",
    "    right_on=['Season', 'TeamID']\n",
    ")\n",
    "tourney_detailed.rename(columns={'SeedValue': 'LSeedValue'}, inplace=True)\n",
    "tourney_detailed.drop('TeamID', axis=1, inplace=True)\n",
    "\n",
    "    # Calculate seed difference (lower is better in seeding, so LSeed - WSeed is positive if favorite won)\n",
    "tourney_compact['SeedDiff'] = tourney_compact['LSeedValue'] - tourney_compact['WSeedValue']\n",
    "tourney_detailed['SeedDiff'] = tourney_detailed['LSeedValue'] - tourney_detailed['WSeedValue']"
   ]
  },
  {
   "cell_type": "code",
   "execution_count": 41,
   "metadata": {},
   "outputs": [
    {
     "data": {
      "text/html": [
       "<div>\n",
       "<style scoped>\n",
       "    .dataframe tbody tr th:only-of-type {\n",
       "        vertical-align: middle;\n",
       "    }\n",
       "\n",
       "    .dataframe tbody tr th {\n",
       "        vertical-align: top;\n",
       "    }\n",
       "\n",
       "    .dataframe thead th {\n",
       "        text-align: right;\n",
       "    }\n",
       "</style>\n",
       "<table border=\"1\" class=\"dataframe\">\n",
       "  <thead>\n",
       "    <tr style=\"text-align: right;\">\n",
       "      <th></th>\n",
       "      <th>Season</th>\n",
       "      <th>DayNum</th>\n",
       "      <th>WTeamID</th>\n",
       "      <th>WScore</th>\n",
       "      <th>LTeamID</th>\n",
       "      <th>LScore</th>\n",
       "      <th>WLoc</th>\n",
       "      <th>NumOT</th>\n",
       "      <th>ST</th>\n",
       "      <th>ScoreDiff</th>\n",
       "      <th>HomeAdvantage</th>\n",
       "      <th>WSeedValue</th>\n",
       "      <th>LSeedValue</th>\n",
       "      <th>SeedDiff</th>\n",
       "    </tr>\n",
       "  </thead>\n",
       "  <tbody>\n",
       "    <tr>\n",
       "      <th>0</th>\n",
       "      <td>1985</td>\n",
       "      <td>136</td>\n",
       "      <td>1116</td>\n",
       "      <td>63</td>\n",
       "      <td>1234</td>\n",
       "      <td>54</td>\n",
       "      <td>N</td>\n",
       "      <td>0</td>\n",
       "      <td>T</td>\n",
       "      <td>9</td>\n",
       "      <td>0</td>\n",
       "      <td>9</td>\n",
       "      <td>8</td>\n",
       "      <td>-1</td>\n",
       "    </tr>\n",
       "    <tr>\n",
       "      <th>1</th>\n",
       "      <td>1985</td>\n",
       "      <td>136</td>\n",
       "      <td>1120</td>\n",
       "      <td>59</td>\n",
       "      <td>1345</td>\n",
       "      <td>58</td>\n",
       "      <td>N</td>\n",
       "      <td>0</td>\n",
       "      <td>T</td>\n",
       "      <td>1</td>\n",
       "      <td>0</td>\n",
       "      <td>11</td>\n",
       "      <td>6</td>\n",
       "      <td>-5</td>\n",
       "    </tr>\n",
       "    <tr>\n",
       "      <th>2</th>\n",
       "      <td>1985</td>\n",
       "      <td>136</td>\n",
       "      <td>1207</td>\n",
       "      <td>68</td>\n",
       "      <td>1250</td>\n",
       "      <td>43</td>\n",
       "      <td>N</td>\n",
       "      <td>0</td>\n",
       "      <td>T</td>\n",
       "      <td>25</td>\n",
       "      <td>0</td>\n",
       "      <td>1</td>\n",
       "      <td>16</td>\n",
       "      <td>15</td>\n",
       "    </tr>\n",
       "    <tr>\n",
       "      <th>3</th>\n",
       "      <td>1985</td>\n",
       "      <td>136</td>\n",
       "      <td>1229</td>\n",
       "      <td>58</td>\n",
       "      <td>1425</td>\n",
       "      <td>55</td>\n",
       "      <td>N</td>\n",
       "      <td>0</td>\n",
       "      <td>T</td>\n",
       "      <td>3</td>\n",
       "      <td>0</td>\n",
       "      <td>9</td>\n",
       "      <td>8</td>\n",
       "      <td>-1</td>\n",
       "    </tr>\n",
       "    <tr>\n",
       "      <th>4</th>\n",
       "      <td>1985</td>\n",
       "      <td>136</td>\n",
       "      <td>1242</td>\n",
       "      <td>49</td>\n",
       "      <td>1325</td>\n",
       "      <td>38</td>\n",
       "      <td>N</td>\n",
       "      <td>0</td>\n",
       "      <td>T</td>\n",
       "      <td>11</td>\n",
       "      <td>0</td>\n",
       "      <td>3</td>\n",
       "      <td>14</td>\n",
       "      <td>11</td>\n",
       "    </tr>\n",
       "  </tbody>\n",
       "</table>\n",
       "</div>"
      ],
      "text/plain": [
       "   Season  DayNum  WTeamID  WScore  LTeamID  LScore WLoc  NumOT ST  ScoreDiff  \\\n",
       "0    1985     136     1116      63     1234      54    N      0  T          9   \n",
       "1    1985     136     1120      59     1345      58    N      0  T          1   \n",
       "2    1985     136     1207      68     1250      43    N      0  T         25   \n",
       "3    1985     136     1229      58     1425      55    N      0  T          3   \n",
       "4    1985     136     1242      49     1325      38    N      0  T         11   \n",
       "\n",
       "   HomeAdvantage  WSeedValue  LSeedValue  SeedDiff  \n",
       "0              0           9           8        -1  \n",
       "1              0          11           6        -5  \n",
       "2              0           1          16        15  \n",
       "3              0           9           8        -1  \n",
       "4              0           3          14        11  "
      ]
     },
     "execution_count": 41,
     "metadata": {},
     "output_type": "execute_result"
    }
   ],
   "source": [
    "tourney_compact.head()"
   ]
  },
  {
   "cell_type": "code",
   "execution_count": 42,
   "metadata": {},
   "outputs": [
    {
     "data": {
      "text/html": [
       "<div>\n",
       "<style scoped>\n",
       "    .dataframe tbody tr th:only-of-type {\n",
       "        vertical-align: middle;\n",
       "    }\n",
       "\n",
       "    .dataframe tbody tr th {\n",
       "        vertical-align: top;\n",
       "    }\n",
       "\n",
       "    .dataframe thead th {\n",
       "        text-align: right;\n",
       "    }\n",
       "</style>\n",
       "<table border=\"1\" class=\"dataframe\">\n",
       "  <thead>\n",
       "    <tr style=\"text-align: right;\">\n",
       "      <th></th>\n",
       "      <th>Season</th>\n",
       "      <th>DayNum</th>\n",
       "      <th>WTeamID</th>\n",
       "      <th>WScore</th>\n",
       "      <th>LTeamID</th>\n",
       "      <th>LScore</th>\n",
       "      <th>WLoc</th>\n",
       "      <th>NumOT</th>\n",
       "      <th>WFGM</th>\n",
       "      <th>WFGA</th>\n",
       "      <th>...</th>\n",
       "      <th>LFTPct</th>\n",
       "      <th>ReboundDiff</th>\n",
       "      <th>AssistDiff</th>\n",
       "      <th>TurnoverDiff</th>\n",
       "      <th>StealDiff</th>\n",
       "      <th>BlockDiff</th>\n",
       "      <th>FoulDiff</th>\n",
       "      <th>WSeedValue</th>\n",
       "      <th>LSeedValue</th>\n",
       "      <th>SeedDiff</th>\n",
       "    </tr>\n",
       "  </thead>\n",
       "  <tbody>\n",
       "    <tr>\n",
       "      <th>0</th>\n",
       "      <td>2003</td>\n",
       "      <td>134</td>\n",
       "      <td>1421</td>\n",
       "      <td>92</td>\n",
       "      <td>1411</td>\n",
       "      <td>84</td>\n",
       "      <td>N</td>\n",
       "      <td>1</td>\n",
       "      <td>32</td>\n",
       "      <td>69</td>\n",
       "      <td>...</td>\n",
       "      <td>0.451613</td>\n",
       "      <td>-1</td>\n",
       "      <td>1</td>\n",
       "      <td>-3</td>\n",
       "      <td>0</td>\n",
       "      <td>3</td>\n",
       "      <td>0</td>\n",
       "      <td>16</td>\n",
       "      <td>16</td>\n",
       "      <td>0</td>\n",
       "    </tr>\n",
       "    <tr>\n",
       "      <th>1</th>\n",
       "      <td>2003</td>\n",
       "      <td>136</td>\n",
       "      <td>1112</td>\n",
       "      <td>80</td>\n",
       "      <td>1436</td>\n",
       "      <td>51</td>\n",
       "      <td>N</td>\n",
       "      <td>0</td>\n",
       "      <td>31</td>\n",
       "      <td>66</td>\n",
       "      <td>...</td>\n",
       "      <td>1.000000</td>\n",
       "      <td>13</td>\n",
       "      <td>10</td>\n",
       "      <td>-1</td>\n",
       "      <td>0</td>\n",
       "      <td>4</td>\n",
       "      <td>-7</td>\n",
       "      <td>1</td>\n",
       "      <td>16</td>\n",
       "      <td>15</td>\n",
       "    </tr>\n",
       "    <tr>\n",
       "      <th>2</th>\n",
       "      <td>2003</td>\n",
       "      <td>136</td>\n",
       "      <td>1113</td>\n",
       "      <td>84</td>\n",
       "      <td>1272</td>\n",
       "      <td>71</td>\n",
       "      <td>N</td>\n",
       "      <td>0</td>\n",
       "      <td>31</td>\n",
       "      <td>59</td>\n",
       "      <td>...</td>\n",
       "      <td>0.666667</td>\n",
       "      <td>-5</td>\n",
       "      <td>7</td>\n",
       "      <td>-3</td>\n",
       "      <td>5</td>\n",
       "      <td>-1</td>\n",
       "      <td>1</td>\n",
       "      <td>10</td>\n",
       "      <td>7</td>\n",
       "      <td>-3</td>\n",
       "    </tr>\n",
       "    <tr>\n",
       "      <th>3</th>\n",
       "      <td>2003</td>\n",
       "      <td>136</td>\n",
       "      <td>1141</td>\n",
       "      <td>79</td>\n",
       "      <td>1166</td>\n",
       "      <td>73</td>\n",
       "      <td>N</td>\n",
       "      <td>0</td>\n",
       "      <td>29</td>\n",
       "      <td>53</td>\n",
       "      <td>...</td>\n",
       "      <td>0.705882</td>\n",
       "      <td>0</td>\n",
       "      <td>-5</td>\n",
       "      <td>-3</td>\n",
       "      <td>7</td>\n",
       "      <td>-5</td>\n",
       "      <td>-2</td>\n",
       "      <td>11</td>\n",
       "      <td>6</td>\n",
       "      <td>-5</td>\n",
       "    </tr>\n",
       "    <tr>\n",
       "      <th>4</th>\n",
       "      <td>2003</td>\n",
       "      <td>136</td>\n",
       "      <td>1143</td>\n",
       "      <td>76</td>\n",
       "      <td>1301</td>\n",
       "      <td>74</td>\n",
       "      <td>N</td>\n",
       "      <td>1</td>\n",
       "      <td>27</td>\n",
       "      <td>64</td>\n",
       "      <td>...</td>\n",
       "      <td>0.750000</td>\n",
       "      <td>2</td>\n",
       "      <td>1</td>\n",
       "      <td>-1</td>\n",
       "      <td>3</td>\n",
       "      <td>-6</td>\n",
       "      <td>-5</td>\n",
       "      <td>8</td>\n",
       "      <td>9</td>\n",
       "      <td>1</td>\n",
       "    </tr>\n",
       "  </tbody>\n",
       "</table>\n",
       "<p>5 rows × 52 columns</p>\n",
       "</div>"
      ],
      "text/plain": [
       "   Season  DayNum  WTeamID  WScore  LTeamID  LScore WLoc  NumOT  WFGM  WFGA  \\\n",
       "0    2003     134     1421      92     1411      84    N      1    32    69   \n",
       "1    2003     136     1112      80     1436      51    N      0    31    66   \n",
       "2    2003     136     1113      84     1272      71    N      0    31    59   \n",
       "3    2003     136     1141      79     1166      73    N      0    29    53   \n",
       "4    2003     136     1143      76     1301      74    N      1    27    64   \n",
       "\n",
       "   ...    LFTPct  ReboundDiff  AssistDiff  TurnoverDiff  StealDiff  BlockDiff  \\\n",
       "0  ...  0.451613           -1           1            -3          0          3   \n",
       "1  ...  1.000000           13          10            -1          0          4   \n",
       "2  ...  0.666667           -5           7            -3          5         -1   \n",
       "3  ...  0.705882            0          -5            -3          7         -5   \n",
       "4  ...  0.750000            2           1            -1          3         -6   \n",
       "\n",
       "   FoulDiff  WSeedValue  LSeedValue  SeedDiff  \n",
       "0         0          16          16         0  \n",
       "1        -7           1          16        15  \n",
       "2         1          10           7        -3  \n",
       "3        -2          11           6        -5  \n",
       "4        -5           8           9         1  \n",
       "\n",
       "[5 rows x 52 columns]"
      ]
     },
     "execution_count": 42,
     "metadata": {},
     "output_type": "execute_result"
    }
   ],
   "source": [
    "tourney_detailed.head()"
   ]
  },
  {
   "cell_type": "markdown",
   "metadata": {},
   "source": [
    "## Data Visualization"
   ]
  },
  {
   "cell_type": "markdown",
   "metadata": {},
   "source": [
    "### Winning Distribution by Seed Matchup\n",
    "\n",
    "By plotting the winning distribution by seed matchup, we can see a couple of patterns that arise form the data.\n",
    "\n",
    "1. Strong diagonal pattern that highlights tournament structure and favorites to win.\n",
    "   - The first three vs the last three seeds are some of the most common matchups, usually favoring the higher seed.\n",
    "   - The higher seeds are more likely to win, and the lower seeds are more likely to lose during these matchups.\n",
    "   - This pattern gradualy fades as you approach the middle seeds, where the favorite is not as likely to win.\n",
    "2. The Tournament progression ends up creating distinct patterns.\n",
    "   - High numbers at positions like (1,8), (1,9), (2,7), (2,10) show that top seeds often face mid-seeds in later rounds\n",
    "   - The cells at (1,4), (1,5), (2,3) have substantial numbers, indicating these high-seed matchups frequently occur in later stages\n",
    "   - The relative emptiness in many regions (especially the bottom right) shows that certain matchups almost never happen due to bracket structure\n"
   ]
  },
  {
   "cell_type": "code",
   "execution_count": 43,
   "metadata": {},
   "outputs": [
    {
     "data": {
      "image/png": "[encoded data removed]",
      "text/plain": [
       "<Figure size 1200x1000 with 2 Axes>"
      ]
     },
     "metadata": {},
     "output_type": "display_data"
    }
   ],
   "source": [
    "win_matrix = pd.crosstab(\n",
    "    index=tourney_compact['LSeedValue'],\n",
    "    columns=tourney_compact['WSeedValue']\n",
    ").fillna(0)\n",
    "\n",
    "# Create heatmap\n",
    "plt.figure(figsize=(12, 10))\n",
    "sns.heatmap(win_matrix, annot=True, fmt='.0f', cmap='YlOrRd')\n",
    "plt.title('Tournament Win Distribution by Seed Matchup')\n",
    "plt.xlabel('Winning Seed')\n",
    "plt.ylabel('Losing Seed')\n",
    "plt.show()\n",
    "\n"
   ]
  },
  {
   "cell_type": "code",
   "execution_count": 44,
   "metadata": {},
   "outputs": [
    {
     "data": {
      "application/vnd.plotly.v1+json": {
       "config": {
        "plotlyServerURL": "https://plot.ly"
       },
       "data": [
        {
         "alignmentgroup": "True",
         "hovertemplate": "Seed=%{x}<br>Number of Wins=%{y}<br>Upset=%{marker.color}<extra></extra>",
         "legendgroup": "",
         "marker": {
          "color": [
           0,
           57,
           70,
           47,
           93,
           74,
           63,
           35,
           149,
           128,
           145,
           95,
           47,
           25,
           16,
           3
          ],
          "coloraxis": "coloraxis",
          "pattern": {
           "shape": ""
          }
         },
         "name": "",
         "offsetgroup": "",
         "orientation": "v",
         "showlegend": false,
         "textposition": "auto",
         "type": "bar",
         "x": [
          1,
          2,
          3,
          4,
          5,
          6,
          7,
          8,
          9,
          10,
          11,
          12,
          13,
          14,
          15,
          16
         ],
         "xaxis": "x",
         "y": [
          915,
          641,
          509,
          424,
          308,
          263,
          231,
          167,
          153,
          138,
          175,
          109,
          48,
          26,
          16,
          45
         ],
         "yaxis": "y"
        }
       ],
       "layout": {
        "barmode": "relative",
        "coloraxis": {
         "colorbar": {
          "title": {
           "text": "Upset"
          }
         },
         "colorscale": [
          [
           0,
           "#440154"
          ],
          [
           0.1111111111111111,
           "#482878"
          ],
          [
           0.2222222222222222,
           "#3e4989"
          ],
          [
           0.3333333333333333,
           "#31688e"
          ],
          [
           0.4444444444444444,
           "#26828e"
          ],
          [
           0.5555555555555556,
           "#1f9e89"
          ],
          [
           0.6666666666666666,
           "#35b779"
          ],
          [
           0.7777777777777778,
           "#6ece58"
          ],
          [
           0.8888888888888888,
           "#b5de2b"
          ],
          [
           1,
           "#fde725"
          ]
         ]
        },
        "legend": {
         "tracegroupgap": 0
        },
        "template": {
         "data": {
          "bar": [
           {
            "error_x": {
             "color": "#f2f5fa"
            },
            "error_y": {
             "color": "#f2f5fa"
            },
            "marker": {
             "line": {
              "color": "rgb(17,17,17)",
              "width": 0.5
             },
             "pattern": {
              "fillmode": "overlay",
              "size": 10,
              "solidity": 0.2
             }
            },
            "type": "bar"
           }
          ],
          "barpolar": [
           {
            "marker": {
             "line": {
              "color": "rgb(17,17,17)",
              "width": 0.5
             },
             "pattern": {
              "fillmode": "overlay",
              "size": 10,
              "solidity": 0.2
             }
            },
            "type": "barpolar"
           }
          ],
          "carpet": [
           {
            "aaxis": {
             "endlinecolor": "#A2B1C6",
             "gridcolor": "#506784",
             "linecolor": "#506784",
             "minorgridcolor": "#506784",
             "startlinecolor": "#A2B1C6"
            },
            "baxis": {
             "endlinecolor": "#A2B1C6",
             "gridcolor": "#506784",
             "linecolor": "#506784",
             "minorgridcolor": "#506784",
             "startlinecolor": "#A2B1C6"
            },
            "type": "carpet"
           }
          ],
          "choropleth": [
           {
            "colorbar": {
             "outlinewidth": 0,
             "ticks": ""
            },
            "type": "choropleth"
           }
          ],
          "contour": [
           {
            "colorbar": {
             "outlinewidth": 0,
             "ticks": ""
            },
            "colorscale": [
             [
              0,
              "#0d0887"
             ],
             [
              0.1111111111111111,
              "#46039f"
             ],
             [
              0.2222222222222222,
              "#7201a8"
             ],
             [
              0.3333333333333333,
              "#9c179e"
             ],
             [
              0.4444444444444444,
              "#bd3786"
             ],
             [
              0.5555555555555556,
              "#d8576b"
             ],
             [
              0.6666666666666666,
              "#ed7953"
             ],
             [
              0.7777777777777778,
              "#fb9f3a"
             ],
             [
              0.8888888888888888,
              "#fdca26"
             ],
             [
              1,
              "#f0f921"
             ]
            ],
            "type": "contour"
           }
          ],
          "contourcarpet": [
           {
            "colorbar": {
             "outlinewidth": 0,
             "ticks": ""
            },
            "type": "contourcarpet"
           }
          ],
          "heatmap": [
           {
            "colorbar": {
             "outlinewidth": 0,
             "ticks": ""
            },
            "colorscale": [
             [
              0,
              "#0d0887"
             ],
             [
              0.1111111111111111,
              "#46039f"
             ],
             [
              0.2222222222222222,
              "#7201a8"
             ],
             [
              0.3333333333333333,
              "#9c179e"
             ],
             [
              0.4444444444444444,
              "#bd3786"
             ],
             [
              0.5555555555555556,
              "#d8576b"
             ],
             [
              0.6666666666666666,
              "#ed7953"
             ],
             [
              0.7777777777777778,
              "#fb9f3a"
             ],
             [
              0.8888888888888888,
              "#fdca26"
             ],
             [
              1,
              "#f0f921"
             ]
            ],
            "type": "heatmap"
           }
          ],
          "heatmapgl": [
           {
            "colorbar": {
             "outlinewidth": 0,
             "ticks": ""
            },
            "colorscale": [
             [
              0,
              "#0d0887"
             ],
             [
              0.1111111111111111,
              "#46039f"
             ],
             [
              0.2222222222222222,
              "#7201a8"
             ],
             [
              0.3333333333333333,
              "#9c179e"
             ],
             [
              0.4444444444444444,
              "#bd3786"
             ],
             [
              0.5555555555555556,
              "#d8576b"
             ],
             [
              0.6666666666666666,
              "#ed7953"
             ],
             [
              0.7777777777777778,
              "#fb9f3a"
             ],
             [
              0.8888888888888888,
              "#fdca26"
             ],
             [
              1,
              "#f0f921"
             ]
            ],
            "type": "heatmapgl"
           }
          ],
          "histogram": [
           {
            "marker": {
             "pattern": {
              "fillmode": "overlay",
              "size": 10,
              "solidity": 0.2
             }
            },
            "type": "histogram"
           }
          ],
          "histogram2d": [
           {
            "colorbar": {
             "outlinewidth": 0,
             "ticks": ""
            },
            "colorscale": [
             [
              0,
              "#0d0887"
             ],
             [
              0.1111111111111111,
              "#46039f"
             ],
             [
              0.2222222222222222,
              "#7201a8"
             ],
             [
              0.3333333333333333,
              "#9c179e"
             ],
             [
              0.4444444444444444,
              "#bd3786"
             ],
             [
              0.5555555555555556,
              "#d8576b"
             ],
             [
              0.6666666666666666,
              "#ed7953"
             ],
             [
              0.7777777777777778,
              "#fb9f3a"
             ],
             [
              0.8888888888888888,
              "#fdca26"
             ],
             [
              1,
              "#f0f921"
             ]
            ],
            "type": "histogram2d"
           }
          ],
          "histogram2dcontour": [
           {
            "colorbar": {
             "outlinewidth": 0,
             "ticks": ""
            },
            "colorscale": [
             [
              0,
              "#0d0887"
             ],
             [
              0.1111111111111111,
              "#46039f"
             ],
             [
              0.2222222222222222,
              "#7201a8"
             ],
             [
              0.3333333333333333,
              "#9c179e"
             ],
             [
              0.4444444444444444,
              "#bd3786"
             ],
             [
              0.5555555555555556,
              "#d8576b"
             ],
             [
              0.6666666666666666,
              "#ed7953"
             ],
             [
              0.7777777777777778,
              "#fb9f3a"
             ],
             [
              0.8888888888888888,
              "#fdca26"
             ],
             [
              1,
              "#f0f921"
             ]
            ],
            "type": "histogram2dcontour"
           }
          ],
          "mesh3d": [
           {
            "colorbar": {
             "outlinewidth": 0,
             "ticks": ""
            },
            "type": "mesh3d"
           }
          ],
          "parcoords": [
           {
            "line": {
             "colorbar": {
              "outlinewidth": 0,
              "ticks": ""
             }
            },
            "type": "parcoords"
           }
          ],
          "pie": [
           {
            "automargin": true,
            "type": "pie"
           }
          ],
          "scatter": [
           {
            "marker": {
             "line": {
              "color": "#283442"
             }
            },
            "type": "scatter"
           }
          ],
          "scatter3d": [
           {
            "line": {
             "colorbar": {
              "outlinewidth": 0,
              "ticks": ""
             }
            },
            "marker": {
             "colorbar": {
              "outlinewidth": 0,
              "ticks": ""
             }
            },
            "type": "scatter3d"
           }
          ],
          "scattercarpet": [
           {
            "marker": {
             "colorbar": {
              "outlinewidth": 0,
              "ticks": ""
             }
            },
            "type": "scattercarpet"
           }
          ],
          "scattergeo": [
           {
            "marker": {
             "colorbar": {
              "outlinewidth": 0,
              "ticks": ""
             }
            },
            "type": "scattergeo"
           }
          ],
          "scattergl": [
           {
            "marker": {
             "line": {
              "color": "#283442"
             }
            },
            "type": "scattergl"
           }
          ],
          "scattermapbox": [
           {
            "marker": {
             "colorbar": {
              "outlinewidth": 0,
              "ticks": ""
             }
            },
            "type": "scattermapbox"
           }
          ],
          "scatterpolar": [
           {
            "marker": {
             "colorbar": {
              "outlinewidth": 0,
              "ticks": ""
             }
            },
            "type": "scatterpolar"
           }
          ],
          "scatterpolargl": [
           {
            "marker": {
             "colorbar": {
              "outlinewidth": 0,
              "ticks": ""
             }
            },
            "type": "scatterpolargl"
           }
          ],
          "scatterternary": [
           {
            "marker": {
             "colorbar": {
              "outlinewidth": 0,
              "ticks": ""
             }
            },
            "type": "scatterternary"
           }
          ],
          "surface": [
           {
            "colorbar": {
             "outlinewidth": 0,
             "ticks": ""
            },
            "colorscale": [
             [
              0,
              "#0d0887"
             ],
             [
              0.1111111111111111,
              "#46039f"
             ],
             [
              0.2222222222222222,
              "#7201a8"
             ],
             [
              0.3333333333333333,
              "#9c179e"
             ],
             [
              0.4444444444444444,
              "#bd3786"
             ],
             [
              0.5555555555555556,
              "#d8576b"
             ],
             [
              0.6666666666666666,
              "#ed7953"
             ],
             [
              0.7777777777777778,
              "#fb9f3a"
             ],
             [
              0.8888888888888888,
              "#fdca26"
             ],
             [
              1,
              "#f0f921"
             ]
            ],
            "type": "surface"
           }
          ],
          "table": [
           {
            "cells": {
             "fill": {
              "color": "#506784"
             },
             "line": {
              "color": "rgb(17,17,17)"
             }
            },
            "header": {
             "fill": {
              "color": "#2a3f5f"
             },
             "line": {
              "color": "rgb(17,17,17)"
             }
            },
            "type": "table"
           }
          ]
         },
         "layout": {
          "annotationdefaults": {
           "arrowcolor": "#f2f5fa",
           "arrowhead": 0,
           "arrowwidth": 1
          },
          "autotypenumbers": "strict",
          "coloraxis": {
           "colorbar": {
            "outlinewidth": 0,
            "ticks": ""
           }
          },
          "colorscale": {
           "diverging": [
            [
             0,
             "#8e0152"
            ],
            [
             0.1,
             "#c51b7d"
            ],
            [
             0.2,
             "#de77ae"
            ],
            [
             0.3,
             "#f1b6da"
            ],
            [
             0.4,
             "#fde0ef"
            ],
            [
             0.5,
             "#f7f7f7"
            ],
            [
             0.6,
             "#e6f5d0"
            ],
            [
             0.7,
             "#b8e186"
            ],
            [
             0.8,
             "#7fbc41"
            ],
            [
             0.9,
             "#4d9221"
            ],
            [
             1,
             "#276419"
            ]
           ],
           "sequential": [
            [
             0,
             "#0d0887"
            ],
            [
             0.1111111111111111,
             "#46039f"
            ],
            [
             0.2222222222222222,
             "#7201a8"
            ],
            [
             0.3333333333333333,
             "#9c179e"
            ],
            [
             0.4444444444444444,
             "#bd3786"
            ],
            [
             0.5555555555555556,
             "#d8576b"
            ],
            [
             0.6666666666666666,
             "#ed7953"
            ],
            [
             0.7777777777777778,
             "#fb9f3a"
            ],
            [
             0.8888888888888888,
             "#fdca26"
            ],
            [
             1,
             "#f0f921"
            ]
           ],
           "sequentialminus": [
            [
             0,
             "#0d0887"
            ],
            [
             0.1111111111111111,
             "#46039f"
            ],
            [
             0.2222222222222222,
             "#7201a8"
            ],
            [
             0.3333333333333333,
             "#9c179e"
            ],
            [
             0.4444444444444444,
             "#bd3786"
            ],
            [
             0.5555555555555556,
             "#d8576b"
            ],
            [
             0.6666666666666666,
             "#ed7953"
            ],
            [
             0.7777777777777778,
             "#fb9f3a"
            ],
            [
             0.8888888888888888,
             "#fdca26"
            ],
            [
             1,
             "#f0f921"
            ]
           ]
          },
          "colorway": [
           "#636efa",
           "#EF553B",
           "#00cc96",
           "#ab63fa",
           "#FFA15A",
           "#19d3f3",
           "#FF6692",
           "#B6E880",
           "#FF97FF",
           "#FECB52"
          ],
          "font": {
           "color": "#f2f5fa"
          },
          "geo": {
           "bgcolor": "rgb(17,17,17)",
           "lakecolor": "rgb(17,17,17)",
           "landcolor": "rgb(17,17,17)",
           "showlakes": true,
           "showland": true,
           "subunitcolor": "#506784"
          },
          "hoverlabel": {
           "align": "left"
          },
          "hovermode": "closest",
          "mapbox": {
           "style": "dark"
          },
          "paper_bgcolor": "rgb(17,17,17)",
          "plot_bgcolor": "rgb(17,17,17)",
          "polar": {
           "angularaxis": {
            "gridcolor": "#506784",
            "linecolor": "#506784",
            "ticks": ""
           },
           "bgcolor": "rgb(17,17,17)",
           "radialaxis": {
            "gridcolor": "#506784",
            "linecolor": "#506784",
            "ticks": ""
           }
          },
          "scene": {
           "xaxis": {
            "backgroundcolor": "rgb(17,17,17)",
            "gridcolor": "#506784",
            "gridwidth": 2,
            "linecolor": "#506784",
            "showbackground": true,
            "ticks": "",
            "zerolinecolor": "#C8D4E3"
           },
           "yaxis": {
            "backgroundcolor": "rgb(17,17,17)",
            "gridcolor": "#506784",
            "gridwidth": 2,
            "linecolor": "#506784",
            "showbackground": true,
            "ticks": "",
            "zerolinecolor": "#C8D4E3"
           },
           "zaxis": {
            "backgroundcolor": "rgb(17,17,17)",
            "gridcolor": "#506784",
            "gridwidth": 2,
            "linecolor": "#506784",
            "showbackground": true,
            "ticks": "",
            "zerolinecolor": "#C8D4E3"
           }
          },
          "shapedefaults": {
           "line": {
            "color": "#f2f5fa"
           }
          },
          "sliderdefaults": {
           "bgcolor": "#C8D4E3",
           "bordercolor": "rgb(17,17,17)",
           "borderwidth": 1,
           "tickwidth": 0
          },
          "ternary": {
           "aaxis": {
            "gridcolor": "#506784",
            "linecolor": "#506784",
            "ticks": ""
           },
           "baxis": {
            "gridcolor": "#506784",
            "linecolor": "#506784",
            "ticks": ""
           },
           "bgcolor": "rgb(17,17,17)",
           "caxis": {
            "gridcolor": "#506784",
            "linecolor": "#506784",
            "ticks": ""
           }
          },
          "title": {
           "x": 0.05
          },
          "updatemenudefaults": {
           "bgcolor": "#506784",
           "borderwidth": 0
          },
          "xaxis": {
           "automargin": true,
           "gridcolor": "#283442",
           "linecolor": "#506784",
           "ticks": "",
           "title": {
            "standoff": 15
           },
           "zerolinecolor": "#283442",
           "zerolinewidth": 2
          },
          "yaxis": {
           "automargin": true,
           "gridcolor": "#283442",
           "linecolor": "#506784",
           "ticks": "",
           "title": {
            "standoff": 15
           },
           "zerolinecolor": "#283442",
           "zerolinewidth": 2
          }
         }
        },
        "title": {
         "text": "Tournament Wins by Seed (1985-2024)"
        },
        "xaxis": {
         "anchor": "y",
         "domain": [
          0,
          1
         ],
         "title": {
          "text": "Seed"
         }
        },
        "yaxis": {
         "anchor": "x",
         "domain": [
          0,
          1
         ],
         "title": {
          "text": "Number of Wins"
         }
        }
       }
      }
     },
     "metadata": {},
     "output_type": "display_data"
    }
   ],
   "source": [
    "seed_performance = tourney_compact.copy()\n",
    "seed_performance['Upset'] = seed_performance['WSeedValue'] > seed_performance['LSeedValue']\n",
    "\n",
    "# Group by seed and calculate win percentage\n",
    "seed_stats = seed_performance.groupby('WSeedValue').agg({\n",
    "    'Season': 'count',  # Total wins by this seed\n",
    "    'Upset': 'sum'      # Number of upsets by this seed\n",
    "}).rename(columns={'Season': 'Wins'})\n",
    "\n",
    "# Add visualization\n",
    "fig = px.bar(seed_stats, x=seed_stats.index, y='Wins', \n",
    "             title='Tournament Wins by Seed (1985-2024)',\n",
    "             labels={'WSeedValue': 'Seed', 'Wins': 'Number of Wins'},\n",
    "             color='Upset', color_continuous_scale='Viridis')\n",
    "fig.update_layout(xaxis_title='Seed', yaxis_title='Number of Wins')\n",
    "fig.show()"
   ]
  },
  {
   "cell_type": "code",
   "execution_count": 45,
   "metadata": {},
   "outputs": [
    {
     "name": "stderr",
     "output_type": "stream",
     "text": [
      "/tmp/ipykernel_64853/2809580115.py:8: FutureWarning:\n",
      "\n",
      "The default of observed=False is deprecated and will be changed to True in a future version of pandas. Pass observed=False to retain current behavior or observed=True to adopt the future default and silence this warning.\n",
      "\n",
      "/tmp/ipykernel_64853/2809580115.py:9: FutureWarning:\n",
      "\n",
      "The default of observed=False is deprecated and will be changed to True in a future version of pandas. Pass observed=False to retain current behavior or observed=True to adopt the future default and silence this warning.\n",
      "\n"
     ]
    },
    {
     "data": {
      "application/vnd.plotly.v1+json": {
       "config": {
        "plotlyServerURL": "https://plot.ly"
       },
       "data": [
        {
         "hovertemplate": "Seed Differential=%{x}<br>Upset Probability=%{y}<extra></extra>",
         "legendgroup": "",
         "line": {
          "color": "#636efa",
          "dash": "solid"
         },
         "marker": {
          "symbol": "circle"
         },
         "mode": "markers+lines",
         "name": "",
         "orientation": "v",
         "showlegend": false,
         "type": "scatter",
         "x": [
          "-1-1",
          "11-16",
          "2-5",
          "6-10"
         ],
         "xaxis": "x",
         "y": [
          0,
          0.051470588235294115,
          0.40571049136786186,
          0.2980332829046899
         ],
         "yaxis": "y"
        }
       ],
       "layout": {
        "legend": {
         "tracegroupgap": 0
        },
        "template": {
         "data": {
          "bar": [
           {
            "error_x": {
             "color": "#f2f5fa"
            },
            "error_y": {
             "color": "#f2f5fa"
            },
            "marker": {
             "line": {
              "color": "rgb(17,17,17)",
              "width": 0.5
             },
             "pattern": {
              "fillmode": "overlay",
              "size": 10,
              "solidity": 0.2
             }
            },
            "type": "bar"
           }
          ],
          "barpolar": [
           {
            "marker": {
             "line": {
              "color": "rgb(17,17,17)",
              "width": 0.5
             },
             "pattern": {
              "fillmode": "overlay",
              "size": 10,
              "solidity": 0.2
             }
            },
            "type": "barpolar"
           }
          ],
          "carpet": [
           {
            "aaxis": {
             "endlinecolor": "#A2B1C6",
             "gridcolor": "#506784",
             "linecolor": "#506784",
             "minorgridcolor": "#506784",
             "startlinecolor": "#A2B1C6"
            },
            "baxis": {
             "endlinecolor": "#A2B1C6",
             "gridcolor": "#506784",
             "linecolor": "#506784",
             "minorgridcolor": "#506784",
             "startlinecolor": "#A2B1C6"
            },
            "type": "carpet"
           }
          ],
          "choropleth": [
           {
            "colorbar": {
             "outlinewidth": 0,
             "ticks": ""
            },
            "type": "choropleth"
           }
          ],
          "contour": [
           {
            "colorbar": {
             "outlinewidth": 0,
             "ticks": ""
            },
            "colorscale": [
             [
              0,
              "#0d0887"
             ],
             [
              0.1111111111111111,
              "#46039f"
             ],
             [
              0.2222222222222222,
              "#7201a8"
             ],
             [
              0.3333333333333333,
              "#9c179e"
             ],
             [
              0.4444444444444444,
              "#bd3786"
             ],
             [
              0.5555555555555556,
              "#d8576b"
             ],
             [
              0.6666666666666666,
              "#ed7953"
             ],
             [
              0.7777777777777778,
              "#fb9f3a"
             ],
             [
              0.8888888888888888,
              "#fdca26"
             ],
             [
              1,
              "#f0f921"
             ]
            ],
            "type": "contour"
           }
          ],
          "contourcarpet": [
           {
            "colorbar": {
             "outlinewidth": 0,
             "ticks": ""
            },
            "type": "contourcarpet"
           }
          ],
          "heatmap": [
           {
            "colorbar": {
             "outlinewidth": 0,
             "ticks": ""
            },
            "colorscale": [
             [
              0,
              "#0d0887"
             ],
             [
              0.1111111111111111,
              "#46039f"
             ],
             [
              0.2222222222222222,
              "#7201a8"
             ],
             [
              0.3333333333333333,
              "#9c179e"
             ],
             [
              0.4444444444444444,
              "#bd3786"
             ],
             [
              0.5555555555555556,
              "#d8576b"
             ],
             [
              0.6666666666666666,
              "#ed7953"
             ],
             [
              0.7777777777777778,
              "#fb9f3a"
             ],
             [
              0.8888888888888888,
              "#fdca26"
             ],
             [
              1,
              "#f0f921"
             ]
            ],
            "type": "heatmap"
           }
          ],
          "heatmapgl": [
           {
            "colorbar": {
             "outlinewidth": 0,
             "ticks": ""
            },
            "colorscale": [
             [
              0,
              "#0d0887"
             ],
             [
              0.1111111111111111,
              "#46039f"
             ],
             [
              0.2222222222222222,
              "#7201a8"
             ],
             [
              0.3333333333333333,
              "#9c179e"
             ],
             [
              0.4444444444444444,
              "#bd3786"
             ],
             [
              0.5555555555555556,
              "#d8576b"
             ],
             [
              0.6666666666666666,
              "#ed7953"
             ],
             [
              0.7777777777777778,
              "#fb9f3a"
             ],
             [
              0.8888888888888888,
              "#fdca26"
             ],
             [
              1,
              "#f0f921"
             ]
            ],
            "type": "heatmapgl"
           }
          ],
          "histogram": [
           {
            "marker": {
             "pattern": {
              "fillmode": "overlay",
              "size": 10,
              "solidity": 0.2
             }
            },
            "type": "histogram"
           }
          ],
          "histogram2d": [
           {
            "colorbar": {
             "outlinewidth": 0,
             "ticks": ""
            },
            "colorscale": [
             [
              0,
              "#0d0887"
             ],
             [
              0.1111111111111111,
              "#46039f"
             ],
             [
              0.2222222222222222,
              "#7201a8"
             ],
             [
              0.3333333333333333,
              "#9c179e"
             ],
             [
              0.4444444444444444,
              "#bd3786"
             ],
             [
              0.5555555555555556,
              "#d8576b"
             ],
             [
              0.6666666666666666,
              "#ed7953"
             ],
             [
              0.7777777777777778,
              "#fb9f3a"
             ],
             [
              0.8888888888888888,
              "#fdca26"
             ],
             [
              1,
              "#f0f921"
             ]
            ],
            "type": "histogram2d"
           }
          ],
          "histogram2dcontour": [
           {
            "colorbar": {
             "outlinewidth": 0,
             "ticks": ""
            },
            "colorscale": [
             [
              0,
              "#0d0887"
             ],
             [
              0.1111111111111111,
              "#46039f"
             ],
             [
              0.2222222222222222,
              "#7201a8"
             ],
             [
              0.3333333333333333,
              "#9c179e"
             ],
             [
              0.4444444444444444,
              "#bd3786"
             ],
             [
              0.5555555555555556,
              "#d8576b"
             ],
             [
              0.6666666666666666,
              "#ed7953"
             ],
             [
              0.7777777777777778,
              "#fb9f3a"
             ],
             [
              0.8888888888888888,
              "#fdca26"
             ],
             [
              1,
              "#f0f921"
             ]
            ],
            "type": "histogram2dcontour"
           }
          ],
          "mesh3d": [
           {
            "colorbar": {
             "outlinewidth": 0,
             "ticks": ""
            },
            "type": "mesh3d"
           }
          ],
          "parcoords": [
           {
            "line": {
             "colorbar": {
              "outlinewidth": 0,
              "ticks": ""
             }
            },
            "type": "parcoords"
           }
          ],
          "pie": [
           {
            "automargin": true,
            "type": "pie"
           }
          ],
          "scatter": [
           {
            "marker": {
             "line": {
              "color": "#283442"
             }
            },
            "type": "scatter"
           }
          ],
          "scatter3d": [
           {
            "line": {
             "colorbar": {
              "outlinewidth": 0,
              "ticks": ""
             }
            },
            "marker": {
             "colorbar": {
              "outlinewidth": 0,
              "ticks": ""
             }
            },
            "type": "scatter3d"
           }
          ],
          "scattercarpet": [
           {
            "marker": {
             "colorbar": {
              "outlinewidth": 0,
              "ticks": ""
             }
            },
            "type": "scattercarpet"
           }
          ],
          "scattergeo": [
           {
            "marker": {
             "colorbar": {
              "outlinewidth": 0,
              "ticks": ""
             }
            },
            "type": "scattergeo"
           }
          ],
          "scattergl": [
           {
            "marker": {
             "line": {
              "color": "#283442"
             }
            },
            "type": "scattergl"
           }
          ],
          "scattermapbox": [
           {
            "marker": {
             "colorbar": {
              "outlinewidth": 0,
              "ticks": ""
             }
            },
            "type": "scattermapbox"
           }
          ],
          "scatterpolar": [
           {
            "marker": {
             "colorbar": {
              "outlinewidth": 0,
              "ticks": ""
             }
            },
            "type": "scatterpolar"
           }
          ],
          "scatterpolargl": [
           {
            "marker": {
             "colorbar": {
              "outlinewidth": 0,
              "ticks": ""
             }
            },
            "type": "scatterpolargl"
           }
          ],
          "scatterternary": [
           {
            "marker": {
             "colorbar": {
              "outlinewidth": 0,
              "ticks": ""
             }
            },
            "type": "scatterternary"
           }
          ],
          "surface": [
           {
            "colorbar": {
             "outlinewidth": 0,
             "ticks": ""
            },
            "colorscale": [
             [
              0,
              "#0d0887"
             ],
             [
              0.1111111111111111,
              "#46039f"
             ],
             [
              0.2222222222222222,
              "#7201a8"
             ],
             [
              0.3333333333333333,
              "#9c179e"
             ],
             [
              0.4444444444444444,
              "#bd3786"
             ],
             [
              0.5555555555555556,
              "#d8576b"
             ],
             [
              0.6666666666666666,
              "#ed7953"
             ],
             [
              0.7777777777777778,
              "#fb9f3a"
             ],
             [
              0.8888888888888888,
              "#fdca26"
             ],
             [
              1,
              "#f0f921"
             ]
            ],
            "type": "surface"
           }
          ],
          "table": [
           {
            "cells": {
             "fill": {
              "color": "#506784"
             },
             "line": {
              "color": "rgb(17,17,17)"
             }
            },
            "header": {
             "fill": {
              "color": "#2a3f5f"
             },
             "line": {
              "color": "rgb(17,17,17)"
             }
            },
            "type": "table"
           }
          ]
         },
         "layout": {
          "annotationdefaults": {
           "arrowcolor": "#f2f5fa",
           "arrowhead": 0,
           "arrowwidth": 1
          },
          "autotypenumbers": "strict",
          "coloraxis": {
           "colorbar": {
            "outlinewidth": 0,
            "ticks": ""
           }
          },
          "colorscale": {
           "diverging": [
            [
             0,
             "#8e0152"
            ],
            [
             0.1,
             "#c51b7d"
            ],
            [
             0.2,
             "#de77ae"
            ],
            [
             0.3,
             "#f1b6da"
            ],
            [
             0.4,
             "#fde0ef"
            ],
            [
             0.5,
             "#f7f7f7"
            ],
            [
             0.6,
             "#e6f5d0"
            ],
            [
             0.7,
             "#b8e186"
            ],
            [
             0.8,
             "#7fbc41"
            ],
            [
             0.9,
             "#4d9221"
            ],
            [
             1,
             "#276419"
            ]
           ],
           "sequential": [
            [
             0,
             "#0d0887"
            ],
            [
             0.1111111111111111,
             "#46039f"
            ],
            [
             0.2222222222222222,
             "#7201a8"
            ],
            [
             0.3333333333333333,
             "#9c179e"
            ],
            [
             0.4444444444444444,
             "#bd3786"
            ],
            [
             0.5555555555555556,
             "#d8576b"
            ],
            [
             0.6666666666666666,
             "#ed7953"
            ],
            [
             0.7777777777777778,
             "#fb9f3a"
            ],
            [
             0.8888888888888888,
             "#fdca26"
            ],
            [
             1,
             "#f0f921"
            ]
           ],
           "sequentialminus": [
            [
             0,
             "#0d0887"
            ],
            [
             0.1111111111111111,
             "#46039f"
            ],
            [
             0.2222222222222222,
             "#7201a8"
            ],
            [
             0.3333333333333333,
             "#9c179e"
            ],
            [
             0.4444444444444444,
             "#bd3786"
            ],
            [
             0.5555555555555556,
             "#d8576b"
            ],
            [
             0.6666666666666666,
             "#ed7953"
            ],
            [
             0.7777777777777778,
             "#fb9f3a"
            ],
            [
             0.8888888888888888,
             "#fdca26"
            ],
            [
             1,
             "#f0f921"
            ]
           ]
          },
          "colorway": [
           "#636efa",
           "#EF553B",
           "#00cc96",
           "#ab63fa",
           "#FFA15A",
           "#19d3f3",
           "#FF6692",
           "#B6E880",
           "#FF97FF",
           "#FECB52"
          ],
          "font": {
           "color": "#f2f5fa"
          },
          "geo": {
           "bgcolor": "rgb(17,17,17)",
           "lakecolor": "rgb(17,17,17)",
           "landcolor": "rgb(17,17,17)",
           "showlakes": true,
           "showland": true,
           "subunitcolor": "#506784"
          },
          "hoverlabel": {
           "align": "left"
          },
          "hovermode": "closest",
          "mapbox": {
           "style": "dark"
          },
          "paper_bgcolor": "rgb(17,17,17)",
          "plot_bgcolor": "rgb(17,17,17)",
          "polar": {
           "angularaxis": {
            "gridcolor": "#506784",
            "linecolor": "#506784",
            "ticks": ""
           },
           "bgcolor": "rgb(17,17,17)",
           "radialaxis": {
            "gridcolor": "#506784",
            "linecolor": "#506784",
            "ticks": ""
           }
          },
          "scene": {
           "xaxis": {
            "backgroundcolor": "rgb(17,17,17)",
            "gridcolor": "#506784",
            "gridwidth": 2,
            "linecolor": "#506784",
            "showbackground": true,
            "ticks": "",
            "zerolinecolor": "#C8D4E3"
           },
           "yaxis": {
            "backgroundcolor": "rgb(17,17,17)",
            "gridcolor": "#506784",
            "gridwidth": 2,
            "linecolor": "#506784",
            "showbackground": true,
            "ticks": "",
            "zerolinecolor": "#C8D4E3"
           },
           "zaxis": {
            "backgroundcolor": "rgb(17,17,17)",
            "gridcolor": "#506784",
            "gridwidth": 2,
            "linecolor": "#506784",
            "showbackground": true,
            "ticks": "",
            "zerolinecolor": "#C8D4E3"
           }
          },
          "shapedefaults": {
           "line": {
            "color": "#f2f5fa"
           }
          },
          "sliderdefaults": {
           "bgcolor": "#C8D4E3",
           "bordercolor": "rgb(17,17,17)",
           "borderwidth": 1,
           "tickwidth": 0
          },
          "ternary": {
           "aaxis": {
            "gridcolor": "#506784",
            "linecolor": "#506784",
            "ticks": ""
           },
           "baxis": {
            "gridcolor": "#506784",
            "linecolor": "#506784",
            "ticks": ""
           },
           "bgcolor": "rgb(17,17,17)",
           "caxis": {
            "gridcolor": "#506784",
            "linecolor": "#506784",
            "ticks": ""
           }
          },
          "title": {
           "x": 0.05
          },
          "updatemenudefaults": {
           "bgcolor": "#506784",
           "borderwidth": 0
          },
          "xaxis": {
           "automargin": true,
           "gridcolor": "#283442",
           "linecolor": "#506784",
           "ticks": "",
           "title": {
            "standoff": 15
           },
           "zerolinecolor": "#283442",
           "zerolinewidth": 2
          },
          "yaxis": {
           "automargin": true,
           "gridcolor": "#283442",
           "linecolor": "#506784",
           "ticks": "",
           "title": {
            "standoff": 15
           },
           "zerolinecolor": "#283442",
           "zerolinewidth": 2
          }
         }
        },
        "title": {
         "text": "Probability of Upset by Seed Differential"
        },
        "xaxis": {
         "anchor": "y",
         "domain": [
          0,
          1
         ],
         "title": {
          "text": "Seed Difference"
         }
        },
        "yaxis": {
         "anchor": "x",
         "domain": [
          0,
          1
         ],
         "title": {
          "text": "Upset Probability"
         }
        }
       }
      }
     },
     "metadata": {},
     "output_type": "display_data"
    }
   ],
   "source": [
    "# Create bins of seed differentials\n",
    "tourney_compact['SeedDiffBin'] = pd.cut(tourney_compact['SeedDiff'], \n",
    "                                        bins=[-16, -10, -5, -1, 1, 5, 10, 16], \n",
    "                                        labels=['11-16', '6-10', '2-5', '-1-1', \n",
    "                                                '2-5', '6-10', '11-16'], ordered=False)\n",
    "\n",
    "# Calculate upset rates by seed differential\n",
    "upset_rates = tourney_compact.groupby('SeedDiffBin').size().reset_index(name='Games')\n",
    "upset_rates['UpsetRate'] = tourney_compact.groupby('SeedDiffBin')['SeedDiff'].apply(\n",
    "    lambda x: (x < 0).mean()).reset_index(drop=True)\n",
    "\n",
    "# Plot\n",
    "fig = px.line(upset_rates, x='SeedDiffBin', y='UpsetRate', markers=True,\n",
    "              title='Probability of Upset by Seed Differential',\n",
    "              labels={'SeedDiffBin': 'Seed Differential', 'UpsetRate': 'Upset Probability'})\n",
    "fig.update_layout(xaxis_title='Seed Difference', yaxis_title='Upset Probability')\n",
    "fig.show()"
   ]
  },
  {
   "cell_type": "markdown",
   "metadata": {},
   "source": [
    "## Model Training\n"
   ]
  },
  {
   "cell_type": "code",
   "execution_count": 46,
   "metadata": {},
   "outputs": [],
   "source": [
    "# Filter seasons if specified\n",
    "all_detailed_results = pd.concat([\n",
    "    data['MRegularSeasonDetailedResults'], \n",
    "    data['WRegularSeasonDetailedResults'],\n",
    "    data['MNCAATourneyDetailedResults'],\n",
    "    data['WNCAATourneyDetailedResults']\n",
    "]).assign(ST='All')\n",
    "\n",
    "# Create pairs of teams for each gamr (both directions)\n",
    "# For each game, create a pair of teams (winner, loser) and (loser, winner)\n",
    "# with corresponding game results (1, 0) and (0, 1)\n",
    "\n",
    "# Create pairs of teams for each game\n",
    "all_detailed_results['TeamPair'] = all_detailed_results.apply(\n",
    "    lambda row: tuple(sorted([row['WTeamID'], row['LTeamID']])),\n",
    "    axis=1\n",
    ")\n",
    "# Create a DataFrame to store all game pairs with features\n",
    "game_pairs = []\n",
    "\n",
    "for _, game in all_detailed_results.iterrows():\n",
    "    # Features for team1 (winner) vs team2 (loser)\n",
    "    features1 = {\n",
    "        'Season': game['Season'],\n",
    "        'DayNum': game['DayNum'],\n",
    "        'Team1': game['WTeamID'],\n",
    "        'Team2': game['LTeamID'],\n",
    "        'Target': 1  # Team1 won\n",
    "    }\n",
    "    \n",
    "    # Features for team2 (loser) vs team1 (winner)\n",
    "    features2 = {\n",
    "        'Season': game['Season'],\n",
    "        'DayNum': game['DayNum'],\n",
    "        'Team1': game['LTeamID'],\n",
    "        'Team2': game['WTeamID'],\n",
    "        'Target': 0  # Team1 lost\n",
    "    }\n",
    "    \n",
    "    # Add location feature if available\n",
    "    if 'WLoc' in game:\n",
    "        if game['WLoc'] == 'H':\n",
    "            features1['Team1Home'] = 1\n",
    "            features2['Team1Home'] = 0\n",
    "        elif game['WLoc'] == 'A':\n",
    "            features1['Team1Home'] = 0\n",
    "            features2['Team1Home'] = 1\n",
    "        else:  # Neutral\n",
    "            features1['Team1Home'] = 0.5\n",
    "            features2['Team1Home'] = 0.5\n",
    "    \n",
    "    # Add detailed stats if available\n",
    "    if all(col in game for col in ['WFGM', 'LFGM']):\n",
    "        # Team1 offensive stats when it was the winner\n",
    "        features1.update({\n",
    "            'Team1_FGM': game['WFGM'],\n",
    "            'Team1_FGA': game['WFGA'],\n",
    "            'Team1_FGM3': game['WFGM3'],\n",
    "            'Team1_FGA3': game['WFGA3'],\n",
    "            'Team1_FTM': game['WFTM'],\n",
    "            'Team1_FTA': game['WFTA'],\n",
    "            'Team1_OR': game['WOR'],\n",
    "            'Team1_DR': game['WDR'],\n",
    "            'Team1_Ast': game['WAst'],\n",
    "            'Team1_TO': game['WTO'],\n",
    "            'Team1_Stl': game['WStl'],\n",
    "            'Team1_Blk': game['WBlk'],\n",
    "            'Team1_PF': game['WPF'],\n",
    "            \n",
    "            # Team2 offensive stats when it was the loser\n",
    "            'Team2_FGM': game['LFGM'],\n",
    "            'Team2_FGA': game['LFGA'],\n",
    "            'Team2_FGM3': game['LFGM3'],\n",
    "            'Team2_FGA3': game['LFGA3'],\n",
    "            'Team2_FTM': game['LFTM'],\n",
    "            'Team2_FTA': game['LFTA'],\n",
    "            'Team2_OR': game['LOR'],\n",
    "            'Team2_DR': game['LDR'],\n",
    "            'Team2_Ast': game['LAst'],\n",
    "            'Team2_TO': game['LTO'],\n",
    "            'Team2_Stl': game['LStl'],\n",
    "            'Team2_Blk': game['LBlk'],\n",
    "            'Team2_PF': game['LPF'],\n",
    "        })\n",
    "        \n",
    "        # Team1 offensive stats when it was the loser\n",
    "        features2.update({\n",
    "            'Team1_FGM': game['LFGM'],\n",
    "            'Team1_FGA': game['LFGA'],\n",
    "            'Team1_FGM3': game['LFGM3'],\n",
    "            'Team1_FGA3': game['LFGA3'],\n",
    "            'Team1_FTM': game['LFTM'],\n",
    "            'Team1_FTA': game['LFTA'],\n",
    "            'Team1_OR': game['LOR'],\n",
    "            'Team1_DR': game['LDR'],\n",
    "            'Team1_Ast': game['LAst'],\n",
    "            'Team1_TO': game['LTO'],\n",
    "            'Team1_Stl': game['LStl'],\n",
    "            'Team1_Blk': game['LBlk'],\n",
    "            'Team1_PF': game['LPF'],\n",
    "            \n",
    "            # Team2 offensive stats when it was the winner\n",
    "            'Team2_FGM': game['WFGM'],\n",
    "            'Team2_FGA': game['WFGA'], \n",
    "            'Team2_FGM3': game['WFGM3'],\n",
    "            'Team2_FGA3': game['WFGA3'],\n",
    "            'Team2_FTM': game['WFTM'],\n",
    "            'Team2_FTA': game['WFTA'],\n",
    "            'Team2_OR': game['WOR'],\n",
    "            'Team2_DR': game['WDR'],\n",
    "            'Team2_Ast': game['WAst'],\n",
    "            'Team2_TO': game['WTO'],\n",
    "            'Team2_Stl': game['WStl'],\n",
    "            'Team2_Blk': game['WBlk'],\n",
    "            'Team2_PF': game['WPF'],\n",
    "        })\n",
    "    \n",
    "    game_pairs.append(features1)\n",
    "    game_pairs.append(features2)\n",
    "\n",
    "# Convert to DataFrame\n",
    "game_pairs_df = pd.DataFrame(game_pairs)\n",
    "\n",
    "# Add seed information if available\n",
    "if 'seeds' in locals():\n",
    "    # Add Team1 seed\n",
    "    game_pairs_df = pd.merge(\n",
    "        game_pairs_df,\n",
    "        seeds[['Season', 'TeamID', 'SeedValue']],\n",
    "        how='left',\n",
    "        left_on=['Season', 'Team1'],\n",
    "        right_on=['Season', 'TeamID']\n",
    "    )\n",
    "    game_pairs_df.rename(columns={'SeedValue': 'Team1Seed'}, inplace=True)\n",
    "    game_pairs_df.drop('TeamID', axis=1, inplace=True)\n",
    "    \n",
    "    # Add Team2 seed\n",
    "    game_pairs_df = pd.merge(\n",
    "        game_pairs_df,\n",
    "        seeds[['Season', 'TeamID', 'SeedValue']],\n",
    "        how='left',\n",
    "        left_on=['Season', 'Team2'],\n",
    "        right_on=['Season', 'TeamID']\n",
    "    )\n",
    "    game_pairs_df.rename(columns={'SeedValue': 'Team2Seed'}, inplace=True)\n",
    "    game_pairs_df.drop('TeamID', axis=1, inplace=True)\n",
    "    \n",
    "    # Calculate seed difference\n",
    "    game_pairs_df['SeedDiff'] = game_pairs_df['Team2Seed'] - game_pairs_df['Team1Seed']\n",
    "\n",
    "# Calculate shooting percentages for both teams\n",
    "game_pairs_df['Team1_FGPct'] = np.where(game_pairs_df['Team1_FGA'] > 0, \n",
    "                                      game_pairs_df['Team1_FGM'] / game_pairs_df['Team1_FGA'], 0)\n",
    "game_pairs_df['Team1_FG3Pct'] = np.where(game_pairs_df['Team1_FGA3'] > 0, \n",
    "                                       game_pairs_df['Team1_FGM3'] / game_pairs_df['Team1_FGA3'], 0)\n",
    "game_pairs_df['Team1_FTPct'] = np.where(game_pairs_df['Team1_FTA'] > 0, \n",
    "                                      game_pairs_df['Team1_FTM'] / game_pairs_df['Team1_FTA'], 0)\n",
    "\n",
    "game_pairs_df['Team2_FGPct'] = np.where(game_pairs_df['Team2_FGA'] > 0, \n",
    "                                      game_pairs_df['Team2_FGM'] / game_pairs_df['Team2_FGA'], 0)\n",
    "game_pairs_df['Team2_FG3Pct'] = np.where(game_pairs_df['Team2_FGA3'] > 0, \n",
    "                                       game_pairs_df['Team2_FGM3'] / game_pairs_df['Team2_FGA3'], 0)\n",
    "game_pairs_df['Team2_FTPct'] = np.where(game_pairs_df['Team2_FTA'] > 0, \n",
    "                                      game_pairs_df['Team2_FTM'] / game_pairs_df['Team2_FTA'], 0)\n",
    "\n",
    "# Calculate statistical differences between teams\n",
    "game_pairs_df['ReboundDiff'] = (game_pairs_df['Team1_OR'] + game_pairs_df['Team1_DR']) - \\\n",
    "                             (game_pairs_df['Team2_OR'] + game_pairs_df['Team2_DR'])\n",
    "game_pairs_df['AssistDiff'] = game_pairs_df['Team1_Ast'] - game_pairs_df['Team2_Ast']\n",
    "game_pairs_df['TurnoverDiff'] = game_pairs_df['Team1_TO'] - game_pairs_df['Team2_TO']\n",
    "game_pairs_df['StealDiff'] = game_pairs_df['Team1_Stl'] - game_pairs_df['Team2_Stl']\n",
    "game_pairs_df['BlockDiff'] = game_pairs_df['Team1_Blk'] - game_pairs_df['Team2_Blk']\n",
    "game_pairs_df['FoulDiff'] = game_pairs_df['Team1_PF'] - game_pairs_df['Team2_PF']\n",
    "\n",
    "# Calculate score difference\n",
    "game_pairs_df['ScoreDiff'] = game_pairs_df['Team1_FGM'] + game_pairs_df['Team1_FGM3'] + game_pairs_df['Team1_FTM'] - \\\n",
    "                           (game_pairs_df['Team2_FGM'] + game_pairs_df['Team2_FGM3'] + game_pairs_df['Team2_FTM'])\n",
    "\n",
    "# Add efficiency metrics\n",
    "game_pairs_df['Team1_Efficiency'] = (game_pairs_df['Team1_FGM'] + game_pairs_df['Team1_Ast']) / \\\n",
    "                                  (game_pairs_df['Team1_FGA'] + game_pairs_df['Team1_TO'] + 1e-6)\n",
    "game_pairs_df['Team2_Efficiency'] = (game_pairs_df['Team2_FGM'] + game_pairs_df['Team2_Ast']) / \\\n",
    "                                  (game_pairs_df['Team2_FGA'] + game_pairs_df['Team2_TO'] + 1e-6)\n",
    "game_pairs_df['EfficiencyDiff'] = game_pairs_df['Team1_Efficiency'] - game_pairs_df['Team2_Efficiency']\n",
    "\n"
   ]
  },
  {
   "cell_type": "markdown",
   "metadata": {},
   "source": [
    "## Preparing Data for Modeling\n",
    "\n",
    "### Initial Data Assessment and Cleaning"
   ]
  },
  {
   "cell_type": "code",
   "execution_count": 47,
   "metadata": {},
   "outputs": [
    {
     "name": "stdout",
     "output_type": "stream",
     "text": [
      "Original columns: ['Season', 'DayNum', 'Team1', 'Team2', 'Target', 'Team1Home', 'Team1_FGM', 'Team1_FGA', 'Team1_FGM3', 'Team1_FGA3', 'Team1_FTM', 'Team1_FTA', 'Team1_OR', 'Team1_DR', 'Team1_Ast', 'Team1_TO', 'Team1_Stl', 'Team1_Blk', 'Team1_PF', 'Team2_FGM', 'Team2_FGA', 'Team2_FGM3', 'Team2_FGA3', 'Team2_FTM', 'Team2_FTA', 'Team2_OR', 'Team2_DR', 'Team2_Ast', 'Team2_TO', 'Team2_Stl', 'Team2_Blk', 'Team2_PF', 'Team1Seed', 'Team2Seed', 'SeedDiff', 'Team1_FGPct', 'Team1_FG3Pct', 'Team1_FTPct', 'Team2_FGPct', 'Team2_FG3Pct', 'Team2_FTPct', 'ReboundDiff', 'AssistDiff', 'TurnoverDiff', 'StealDiff', 'BlockDiff', 'FoulDiff', 'ScoreDiff', 'Team1_Efficiency', 'Team2_Efficiency', 'EfficiencyDiff']\n",
      "Columns to drop based on ID/non-predictive features: []\n",
      "\n",
      "Checking for near-zero variance features...\n",
      "Low variance features to drop: ['Team1_FGPct', 'Team2_FGPct']\n",
      "\n",
      "Final columns after feature selection: ['Season', 'DayNum', 'Team1', 'Team2', 'Target', 'Team1Home', 'Team1_FGM', 'Team1_FGA', 'Team1_FGM3', 'Team1_FGA3', 'Team1_FTM', 'Team1_FTA', 'Team1_OR', 'Team1_DR', 'Team1_Ast', 'Team1_TO', 'Team1_Stl', 'Team1_Blk', 'Team1_PF', 'Team2_FGM', 'Team2_FGA', 'Team2_FGM3', 'Team2_FGA3', 'Team2_FTM', 'Team2_FTA', 'Team2_OR', 'Team2_DR', 'Team2_Ast', 'Team2_TO', 'Team2_Stl', 'Team2_Blk', 'Team2_PF', 'Team1Seed', 'Team2Seed', 'SeedDiff', 'Team1_FG3Pct', 'Team1_FTPct', 'Team2_FG3Pct', 'Team2_FTPct', 'ReboundDiff', 'AssistDiff', 'TurnoverDiff', 'StealDiff', 'BlockDiff', 'FoulDiff', 'ScoreDiff', 'Team1_Efficiency', 'Team2_Efficiency', 'EfficiencyDiff']\n"
     ]
    }
   ],
   "source": [
    "# 1. Remove ID columns and obvious non-predictive features\n",
    "print(\"Original columns:\", game_pairs_df.columns.tolist())\n",
    "cols_to_drop = [col for col in game_pairs_df.columns if \n",
    "                col.lower().endswith(('id', 'uuid', 'timestamp', 'date'))]\n",
    "print(\"Columns to drop based on ID/non-predictive features:\", cols_to_drop)\n",
    "game_pairs_df = game_pairs_df.drop(columns=cols_to_drop)\n",
    "\n",
    "# 2. Check for near-zero variance features\n",
    "print(\"\\nChecking for near-zero variance features...\")\n",
    "selector = VarianceThreshold(threshold=0.01)  # Remove features with variance < 0.01\n",
    "numeric_cols = game_pairs_df.select_dtypes(include=[np.number]).columns\n",
    "selector.fit(game_pairs_df[numeric_cols])\n",
    "low_var_cols = [col for col, var in zip(numeric_cols, selector.variances_) if var < 0.01]\n",
    "print(\"Low variance features to drop:\", low_var_cols)\n",
    "game_pairs_df = game_pairs_df.drop(columns=low_var_cols)\n",
    "\n",
    "# 3. Check for highly correlated features\n",
    "# print(\"\\nChecking for highly correlated features...\")\n",
    "# corr_matrix = game_pairs_df.corr().abs()\n",
    "# upper = corr_matrix.where(np.triu(np.ones(corr_matrix.shape), k=1).astype(bool))\n",
    "# high_corr_features = [column for column in upper.columns \n",
    "#                      if any(upper[column] > 0.95)]\n",
    "# print(\"Highly correlated features to drop:\", high_corr_features)\n",
    "# game_pairs_df = game_pairs_df.drop(columns=high_corr_features)\n",
    "\n",
    "print(\"\\nFinal columns after feature selection:\", game_pairs_df.columns.tolist())\n"
   ]
  },
  {
   "cell_type": "code",
   "execution_count": 48,
   "metadata": {},
   "outputs": [
    {
     "name": "stdout",
     "output_type": "stream",
     "text": [
      "Complete feature row example:\n"
     ]
    },
    {
     "data": {
      "text/html": [
       "<div>\n",
       "<style scoped>\n",
       "    .dataframe tbody tr th:only-of-type {\n",
       "        vertical-align: middle;\n",
       "    }\n",
       "\n",
       "    .dataframe tbody tr th {\n",
       "        vertical-align: top;\n",
       "    }\n",
       "\n",
       "    .dataframe thead th {\n",
       "        text-align: right;\n",
       "    }\n",
       "</style>\n",
       "<table border=\"1\" class=\"dataframe\">\n",
       "  <thead>\n",
       "    <tr style=\"text-align: right;\">\n",
       "      <th></th>\n",
       "      <th>Season</th>\n",
       "      <th>DayNum</th>\n",
       "      <th>Team1</th>\n",
       "      <th>Team2</th>\n",
       "      <th>Team1Home</th>\n",
       "      <th>Team1_FGM</th>\n",
       "      <th>Team1_FGA</th>\n",
       "      <th>Team1_FGM3</th>\n",
       "      <th>Team1_FGA3</th>\n",
       "      <th>Team1_FTM</th>\n",
       "      <th>...</th>\n",
       "      <th>ReboundDiff</th>\n",
       "      <th>AssistDiff</th>\n",
       "      <th>TurnoverDiff</th>\n",
       "      <th>StealDiff</th>\n",
       "      <th>BlockDiff</th>\n",
       "      <th>FoulDiff</th>\n",
       "      <th>ScoreDiff</th>\n",
       "      <th>Team1_Efficiency</th>\n",
       "      <th>Team2_Efficiency</th>\n",
       "      <th>EfficiencyDiff</th>\n",
       "    </tr>\n",
       "  </thead>\n",
       "  <tbody>\n",
       "    <tr>\n",
       "      <th>0</th>\n",
       "      <td>2003</td>\n",
       "      <td>10</td>\n",
       "      <td>1104</td>\n",
       "      <td>1328</td>\n",
       "      <td>0.5</td>\n",
       "      <td>27</td>\n",
       "      <td>58</td>\n",
       "      <td>3</td>\n",
       "      <td>14</td>\n",
       "      <td>11</td>\n",
       "      <td>...</td>\n",
       "      <td>6</td>\n",
       "      <td>5</td>\n",
       "      <td>5</td>\n",
       "      <td>-2</td>\n",
       "      <td>-1</td>\n",
       "      <td>2</td>\n",
       "      <td>1</td>\n",
       "      <td>0.493827</td>\n",
       "      <td>0.422535</td>\n",
       "      <td>0.071292</td>\n",
       "    </tr>\n",
       "  </tbody>\n",
       "</table>\n",
       "<p>1 rows × 48 columns</p>\n",
       "</div>"
      ],
      "text/plain": [
       "   Season  DayNum  Team1  Team2  Team1Home  Team1_FGM  Team1_FGA  Team1_FGM3  \\\n",
       "0    2003      10   1104   1328        0.5         27         58           3   \n",
       "\n",
       "   Team1_FGA3  Team1_FTM  ...  ReboundDiff  AssistDiff  TurnoverDiff  \\\n",
       "0          14         11  ...            6           5             5   \n",
       "\n",
       "   StealDiff  BlockDiff  FoulDiff  ScoreDiff  Team1_Efficiency  \\\n",
       "0         -2         -1         2          1          0.493827   \n",
       "\n",
       "   Team2_Efficiency  EfficiencyDiff  \n",
       "0          0.422535        0.071292  \n",
       "\n",
       "[1 rows x 48 columns]"
      ]
     },
     "metadata": {},
     "output_type": "display_data"
    },
    {
     "name": "stdout",
     "output_type": "stream",
     "text": [
      "\n",
      "Corresponding target value:\n",
      "1\n",
      "Feature matrix shape: (404066, 48)\n",
      "Target vector shape: (404066,)\n",
      "\n",
      "Training set shape: (323252, 48)\n",
      "Validation set shape: (80814, 48)\n",
      "\n",
      "Training main model...\n",
      "[0]\tvalidation_0-logloss:0.65887\n",
      "[1]\tvalidation_0-logloss:0.61609\n",
      "[2]\tvalidation_0-logloss:0.57863\n"
     ]
    },
    {
     "name": "stderr",
     "output_type": "stream",
     "text": [
      "/usr/lib/python3/dist-packages/xgboost/sklearn.py:889: UserWarning:\n",
      "\n",
      "`early_stopping_rounds` in `fit` method is deprecated for better compatibility with scikit-learn, use `early_stopping_rounds` in constructor or`set_params` instead.\n",
      "\n"
     ]
    },
    {
     "name": "stdout",
     "output_type": "stream",
     "text": [
      "[3]\tvalidation_0-logloss:0.55272\n",
      "[4]\tvalidation_0-logloss:0.52061\n",
      "[5]\tvalidation_0-logloss:0.48966\n",
      "[6]\tvalidation_0-logloss:0.46955\n",
      "[7]\tvalidation_0-logloss:0.44383\n",
      "[8]\tvalidation_0-logloss:0.42005\n",
      "[9]\tvalidation_0-logloss:0.39668\n",
      "[10]\tvalidation_0-logloss:0.37595\n",
      "[11]\tvalidation_0-logloss:0.35656\n",
      "[12]\tvalidation_0-logloss:0.33890\n",
      "[13]\tvalidation_0-logloss:0.32692\n",
      "[14]\tvalidation_0-logloss:0.31596\n",
      "[15]\tvalidation_0-logloss:0.30061\n",
      "[16]\tvalidation_0-logloss:0.28708\n",
      "[17]\tvalidation_0-logloss:0.27345\n",
      "[18]\tvalidation_0-logloss:0.26153\n",
      "[19]\tvalidation_0-logloss:0.25510\n",
      "[20]\tvalidation_0-logloss:0.24909\n",
      "[21]\tvalidation_0-logloss:0.23782\n",
      "[22]\tvalidation_0-logloss:0.22801\n",
      "[23]\tvalidation_0-logloss:0.21780\n",
      "[24]\tvalidation_0-logloss:0.20815\n",
      "[25]\tvalidation_0-logloss:0.19904\n",
      "[26]\tvalidation_0-logloss:0.18977\n",
      "[27]\tvalidation_0-logloss:0.18166\n",
      "[28]\tvalidation_0-logloss:0.17401\n",
      "[29]\tvalidation_0-logloss:0.16762\n",
      "[30]\tvalidation_0-logloss:0.16164\n",
      "[31]\tvalidation_0-logloss:0.15518\n",
      "[32]\tvalidation_0-logloss:0.14898\n",
      "[33]\tvalidation_0-logloss:0.14255\n",
      "[34]\tvalidation_0-logloss:0.13703\n",
      "[35]\tvalidation_0-logloss:0.13431\n",
      "[36]\tvalidation_0-logloss:0.12915\n",
      "[37]\tvalidation_0-logloss:0.12490\n",
      "[38]\tvalidation_0-logloss:0.12028\n",
      "[39]\tvalidation_0-logloss:0.11641\n",
      "[40]\tvalidation_0-logloss:0.11217\n",
      "[41]\tvalidation_0-logloss:0.10821\n",
      "[42]\tvalidation_0-logloss:0.10434\n",
      "[43]\tvalidation_0-logloss:0.10125\n",
      "[44]\tvalidation_0-logloss:0.09940\n",
      "[45]\tvalidation_0-logloss:0.09583\n",
      "[46]\tvalidation_0-logloss:0.09246\n",
      "[47]\tvalidation_0-logloss:0.08912\n",
      "[48]\tvalidation_0-logloss:0.08617\n",
      "[49]\tvalidation_0-logloss:0.08466\n",
      "[50]\tvalidation_0-logloss:0.08309\n",
      "[51]\tvalidation_0-logloss:0.08015\n",
      "[52]\tvalidation_0-logloss:0.07721\n",
      "[53]\tvalidation_0-logloss:0.07520\n",
      "[54]\tvalidation_0-logloss:0.07257\n",
      "[55]\tvalidation_0-logloss:0.07129\n",
      "[56]\tvalidation_0-logloss:0.06889\n",
      "[57]\tvalidation_0-logloss:0.06661\n",
      "[58]\tvalidation_0-logloss:0.06554\n",
      "[59]\tvalidation_0-logloss:0.06455\n",
      "[60]\tvalidation_0-logloss:0.06356\n",
      "[61]\tvalidation_0-logloss:0.06266\n",
      "[62]\tvalidation_0-logloss:0.06051\n",
      "[63]\tvalidation_0-logloss:0.05967\n",
      "[64]\tvalidation_0-logloss:0.05886\n",
      "[65]\tvalidation_0-logloss:0.05752\n",
      "[66]\tvalidation_0-logloss:0.05575\n",
      "[67]\tvalidation_0-logloss:0.05452\n",
      "[68]\tvalidation_0-logloss:0.05397\n",
      "[69]\tvalidation_0-logloss:0.05230\n",
      "[70]\tvalidation_0-logloss:0.05072\n",
      "[71]\tvalidation_0-logloss:0.04970\n",
      "[72]\tvalidation_0-logloss:0.04871\n",
      "[73]\tvalidation_0-logloss:0.04816\n",
      "[74]\tvalidation_0-logloss:0.04724\n",
      "[75]\tvalidation_0-logloss:0.04638\n",
      "[76]\tvalidation_0-logloss:0.04505\n",
      "[77]\tvalidation_0-logloss:0.04371\n",
      "[78]\tvalidation_0-logloss:0.04298\n",
      "[79]\tvalidation_0-logloss:0.04176\n",
      "[80]\tvalidation_0-logloss:0.04061\n",
      "[81]\tvalidation_0-logloss:0.04023\n",
      "[82]\tvalidation_0-logloss:0.03916\n",
      "[83]\tvalidation_0-logloss:0.03813\n",
      "[84]\tvalidation_0-logloss:0.03716\n",
      "[85]\tvalidation_0-logloss:0.03661\n",
      "[86]\tvalidation_0-logloss:0.03632\n",
      "[87]\tvalidation_0-logloss:0.03533\n",
      "[88]\tvalidation_0-logloss:0.03447\n",
      "[89]\tvalidation_0-logloss:0.03397\n",
      "[90]\tvalidation_0-logloss:0.03348\n",
      "[91]\tvalidation_0-logloss:0.03266\n",
      "[92]\tvalidation_0-logloss:0.03189\n",
      "[93]\tvalidation_0-logloss:0.03113\n",
      "[94]\tvalidation_0-logloss:0.03094\n",
      "[95]\tvalidation_0-logloss:0.03055\n",
      "[96]\tvalidation_0-logloss:0.02978\n",
      "[97]\tvalidation_0-logloss:0.02908\n",
      "[98]\tvalidation_0-logloss:0.02843\n",
      "[99]\tvalidation_0-logloss:0.02787\n",
      "[100]\tvalidation_0-logloss:0.02752\n",
      "[101]\tvalidation_0-logloss:0.02690\n",
      "[102]\tvalidation_0-logloss:0.02629\n",
      "[103]\tvalidation_0-logloss:0.02575\n",
      "[104]\tvalidation_0-logloss:0.02548\n",
      "[105]\tvalidation_0-logloss:0.02523\n",
      "[106]\tvalidation_0-logloss:0.02498\n",
      "[107]\tvalidation_0-logloss:0.02449\n",
      "[108]\tvalidation_0-logloss:0.02404\n",
      "[109]\tvalidation_0-logloss:0.02361\n",
      "[110]\tvalidation_0-logloss:0.02351\n",
      "[111]\tvalidation_0-logloss:0.02330\n",
      "[112]\tvalidation_0-logloss:0.02319\n",
      "[113]\tvalidation_0-logloss:0.02294\n",
      "[114]\tvalidation_0-logloss:0.02271\n",
      "[115]\tvalidation_0-logloss:0.02250\n",
      "[116]\tvalidation_0-logloss:0.02229\n",
      "[117]\tvalidation_0-logloss:0.02182\n",
      "[118]\tvalidation_0-logloss:0.02142\n",
      "[119]\tvalidation_0-logloss:0.02124\n",
      "[120]\tvalidation_0-logloss:0.02105\n",
      "[121]\tvalidation_0-logloss:0.02068\n",
      "[122]\tvalidation_0-logloss:0.02051\n",
      "[123]\tvalidation_0-logloss:0.02035\n",
      "[124]\tvalidation_0-logloss:0.01995\n",
      "[125]\tvalidation_0-logloss:0.01956\n",
      "[126]\tvalidation_0-logloss:0.01949\n",
      "[127]\tvalidation_0-logloss:0.01916\n",
      "[128]\tvalidation_0-logloss:0.01909\n",
      "[129]\tvalidation_0-logloss:0.01871\n",
      "[130]\tvalidation_0-logloss:0.01855\n",
      "[131]\tvalidation_0-logloss:0.01841\n",
      "[132]\tvalidation_0-logloss:0.01811\n",
      "[133]\tvalidation_0-logloss:0.01776\n",
      "[134]\tvalidation_0-logloss:0.01741\n",
      "[135]\tvalidation_0-logloss:0.01737\n",
      "[136]\tvalidation_0-logloss:0.01725\n",
      "[137]\tvalidation_0-logloss:0.01695\n",
      "[138]\tvalidation_0-logloss:0.01682\n",
      "[139]\tvalidation_0-logloss:0.01651\n",
      "[140]\tvalidation_0-logloss:0.01631\n",
      "[141]\tvalidation_0-logloss:0.01620\n",
      "[142]\tvalidation_0-logloss:0.01598\n",
      "[143]\tvalidation_0-logloss:0.01588\n",
      "[144]\tvalidation_0-logloss:0.01569\n",
      "[145]\tvalidation_0-logloss:0.01560\n",
      "[146]\tvalidation_0-logloss:0.01536\n",
      "[147]\tvalidation_0-logloss:0.01527\n",
      "[148]\tvalidation_0-logloss:0.01518\n",
      "[149]\tvalidation_0-logloss:0.01510\n",
      "[150]\tvalidation_0-logloss:0.01482\n",
      "[151]\tvalidation_0-logloss:0.01453\n",
      "[152]\tvalidation_0-logloss:0.01433\n",
      "[153]\tvalidation_0-logloss:0.01422\n",
      "[154]\tvalidation_0-logloss:0.01406\n",
      "[155]\tvalidation_0-logloss:0.01399\n",
      "[156]\tvalidation_0-logloss:0.01393\n",
      "[157]\tvalidation_0-logloss:0.01386\n",
      "[158]\tvalidation_0-logloss:0.01365\n",
      "[159]\tvalidation_0-logloss:0.01358\n",
      "[160]\tvalidation_0-logloss:0.01334\n",
      "[161]\tvalidation_0-logloss:0.01312\n",
      "[162]\tvalidation_0-logloss:0.01306\n",
      "[163]\tvalidation_0-logloss:0.01298\n",
      "[164]\tvalidation_0-logloss:0.01288\n",
      "[165]\tvalidation_0-logloss:0.01268\n",
      "[166]\tvalidation_0-logloss:0.01260\n",
      "[167]\tvalidation_0-logloss:0.01243\n",
      "[168]\tvalidation_0-logloss:0.01223\n",
      "[169]\tvalidation_0-logloss:0.01204\n",
      "[170]\tvalidation_0-logloss:0.01197\n",
      "[171]\tvalidation_0-logloss:0.01193\n",
      "[172]\tvalidation_0-logloss:0.01187\n",
      "[173]\tvalidation_0-logloss:0.01183\n",
      "[174]\tvalidation_0-logloss:0.01165\n",
      "[175]\tvalidation_0-logloss:0.01149\n",
      "[176]\tvalidation_0-logloss:0.01137\n",
      "[177]\tvalidation_0-logloss:0.01124\n",
      "[178]\tvalidation_0-logloss:0.01120\n",
      "[179]\tvalidation_0-logloss:0.01115\n",
      "[180]\tvalidation_0-logloss:0.01110\n",
      "[181]\tvalidation_0-logloss:0.01094\n",
      "[182]\tvalidation_0-logloss:0.01078\n",
      "[183]\tvalidation_0-logloss:0.01074\n",
      "[184]\tvalidation_0-logloss:0.01069\n",
      "[185]\tvalidation_0-logloss:0.01065\n",
      "[186]\tvalidation_0-logloss:0.01061\n",
      "[187]\tvalidation_0-logloss:0.01056\n",
      "[188]\tvalidation_0-logloss:0.01052\n",
      "[189]\tvalidation_0-logloss:0.01036\n",
      "[190]\tvalidation_0-logloss:0.01023\n",
      "[191]\tvalidation_0-logloss:0.01019\n",
      "[192]\tvalidation_0-logloss:0.01007\n",
      "[193]\tvalidation_0-logloss:0.00995\n",
      "[194]\tvalidation_0-logloss:0.00980\n",
      "[195]\tvalidation_0-logloss:0.00976\n",
      "[196]\tvalidation_0-logloss:0.00963\n",
      "[197]\tvalidation_0-logloss:0.00949\n",
      "[198]\tvalidation_0-logloss:0.00938\n",
      "[199]\tvalidation_0-logloss:0.00928\n",
      "[200]\tvalidation_0-logloss:0.00925\n",
      "[201]\tvalidation_0-logloss:0.00914\n",
      "[202]\tvalidation_0-logloss:0.00911\n",
      "[203]\tvalidation_0-logloss:0.00908\n",
      "[204]\tvalidation_0-logloss:0.00906\n",
      "[205]\tvalidation_0-logloss:0.00899\n",
      "[206]\tvalidation_0-logloss:0.00890\n",
      "[207]\tvalidation_0-logloss:0.00882\n",
      "[208]\tvalidation_0-logloss:0.00878\n",
      "[209]\tvalidation_0-logloss:0.00867\n",
      "[210]\tvalidation_0-logloss:0.00865\n",
      "[211]\tvalidation_0-logloss:0.00860\n",
      "[212]\tvalidation_0-logloss:0.00851\n",
      "[213]\tvalidation_0-logloss:0.00841\n",
      "[214]\tvalidation_0-logloss:0.00840\n",
      "[215]\tvalidation_0-logloss:0.00828\n",
      "[216]\tvalidation_0-logloss:0.00819\n",
      "[217]\tvalidation_0-logloss:0.00815\n",
      "[218]\tvalidation_0-logloss:0.00808\n",
      "[219]\tvalidation_0-logloss:0.00806\n",
      "[220]\tvalidation_0-logloss:0.00802\n",
      "[221]\tvalidation_0-logloss:0.00799\n",
      "[222]\tvalidation_0-logloss:0.00791\n",
      "[223]\tvalidation_0-logloss:0.00789\n",
      "[224]\tvalidation_0-logloss:0.00782\n",
      "[225]\tvalidation_0-logloss:0.00780\n",
      "[226]\tvalidation_0-logloss:0.00778\n",
      "[227]\tvalidation_0-logloss:0.00775\n",
      "[228]\tvalidation_0-logloss:0.00772\n",
      "[229]\tvalidation_0-logloss:0.00770\n",
      "[230]\tvalidation_0-logloss:0.00767\n",
      "[231]\tvalidation_0-logloss:0.00766\n",
      "[232]\tvalidation_0-logloss:0.00760\n",
      "[233]\tvalidation_0-logloss:0.00749\n",
      "[234]\tvalidation_0-logloss:0.00747\n",
      "[235]\tvalidation_0-logloss:0.00742\n",
      "[236]\tvalidation_0-logloss:0.00741\n",
      "[237]\tvalidation_0-logloss:0.00739\n",
      "[238]\tvalidation_0-logloss:0.00733\n",
      "[239]\tvalidation_0-logloss:0.00730\n",
      "[240]\tvalidation_0-logloss:0.00723\n",
      "[241]\tvalidation_0-logloss:0.00721\n",
      "[242]\tvalidation_0-logloss:0.00719\n",
      "[243]\tvalidation_0-logloss:0.00710\n",
      "[244]\tvalidation_0-logloss:0.00703\n",
      "[245]\tvalidation_0-logloss:0.00702\n",
      "[246]\tvalidation_0-logloss:0.00697\n",
      "[247]\tvalidation_0-logloss:0.00696\n",
      "[248]\tvalidation_0-logloss:0.00689\n",
      "[249]\tvalidation_0-logloss:0.00687\n",
      "[250]\tvalidation_0-logloss:0.00686\n",
      "[251]\tvalidation_0-logloss:0.00684\n",
      "[252]\tvalidation_0-logloss:0.00677\n",
      "[253]\tvalidation_0-logloss:0.00675\n",
      "[254]\tvalidation_0-logloss:0.00674\n",
      "[255]\tvalidation_0-logloss:0.00666\n",
      "[256]\tvalidation_0-logloss:0.00658\n",
      "[257]\tvalidation_0-logloss:0.00657\n",
      "[258]\tvalidation_0-logloss:0.00652\n",
      "[259]\tvalidation_0-logloss:0.00651\n",
      "[260]\tvalidation_0-logloss:0.00643\n",
      "[261]\tvalidation_0-logloss:0.00637\n",
      "[262]\tvalidation_0-logloss:0.00636\n",
      "[263]\tvalidation_0-logloss:0.00635\n",
      "[264]\tvalidation_0-logloss:0.00633\n",
      "[265]\tvalidation_0-logloss:0.00627\n",
      "[266]\tvalidation_0-logloss:0.00626\n",
      "[267]\tvalidation_0-logloss:0.00624\n",
      "[268]\tvalidation_0-logloss:0.00623\n",
      "[269]\tvalidation_0-logloss:0.00619\n",
      "[270]\tvalidation_0-logloss:0.00614\n",
      "[271]\tvalidation_0-logloss:0.00608\n",
      "[272]\tvalidation_0-logloss:0.00601\n",
      "[273]\tvalidation_0-logloss:0.00599\n",
      "[274]\tvalidation_0-logloss:0.00596\n",
      "[275]\tvalidation_0-logloss:0.00595\n",
      "[276]\tvalidation_0-logloss:0.00594\n",
      "[277]\tvalidation_0-logloss:0.00589\n",
      "[278]\tvalidation_0-logloss:0.00589\n",
      "[279]\tvalidation_0-logloss:0.00584\n",
      "[280]\tvalidation_0-logloss:0.00583\n",
      "[281]\tvalidation_0-logloss:0.00580\n",
      "[282]\tvalidation_0-logloss:0.00575\n",
      "[283]\tvalidation_0-logloss:0.00569\n",
      "[284]\tvalidation_0-logloss:0.00563\n",
      "[285]\tvalidation_0-logloss:0.00562\n",
      "[286]\tvalidation_0-logloss:0.00556\n",
      "[287]\tvalidation_0-logloss:0.00555\n",
      "[288]\tvalidation_0-logloss:0.00552\n",
      "[289]\tvalidation_0-logloss:0.00550\n",
      "[290]\tvalidation_0-logloss:0.00550\n",
      "[291]\tvalidation_0-logloss:0.00545\n",
      "[292]\tvalidation_0-logloss:0.00539\n",
      "[293]\tvalidation_0-logloss:0.00535\n",
      "[294]\tvalidation_0-logloss:0.00533\n",
      "[295]\tvalidation_0-logloss:0.00532\n",
      "[296]\tvalidation_0-logloss:0.00531\n",
      "[297]\tvalidation_0-logloss:0.00530\n",
      "[298]\tvalidation_0-logloss:0.00530\n",
      "[299]\tvalidation_0-logloss:0.00528\n",
      "[300]\tvalidation_0-logloss:0.00527\n",
      "[301]\tvalidation_0-logloss:0.00526\n",
      "[302]\tvalidation_0-logloss:0.00522\n",
      "[303]\tvalidation_0-logloss:0.00521\n",
      "[304]\tvalidation_0-logloss:0.00516\n",
      "[305]\tvalidation_0-logloss:0.00515\n",
      "[306]\tvalidation_0-logloss:0.00511\n",
      "[307]\tvalidation_0-logloss:0.00511\n",
      "[308]\tvalidation_0-logloss:0.00506\n",
      "[309]\tvalidation_0-logloss:0.00506\n",
      "[310]\tvalidation_0-logloss:0.00503\n",
      "[311]\tvalidation_0-logloss:0.00502\n",
      "[312]\tvalidation_0-logloss:0.00502\n",
      "[313]\tvalidation_0-logloss:0.00501\n",
      "[314]\tvalidation_0-logloss:0.00497\n",
      "[315]\tvalidation_0-logloss:0.00496\n",
      "[316]\tvalidation_0-logloss:0.00493\n",
      "[317]\tvalidation_0-logloss:0.00489\n",
      "[318]\tvalidation_0-logloss:0.00485\n",
      "[319]\tvalidation_0-logloss:0.00484\n",
      "[320]\tvalidation_0-logloss:0.00484\n",
      "[321]\tvalidation_0-logloss:0.00483\n",
      "[322]\tvalidation_0-logloss:0.00482\n",
      "[323]\tvalidation_0-logloss:0.00482\n",
      "[324]\tvalidation_0-logloss:0.00481\n",
      "[325]\tvalidation_0-logloss:0.00477\n",
      "[326]\tvalidation_0-logloss:0.00474\n",
      "[327]\tvalidation_0-logloss:0.00470\n",
      "[328]\tvalidation_0-logloss:0.00468\n",
      "[329]\tvalidation_0-logloss:0.00466\n",
      "[330]\tvalidation_0-logloss:0.00464\n",
      "[331]\tvalidation_0-logloss:0.00461\n",
      "[332]\tvalidation_0-logloss:0.00460\n",
      "[333]\tvalidation_0-logloss:0.00459\n",
      "[334]\tvalidation_0-logloss:0.00457\n",
      "[335]\tvalidation_0-logloss:0.00457\n",
      "[336]\tvalidation_0-logloss:0.00454\n",
      "[337]\tvalidation_0-logloss:0.00451\n",
      "[338]\tvalidation_0-logloss:0.00450\n",
      "[339]\tvalidation_0-logloss:0.00447\n",
      "[340]\tvalidation_0-logloss:0.00445\n",
      "[341]\tvalidation_0-logloss:0.00443\n",
      "[342]\tvalidation_0-logloss:0.00442\n",
      "[343]\tvalidation_0-logloss:0.00438\n",
      "[344]\tvalidation_0-logloss:0.00437\n",
      "[345]\tvalidation_0-logloss:0.00435\n",
      "[346]\tvalidation_0-logloss:0.00433\n",
      "[347]\tvalidation_0-logloss:0.00432\n",
      "[348]\tvalidation_0-logloss:0.00432\n",
      "[349]\tvalidation_0-logloss:0.00431\n",
      "[350]\tvalidation_0-logloss:0.00429\n",
      "[351]\tvalidation_0-logloss:0.00428\n",
      "[352]\tvalidation_0-logloss:0.00427\n",
      "[353]\tvalidation_0-logloss:0.00427\n",
      "[354]\tvalidation_0-logloss:0.00426\n",
      "[355]\tvalidation_0-logloss:0.00423\n",
      "[356]\tvalidation_0-logloss:0.00423\n",
      "[357]\tvalidation_0-logloss:0.00422\n",
      "[358]\tvalidation_0-logloss:0.00421\n",
      "[359]\tvalidation_0-logloss:0.00420\n",
      "[360]\tvalidation_0-logloss:0.00417\n",
      "[361]\tvalidation_0-logloss:0.00416\n",
      "[362]\tvalidation_0-logloss:0.00415\n",
      "[363]\tvalidation_0-logloss:0.00413\n",
      "[364]\tvalidation_0-logloss:0.00413\n",
      "[365]\tvalidation_0-logloss:0.00410\n",
      "[366]\tvalidation_0-logloss:0.00407\n",
      "[367]\tvalidation_0-logloss:0.00405\n",
      "[368]\tvalidation_0-logloss:0.00402\n",
      "[369]\tvalidation_0-logloss:0.00402\n",
      "[370]\tvalidation_0-logloss:0.00401\n",
      "[371]\tvalidation_0-logloss:0.00398\n",
      "[372]\tvalidation_0-logloss:0.00394\n",
      "[373]\tvalidation_0-logloss:0.00393\n",
      "[374]\tvalidation_0-logloss:0.00391\n",
      "[375]\tvalidation_0-logloss:0.00388\n",
      "[376]\tvalidation_0-logloss:0.00388\n",
      "[377]\tvalidation_0-logloss:0.00387\n",
      "[378]\tvalidation_0-logloss:0.00384\n",
      "[379]\tvalidation_0-logloss:0.00383\n",
      "[380]\tvalidation_0-logloss:0.00382\n",
      "[381]\tvalidation_0-logloss:0.00382\n",
      "[382]\tvalidation_0-logloss:0.00380\n",
      "[383]\tvalidation_0-logloss:0.00377\n",
      "[384]\tvalidation_0-logloss:0.00374\n",
      "[385]\tvalidation_0-logloss:0.00372\n",
      "[386]\tvalidation_0-logloss:0.00372\n",
      "[387]\tvalidation_0-logloss:0.00370\n",
      "[388]\tvalidation_0-logloss:0.00370\n",
      "[389]\tvalidation_0-logloss:0.00369\n",
      "[390]\tvalidation_0-logloss:0.00369\n",
      "[391]\tvalidation_0-logloss:0.00366\n",
      "[392]\tvalidation_0-logloss:0.00364\n",
      "[393]\tvalidation_0-logloss:0.00363\n",
      "[394]\tvalidation_0-logloss:0.00361\n",
      "[395]\tvalidation_0-logloss:0.00359\n",
      "[396]\tvalidation_0-logloss:0.00358\n",
      "[397]\tvalidation_0-logloss:0.00357\n",
      "[398]\tvalidation_0-logloss:0.00356\n",
      "[399]\tvalidation_0-logloss:0.00353\n",
      "[400]\tvalidation_0-logloss:0.00352\n",
      "[401]\tvalidation_0-logloss:0.00351\n",
      "[402]\tvalidation_0-logloss:0.00349\n",
      "[403]\tvalidation_0-logloss:0.00349\n",
      "[404]\tvalidation_0-logloss:0.00348\n",
      "[405]\tvalidation_0-logloss:0.00348\n",
      "[406]\tvalidation_0-logloss:0.00348\n",
      "[407]\tvalidation_0-logloss:0.00348\n",
      "[408]\tvalidation_0-logloss:0.00348\n",
      "[409]\tvalidation_0-logloss:0.00346\n",
      "[410]\tvalidation_0-logloss:0.00344\n",
      "[411]\tvalidation_0-logloss:0.00342\n",
      "[412]\tvalidation_0-logloss:0.00342\n",
      "[413]\tvalidation_0-logloss:0.00341\n",
      "[414]\tvalidation_0-logloss:0.00341\n",
      "[415]\tvalidation_0-logloss:0.00340\n",
      "[416]\tvalidation_0-logloss:0.00338\n",
      "[417]\tvalidation_0-logloss:0.00337\n",
      "[418]\tvalidation_0-logloss:0.00337\n",
      "[419]\tvalidation_0-logloss:0.00335\n",
      "[420]\tvalidation_0-logloss:0.00335\n",
      "[421]\tvalidation_0-logloss:0.00334\n",
      "[422]\tvalidation_0-logloss:0.00332\n",
      "[423]\tvalidation_0-logloss:0.00331\n",
      "[424]\tvalidation_0-logloss:0.00329\n",
      "[425]\tvalidation_0-logloss:0.00327\n",
      "[426]\tvalidation_0-logloss:0.00327\n",
      "[427]\tvalidation_0-logloss:0.00327\n",
      "[428]\tvalidation_0-logloss:0.00326\n",
      "[429]\tvalidation_0-logloss:0.00326\n",
      "[430]\tvalidation_0-logloss:0.00324\n",
      "[431]\tvalidation_0-logloss:0.00324\n",
      "[432]\tvalidation_0-logloss:0.00324\n",
      "[433]\tvalidation_0-logloss:0.00324\n",
      "[434]\tvalidation_0-logloss:0.00322\n",
      "[435]\tvalidation_0-logloss:0.00321\n",
      "[436]\tvalidation_0-logloss:0.00321\n",
      "[437]\tvalidation_0-logloss:0.00320\n",
      "[438]\tvalidation_0-logloss:0.00319\n",
      "[439]\tvalidation_0-logloss:0.00318\n",
      "[440]\tvalidation_0-logloss:0.00318\n",
      "[441]\tvalidation_0-logloss:0.00318\n",
      "[442]\tvalidation_0-logloss:0.00317\n",
      "[443]\tvalidation_0-logloss:0.00317\n",
      "[444]\tvalidation_0-logloss:0.00317\n",
      "[445]\tvalidation_0-logloss:0.00317\n",
      "[446]\tvalidation_0-logloss:0.00315\n",
      "[447]\tvalidation_0-logloss:0.00312\n",
      "[448]\tvalidation_0-logloss:0.00312\n",
      "[449]\tvalidation_0-logloss:0.00311\n",
      "[450]\tvalidation_0-logloss:0.00311\n",
      "[451]\tvalidation_0-logloss:0.00310\n",
      "[452]\tvalidation_0-logloss:0.00310\n",
      "[453]\tvalidation_0-logloss:0.00310\n",
      "[454]\tvalidation_0-logloss:0.00310\n",
      "[455]\tvalidation_0-logloss:0.00310\n",
      "[456]\tvalidation_0-logloss:0.00309\n",
      "[457]\tvalidation_0-logloss:0.00307\n",
      "[458]\tvalidation_0-logloss:0.00306\n",
      "[459]\tvalidation_0-logloss:0.00305\n",
      "[460]\tvalidation_0-logloss:0.00304\n",
      "[461]\tvalidation_0-logloss:0.00303\n",
      "[462]\tvalidation_0-logloss:0.00302\n",
      "[463]\tvalidation_0-logloss:0.00301\n",
      "[464]\tvalidation_0-logloss:0.00300\n",
      "[465]\tvalidation_0-logloss:0.00299\n",
      "[466]\tvalidation_0-logloss:0.00299\n",
      "[467]\tvalidation_0-logloss:0.00297\n",
      "[468]\tvalidation_0-logloss:0.00296\n",
      "[469]\tvalidation_0-logloss:0.00294\n",
      "[470]\tvalidation_0-logloss:0.00294\n",
      "[471]\tvalidation_0-logloss:0.00294\n",
      "[472]\tvalidation_0-logloss:0.00293\n",
      "[473]\tvalidation_0-logloss:0.00293\n",
      "[474]\tvalidation_0-logloss:0.00293\n",
      "[475]\tvalidation_0-logloss:0.00291\n",
      "[476]\tvalidation_0-logloss:0.00290\n",
      "[477]\tvalidation_0-logloss:0.00289\n",
      "[478]\tvalidation_0-logloss:0.00289\n",
      "[479]\tvalidation_0-logloss:0.00288\n",
      "[480]\tvalidation_0-logloss:0.00287\n",
      "[481]\tvalidation_0-logloss:0.00287\n",
      "[482]\tvalidation_0-logloss:0.00286\n",
      "[483]\tvalidation_0-logloss:0.00285\n",
      "[484]\tvalidation_0-logloss:0.00285\n",
      "[485]\tvalidation_0-logloss:0.00283\n",
      "[486]\tvalidation_0-logloss:0.00282\n",
      "[487]\tvalidation_0-logloss:0.00281\n",
      "[488]\tvalidation_0-logloss:0.00281\n",
      "[489]\tvalidation_0-logloss:0.00280\n",
      "[490]\tvalidation_0-logloss:0.00280\n",
      "[491]\tvalidation_0-logloss:0.00279\n",
      "[492]\tvalidation_0-logloss:0.00279\n",
      "[493]\tvalidation_0-logloss:0.00279\n",
      "[494]\tvalidation_0-logloss:0.00279\n",
      "[495]\tvalidation_0-logloss:0.00279\n",
      "[496]\tvalidation_0-logloss:0.00278\n",
      "[497]\tvalidation_0-logloss:0.00278\n",
      "[498]\tvalidation_0-logloss:0.00278\n",
      "[499]\tvalidation_0-logloss:0.00277\n",
      "[500]\tvalidation_0-logloss:0.00277\n",
      "[501]\tvalidation_0-logloss:0.00277\n",
      "[502]\tvalidation_0-logloss:0.00277\n",
      "[503]\tvalidation_0-logloss:0.00276\n",
      "[504]\tvalidation_0-logloss:0.00275\n",
      "[505]\tvalidation_0-logloss:0.00275\n",
      "[506]\tvalidation_0-logloss:0.00275\n",
      "[507]\tvalidation_0-logloss:0.00273\n",
      "[508]\tvalidation_0-logloss:0.00271\n",
      "[509]\tvalidation_0-logloss:0.00271\n",
      "[510]\tvalidation_0-logloss:0.00270\n",
      "[511]\tvalidation_0-logloss:0.00269\n",
      "[512]\tvalidation_0-logloss:0.00268\n",
      "[513]\tvalidation_0-logloss:0.00268\n",
      "[514]\tvalidation_0-logloss:0.00268\n",
      "[515]\tvalidation_0-logloss:0.00268\n",
      "[516]\tvalidation_0-logloss:0.00266\n",
      "[517]\tvalidation_0-logloss:0.00265\n",
      "[518]\tvalidation_0-logloss:0.00265\n",
      "[519]\tvalidation_0-logloss:0.00264\n",
      "[520]\tvalidation_0-logloss:0.00264\n",
      "[521]\tvalidation_0-logloss:0.00264\n",
      "[522]\tvalidation_0-logloss:0.00263\n",
      "[523]\tvalidation_0-logloss:0.00263\n",
      "[524]\tvalidation_0-logloss:0.00262\n",
      "[525]\tvalidation_0-logloss:0.00262\n",
      "[526]\tvalidation_0-logloss:0.00262\n",
      "[527]\tvalidation_0-logloss:0.00261\n",
      "[528]\tvalidation_0-logloss:0.00261\n",
      "[529]\tvalidation_0-logloss:0.00260\n",
      "[530]\tvalidation_0-logloss:0.00260\n",
      "[531]\tvalidation_0-logloss:0.00259\n",
      "[532]\tvalidation_0-logloss:0.00258\n",
      "[533]\tvalidation_0-logloss:0.00258\n",
      "[534]\tvalidation_0-logloss:0.00256\n",
      "[535]\tvalidation_0-logloss:0.00255\n",
      "[536]\tvalidation_0-logloss:0.00255\n",
      "[537]\tvalidation_0-logloss:0.00254\n",
      "[538]\tvalidation_0-logloss:0.00253\n",
      "[539]\tvalidation_0-logloss:0.00253\n",
      "[540]\tvalidation_0-logloss:0.00253\n",
      "[541]\tvalidation_0-logloss:0.00252\n",
      "[542]\tvalidation_0-logloss:0.00251\n",
      "[543]\tvalidation_0-logloss:0.00250\n",
      "[544]\tvalidation_0-logloss:0.00250\n",
      "[545]\tvalidation_0-logloss:0.00250\n",
      "[546]\tvalidation_0-logloss:0.00249\n",
      "[547]\tvalidation_0-logloss:0.00248\n",
      "[548]\tvalidation_0-logloss:0.00248\n",
      "[549]\tvalidation_0-logloss:0.00247\n",
      "[550]\tvalidation_0-logloss:0.00246\n",
      "[551]\tvalidation_0-logloss:0.00245\n",
      "[552]\tvalidation_0-logloss:0.00245\n",
      "[553]\tvalidation_0-logloss:0.00244\n",
      "[554]\tvalidation_0-logloss:0.00243\n",
      "[555]\tvalidation_0-logloss:0.00243\n",
      "[556]\tvalidation_0-logloss:0.00241\n",
      "[557]\tvalidation_0-logloss:0.00241\n",
      "[558]\tvalidation_0-logloss:0.00241\n",
      "[559]\tvalidation_0-logloss:0.00241\n",
      "[560]\tvalidation_0-logloss:0.00240\n",
      "[561]\tvalidation_0-logloss:0.00240\n",
      "[562]\tvalidation_0-logloss:0.00240\n",
      "[563]\tvalidation_0-logloss:0.00239\n",
      "[564]\tvalidation_0-logloss:0.00239\n",
      "[565]\tvalidation_0-logloss:0.00239\n",
      "[566]\tvalidation_0-logloss:0.00238\n",
      "[567]\tvalidation_0-logloss:0.00238\n",
      "[568]\tvalidation_0-logloss:0.00238\n",
      "[569]\tvalidation_0-logloss:0.00237\n",
      "[570]\tvalidation_0-logloss:0.00236\n",
      "[571]\tvalidation_0-logloss:0.00236\n",
      "[572]\tvalidation_0-logloss:0.00235\n",
      "[573]\tvalidation_0-logloss:0.00234\n",
      "[574]\tvalidation_0-logloss:0.00234\n",
      "[575]\tvalidation_0-logloss:0.00233\n",
      "[576]\tvalidation_0-logloss:0.00232\n",
      "[577]\tvalidation_0-logloss:0.00231\n",
      "[578]\tvalidation_0-logloss:0.00231\n",
      "[579]\tvalidation_0-logloss:0.00231\n",
      "[580]\tvalidation_0-logloss:0.00230\n",
      "[581]\tvalidation_0-logloss:0.00229\n",
      "[582]\tvalidation_0-logloss:0.00228\n",
      "[583]\tvalidation_0-logloss:0.00228\n",
      "[584]\tvalidation_0-logloss:0.00227\n",
      "[585]\tvalidation_0-logloss:0.00227\n",
      "[586]\tvalidation_0-logloss:0.00227\n",
      "[587]\tvalidation_0-logloss:0.00227\n",
      "[588]\tvalidation_0-logloss:0.00227\n",
      "[589]\tvalidation_0-logloss:0.00227\n",
      "[590]\tvalidation_0-logloss:0.00227\n",
      "[591]\tvalidation_0-logloss:0.00226\n",
      "[592]\tvalidation_0-logloss:0.00226\n",
      "[593]\tvalidation_0-logloss:0.00225\n",
      "[594]\tvalidation_0-logloss:0.00225\n",
      "[595]\tvalidation_0-logloss:0.00225\n",
      "[596]\tvalidation_0-logloss:0.00225\n",
      "[597]\tvalidation_0-logloss:0.00224\n",
      "[598]\tvalidation_0-logloss:0.00223\n",
      "[599]\tvalidation_0-logloss:0.00222\n",
      "[600]\tvalidation_0-logloss:0.00221\n",
      "[601]\tvalidation_0-logloss:0.00221\n",
      "[602]\tvalidation_0-logloss:0.00220\n",
      "[603]\tvalidation_0-logloss:0.00219\n",
      "[604]\tvalidation_0-logloss:0.00219\n",
      "[605]\tvalidation_0-logloss:0.00219\n",
      "[606]\tvalidation_0-logloss:0.00218\n",
      "[607]\tvalidation_0-logloss:0.00217\n",
      "[608]\tvalidation_0-logloss:0.00217\n",
      "[609]\tvalidation_0-logloss:0.00216\n",
      "[610]\tvalidation_0-logloss:0.00216\n",
      "[611]\tvalidation_0-logloss:0.00215\n",
      "[612]\tvalidation_0-logloss:0.00215\n",
      "[613]\tvalidation_0-logloss:0.00215\n",
      "[614]\tvalidation_0-logloss:0.00214\n",
      "[615]\tvalidation_0-logloss:0.00214\n",
      "[616]\tvalidation_0-logloss:0.00213\n",
      "[617]\tvalidation_0-logloss:0.00213\n",
      "[618]\tvalidation_0-logloss:0.00212\n",
      "[619]\tvalidation_0-logloss:0.00211\n",
      "[620]\tvalidation_0-logloss:0.00210\n",
      "[621]\tvalidation_0-logloss:0.00210\n",
      "[622]\tvalidation_0-logloss:0.00210\n",
      "[623]\tvalidation_0-logloss:0.00209\n",
      "[624]\tvalidation_0-logloss:0.00209\n",
      "[625]\tvalidation_0-logloss:0.00208\n",
      "[626]\tvalidation_0-logloss:0.00208\n",
      "[627]\tvalidation_0-logloss:0.00207\n",
      "[628]\tvalidation_0-logloss:0.00207\n",
      "[629]\tvalidation_0-logloss:0.00206\n",
      "[630]\tvalidation_0-logloss:0.00206\n",
      "[631]\tvalidation_0-logloss:0.00206\n",
      "[632]\tvalidation_0-logloss:0.00206\n",
      "[633]\tvalidation_0-logloss:0.00205\n",
      "[634]\tvalidation_0-logloss:0.00206\n",
      "[635]\tvalidation_0-logloss:0.00205\n",
      "[636]\tvalidation_0-logloss:0.00204\n",
      "[637]\tvalidation_0-logloss:0.00204\n",
      "[638]\tvalidation_0-logloss:0.00203\n",
      "[639]\tvalidation_0-logloss:0.00203\n",
      "[640]\tvalidation_0-logloss:0.00203\n",
      "[641]\tvalidation_0-logloss:0.00202\n",
      "[642]\tvalidation_0-logloss:0.00202\n",
      "[643]\tvalidation_0-logloss:0.00201\n",
      "[644]\tvalidation_0-logloss:0.00201\n",
      "[645]\tvalidation_0-logloss:0.00200\n",
      "[646]\tvalidation_0-logloss:0.00200\n",
      "[647]\tvalidation_0-logloss:0.00200\n",
      "[648]\tvalidation_0-logloss:0.00199\n",
      "[649]\tvalidation_0-logloss:0.00199\n",
      "[650]\tvalidation_0-logloss:0.00199\n",
      "[651]\tvalidation_0-logloss:0.00199\n",
      "[652]\tvalidation_0-logloss:0.00198\n",
      "[653]\tvalidation_0-logloss:0.00198\n",
      "[654]\tvalidation_0-logloss:0.00198\n",
      "[655]\tvalidation_0-logloss:0.00197\n",
      "[656]\tvalidation_0-logloss:0.00197\n",
      "[657]\tvalidation_0-logloss:0.00197\n",
      "[658]\tvalidation_0-logloss:0.00196\n",
      "[659]\tvalidation_0-logloss:0.00196\n",
      "[660]\tvalidation_0-logloss:0.00196\n",
      "[661]\tvalidation_0-logloss:0.00196\n",
      "[662]\tvalidation_0-logloss:0.00196\n",
      "[663]\tvalidation_0-logloss:0.00196\n",
      "[664]\tvalidation_0-logloss:0.00196\n",
      "[665]\tvalidation_0-logloss:0.00195\n",
      "[666]\tvalidation_0-logloss:0.00195\n",
      "[667]\tvalidation_0-logloss:0.00195\n",
      "[668]\tvalidation_0-logloss:0.00194\n",
      "[669]\tvalidation_0-logloss:0.00194\n",
      "[670]\tvalidation_0-logloss:0.00193\n",
      "[671]\tvalidation_0-logloss:0.00193\n",
      "[672]\tvalidation_0-logloss:0.00192\n",
      "[673]\tvalidation_0-logloss:0.00192\n",
      "[674]\tvalidation_0-logloss:0.00192\n",
      "[675]\tvalidation_0-logloss:0.00191\n",
      "[676]\tvalidation_0-logloss:0.00191\n",
      "[677]\tvalidation_0-logloss:0.00191\n",
      "[678]\tvalidation_0-logloss:0.00191\n",
      "[679]\tvalidation_0-logloss:0.00191\n",
      "[680]\tvalidation_0-logloss:0.00191\n",
      "[681]\tvalidation_0-logloss:0.00190\n",
      "[682]\tvalidation_0-logloss:0.00190\n",
      "[683]\tvalidation_0-logloss:0.00190\n",
      "[684]\tvalidation_0-logloss:0.00189\n",
      "[685]\tvalidation_0-logloss:0.00189\n",
      "[686]\tvalidation_0-logloss:0.00189\n",
      "[687]\tvalidation_0-logloss:0.00189\n",
      "[688]\tvalidation_0-logloss:0.00189\n",
      "[689]\tvalidation_0-logloss:0.00188\n",
      "[690]\tvalidation_0-logloss:0.00188\n",
      "[691]\tvalidation_0-logloss:0.00187\n",
      "[692]\tvalidation_0-logloss:0.00187\n",
      "[693]\tvalidation_0-logloss:0.00187\n",
      "[694]\tvalidation_0-logloss:0.00186\n",
      "[695]\tvalidation_0-logloss:0.00185\n",
      "[696]\tvalidation_0-logloss:0.00185\n",
      "[697]\tvalidation_0-logloss:0.00185\n",
      "[698]\tvalidation_0-logloss:0.00184\n",
      "[699]\tvalidation_0-logloss:0.00184\n",
      "[700]\tvalidation_0-logloss:0.00184\n",
      "[701]\tvalidation_0-logloss:0.00183\n",
      "[702]\tvalidation_0-logloss:0.00183\n",
      "[703]\tvalidation_0-logloss:0.00183\n",
      "[704]\tvalidation_0-logloss:0.00183\n",
      "[705]\tvalidation_0-logloss:0.00183\n",
      "[706]\tvalidation_0-logloss:0.00183\n",
      "[707]\tvalidation_0-logloss:0.00182\n",
      "[708]\tvalidation_0-logloss:0.00182\n",
      "[709]\tvalidation_0-logloss:0.00182\n",
      "[710]\tvalidation_0-logloss:0.00181\n",
      "[711]\tvalidation_0-logloss:0.00181\n",
      "[712]\tvalidation_0-logloss:0.00181\n",
      "[713]\tvalidation_0-logloss:0.00181\n",
      "[714]\tvalidation_0-logloss:0.00180\n",
      "[715]\tvalidation_0-logloss:0.00180\n",
      "[716]\tvalidation_0-logloss:0.00180\n",
      "[717]\tvalidation_0-logloss:0.00179\n",
      "[718]\tvalidation_0-logloss:0.00179\n",
      "[719]\tvalidation_0-logloss:0.00179\n",
      "[720]\tvalidation_0-logloss:0.00178\n",
      "[721]\tvalidation_0-logloss:0.00178\n",
      "[722]\tvalidation_0-logloss:0.00178\n",
      "[723]\tvalidation_0-logloss:0.00177\n",
      "[724]\tvalidation_0-logloss:0.00177\n",
      "[725]\tvalidation_0-logloss:0.00177\n",
      "[726]\tvalidation_0-logloss:0.00176\n",
      "[727]\tvalidation_0-logloss:0.00176\n",
      "[728]\tvalidation_0-logloss:0.00176\n",
      "[729]\tvalidation_0-logloss:0.00176\n",
      "[730]\tvalidation_0-logloss:0.00176\n",
      "[731]\tvalidation_0-logloss:0.00175\n",
      "[732]\tvalidation_0-logloss:0.00175\n",
      "[733]\tvalidation_0-logloss:0.00175\n",
      "[734]\tvalidation_0-logloss:0.00174\n",
      "[735]\tvalidation_0-logloss:0.00174\n",
      "[736]\tvalidation_0-logloss:0.00174\n",
      "[737]\tvalidation_0-logloss:0.00173\n",
      "[738]\tvalidation_0-logloss:0.00173\n",
      "[739]\tvalidation_0-logloss:0.00173\n",
      "[740]\tvalidation_0-logloss:0.00173\n",
      "[741]\tvalidation_0-logloss:0.00173\n",
      "[742]\tvalidation_0-logloss:0.00173\n",
      "[743]\tvalidation_0-logloss:0.00173\n",
      "[744]\tvalidation_0-logloss:0.00173\n",
      "[745]\tvalidation_0-logloss:0.00172\n",
      "[746]\tvalidation_0-logloss:0.00172\n",
      "[747]\tvalidation_0-logloss:0.00172\n",
      "[748]\tvalidation_0-logloss:0.00172\n",
      "[749]\tvalidation_0-logloss:0.00172\n",
      "[750]\tvalidation_0-logloss:0.00172\n",
      "[751]\tvalidation_0-logloss:0.00172\n",
      "[752]\tvalidation_0-logloss:0.00171\n",
      "[753]\tvalidation_0-logloss:0.00171\n",
      "[754]\tvalidation_0-logloss:0.00171\n",
      "[755]\tvalidation_0-logloss:0.00171\n",
      "[756]\tvalidation_0-logloss:0.00170\n",
      "[757]\tvalidation_0-logloss:0.00170\n",
      "[758]\tvalidation_0-logloss:0.00170\n",
      "[759]\tvalidation_0-logloss:0.00170\n",
      "[760]\tvalidation_0-logloss:0.00170\n",
      "[761]\tvalidation_0-logloss:0.00169\n",
      "[762]\tvalidation_0-logloss:0.00169\n",
      "[763]\tvalidation_0-logloss:0.00169\n",
      "[764]\tvalidation_0-logloss:0.00168\n",
      "[765]\tvalidation_0-logloss:0.00168\n",
      "[766]\tvalidation_0-logloss:0.00168\n",
      "[767]\tvalidation_0-logloss:0.00168\n",
      "[768]\tvalidation_0-logloss:0.00168\n",
      "[769]\tvalidation_0-logloss:0.00168\n",
      "[770]\tvalidation_0-logloss:0.00168\n",
      "[771]\tvalidation_0-logloss:0.00168\n",
      "[772]\tvalidation_0-logloss:0.00168\n",
      "[773]\tvalidation_0-logloss:0.00168\n",
      "[774]\tvalidation_0-logloss:0.00168\n",
      "[775]\tvalidation_0-logloss:0.00168\n",
      "[776]\tvalidation_0-logloss:0.00168\n",
      "[777]\tvalidation_0-logloss:0.00167\n",
      "[778]\tvalidation_0-logloss:0.00167\n",
      "[779]\tvalidation_0-logloss:0.00166\n",
      "[780]\tvalidation_0-logloss:0.00167\n",
      "[781]\tvalidation_0-logloss:0.00166\n",
      "[782]\tvalidation_0-logloss:0.00166\n",
      "[783]\tvalidation_0-logloss:0.00165\n",
      "[784]\tvalidation_0-logloss:0.00165\n",
      "[785]\tvalidation_0-logloss:0.00165\n",
      "[786]\tvalidation_0-logloss:0.00164\n",
      "[787]\tvalidation_0-logloss:0.00164\n",
      "[788]\tvalidation_0-logloss:0.00163\n",
      "[789]\tvalidation_0-logloss:0.00163\n",
      "[790]\tvalidation_0-logloss:0.00163\n",
      "[791]\tvalidation_0-logloss:0.00162\n",
      "[792]\tvalidation_0-logloss:0.00162\n",
      "[793]\tvalidation_0-logloss:0.00161\n",
      "[794]\tvalidation_0-logloss:0.00162\n",
      "[795]\tvalidation_0-logloss:0.00162\n",
      "[796]\tvalidation_0-logloss:0.00161\n",
      "[797]\tvalidation_0-logloss:0.00161\n",
      "[798]\tvalidation_0-logloss:0.00161\n",
      "[799]\tvalidation_0-logloss:0.00161\n",
      "[800]\tvalidation_0-logloss:0.00160\n",
      "[801]\tvalidation_0-logloss:0.00161\n",
      "[802]\tvalidation_0-logloss:0.00160\n",
      "[803]\tvalidation_0-logloss:0.00160\n",
      "[804]\tvalidation_0-logloss:0.00160\n",
      "[805]\tvalidation_0-logloss:0.00159\n",
      "[806]\tvalidation_0-logloss:0.00159\n",
      "[807]\tvalidation_0-logloss:0.00158\n",
      "[808]\tvalidation_0-logloss:0.00158\n",
      "[809]\tvalidation_0-logloss:0.00158\n",
      "[810]\tvalidation_0-logloss:0.00158\n",
      "[811]\tvalidation_0-logloss:0.00158\n",
      "[812]\tvalidation_0-logloss:0.00158\n",
      "[813]\tvalidation_0-logloss:0.00158\n",
      "[814]\tvalidation_0-logloss:0.00158\n",
      "[815]\tvalidation_0-logloss:0.00158\n",
      "[816]\tvalidation_0-logloss:0.00157\n",
      "[817]\tvalidation_0-logloss:0.00157\n",
      "[818]\tvalidation_0-logloss:0.00157\n",
      "[819]\tvalidation_0-logloss:0.00157\n",
      "[820]\tvalidation_0-logloss:0.00156\n",
      "[821]\tvalidation_0-logloss:0.00156\n",
      "[822]\tvalidation_0-logloss:0.00156\n",
      "[823]\tvalidation_0-logloss:0.00156\n",
      "[824]\tvalidation_0-logloss:0.00156\n",
      "[825]\tvalidation_0-logloss:0.00155\n",
      "[826]\tvalidation_0-logloss:0.00155\n",
      "[827]\tvalidation_0-logloss:0.00155\n",
      "[828]\tvalidation_0-logloss:0.00154\n",
      "[829]\tvalidation_0-logloss:0.00154\n",
      "[830]\tvalidation_0-logloss:0.00154\n",
      "[831]\tvalidation_0-logloss:0.00154\n",
      "[832]\tvalidation_0-logloss:0.00154\n",
      "[833]\tvalidation_0-logloss:0.00154\n",
      "[834]\tvalidation_0-logloss:0.00153\n",
      "[835]\tvalidation_0-logloss:0.00154\n",
      "[836]\tvalidation_0-logloss:0.00153\n",
      "[837]\tvalidation_0-logloss:0.00153\n",
      "[838]\tvalidation_0-logloss:0.00152\n",
      "[839]\tvalidation_0-logloss:0.00152\n",
      "[840]\tvalidation_0-logloss:0.00152\n",
      "[841]\tvalidation_0-logloss:0.00152\n",
      "[842]\tvalidation_0-logloss:0.00152\n",
      "[843]\tvalidation_0-logloss:0.00151\n",
      "[844]\tvalidation_0-logloss:0.00152\n",
      "[845]\tvalidation_0-logloss:0.00152\n",
      "[846]\tvalidation_0-logloss:0.00152\n",
      "[847]\tvalidation_0-logloss:0.00152\n",
      "[848]\tvalidation_0-logloss:0.00152\n",
      "[849]\tvalidation_0-logloss:0.00151\n",
      "[850]\tvalidation_0-logloss:0.00151\n",
      "[851]\tvalidation_0-logloss:0.00151\n",
      "[852]\tvalidation_0-logloss:0.00151\n",
      "[853]\tvalidation_0-logloss:0.00151\n",
      "[854]\tvalidation_0-logloss:0.00151\n",
      "[855]\tvalidation_0-logloss:0.00151\n",
      "[856]\tvalidation_0-logloss:0.00151\n",
      "[857]\tvalidation_0-logloss:0.00151\n",
      "[858]\tvalidation_0-logloss:0.00150\n",
      "[859]\tvalidation_0-logloss:0.00150\n",
      "[860]\tvalidation_0-logloss:0.00150\n",
      "[861]\tvalidation_0-logloss:0.00150\n",
      "[862]\tvalidation_0-logloss:0.00149\n",
      "[863]\tvalidation_0-logloss:0.00149\n",
      "[864]\tvalidation_0-logloss:0.00149\n",
      "[865]\tvalidation_0-logloss:0.00150\n",
      "[866]\tvalidation_0-logloss:0.00149\n",
      "[867]\tvalidation_0-logloss:0.00149\n",
      "[868]\tvalidation_0-logloss:0.00149\n",
      "[869]\tvalidation_0-logloss:0.00149\n",
      "[870]\tvalidation_0-logloss:0.00149\n",
      "[871]\tvalidation_0-logloss:0.00148\n",
      "[872]\tvalidation_0-logloss:0.00148\n",
      "[873]\tvalidation_0-logloss:0.00148\n",
      "[874]\tvalidation_0-logloss:0.00148\n",
      "[875]\tvalidation_0-logloss:0.00148\n",
      "[876]\tvalidation_0-logloss:0.00148\n",
      "[877]\tvalidation_0-logloss:0.00148\n",
      "[878]\tvalidation_0-logloss:0.00148\n",
      "[879]\tvalidation_0-logloss:0.00148\n",
      "[880]\tvalidation_0-logloss:0.00148\n",
      "[881]\tvalidation_0-logloss:0.00148\n",
      "[882]\tvalidation_0-logloss:0.00148\n",
      "[883]\tvalidation_0-logloss:0.00148\n",
      "[884]\tvalidation_0-logloss:0.00147\n",
      "[885]\tvalidation_0-logloss:0.00147\n",
      "[886]\tvalidation_0-logloss:0.00147\n",
      "[887]\tvalidation_0-logloss:0.00147\n",
      "[888]\tvalidation_0-logloss:0.00147\n",
      "[889]\tvalidation_0-logloss:0.00147\n",
      "[890]\tvalidation_0-logloss:0.00147\n",
      "[891]\tvalidation_0-logloss:0.00146\n",
      "[892]\tvalidation_0-logloss:0.00146\n",
      "[893]\tvalidation_0-logloss:0.00146\n",
      "[894]\tvalidation_0-logloss:0.00146\n",
      "[895]\tvalidation_0-logloss:0.00146\n",
      "[896]\tvalidation_0-logloss:0.00146\n",
      "[897]\tvalidation_0-logloss:0.00146\n",
      "[898]\tvalidation_0-logloss:0.00145\n",
      "[899]\tvalidation_0-logloss:0.00145\n",
      "[900]\tvalidation_0-logloss:0.00145\n",
      "[901]\tvalidation_0-logloss:0.00145\n",
      "[902]\tvalidation_0-logloss:0.00145\n",
      "[903]\tvalidation_0-logloss:0.00145\n",
      "[904]\tvalidation_0-logloss:0.00145\n",
      "[905]\tvalidation_0-logloss:0.00145\n",
      "[906]\tvalidation_0-logloss:0.00145\n",
      "[907]\tvalidation_0-logloss:0.00145\n",
      "[908]\tvalidation_0-logloss:0.00144\n",
      "[909]\tvalidation_0-logloss:0.00144\n",
      "[910]\tvalidation_0-logloss:0.00144\n",
      "[911]\tvalidation_0-logloss:0.00144\n",
      "[912]\tvalidation_0-logloss:0.00144\n",
      "[913]\tvalidation_0-logloss:0.00144\n",
      "[914]\tvalidation_0-logloss:0.00144\n",
      "[915]\tvalidation_0-logloss:0.00144\n",
      "[916]\tvalidation_0-logloss:0.00143\n",
      "[917]\tvalidation_0-logloss:0.00143\n",
      "[918]\tvalidation_0-logloss:0.00143\n",
      "[919]\tvalidation_0-logloss:0.00143\n",
      "[920]\tvalidation_0-logloss:0.00143\n",
      "[921]\tvalidation_0-logloss:0.00143\n",
      "[922]\tvalidation_0-logloss:0.00143\n",
      "[923]\tvalidation_0-logloss:0.00142\n",
      "[924]\tvalidation_0-logloss:0.00142\n",
      "[925]\tvalidation_0-logloss:0.00142\n",
      "[926]\tvalidation_0-logloss:0.00142\n",
      "[927]\tvalidation_0-logloss:0.00142\n",
      "[928]\tvalidation_0-logloss:0.00142\n",
      "[929]\tvalidation_0-logloss:0.00142\n",
      "[930]\tvalidation_0-logloss:0.00141\n",
      "[931]\tvalidation_0-logloss:0.00141\n",
      "[932]\tvalidation_0-logloss:0.00141\n",
      "[933]\tvalidation_0-logloss:0.00141\n",
      "[934]\tvalidation_0-logloss:0.00140\n",
      "[935]\tvalidation_0-logloss:0.00140\n",
      "[936]\tvalidation_0-logloss:0.00140\n",
      "[937]\tvalidation_0-logloss:0.00141\n",
      "[938]\tvalidation_0-logloss:0.00140\n",
      "[939]\tvalidation_0-logloss:0.00140\n",
      "[940]\tvalidation_0-logloss:0.00140\n",
      "[941]\tvalidation_0-logloss:0.00140\n",
      "[942]\tvalidation_0-logloss:0.00140\n",
      "[943]\tvalidation_0-logloss:0.00140\n",
      "[944]\tvalidation_0-logloss:0.00140\n",
      "[945]\tvalidation_0-logloss:0.00140\n",
      "[946]\tvalidation_0-logloss:0.00139\n",
      "[947]\tvalidation_0-logloss:0.00139\n",
      "[948]\tvalidation_0-logloss:0.00139\n",
      "[949]\tvalidation_0-logloss:0.00139\n",
      "[950]\tvalidation_0-logloss:0.00139\n",
      "[951]\tvalidation_0-logloss:0.00139\n",
      "[952]\tvalidation_0-logloss:0.00139\n",
      "[953]\tvalidation_0-logloss:0.00139\n",
      "[954]\tvalidation_0-logloss:0.00139\n",
      "[955]\tvalidation_0-logloss:0.00139\n",
      "[956]\tvalidation_0-logloss:0.00139\n",
      "[957]\tvalidation_0-logloss:0.00139\n",
      "[958]\tvalidation_0-logloss:0.00138\n",
      "[959]\tvalidation_0-logloss:0.00138\n",
      "[960]\tvalidation_0-logloss:0.00138\n",
      "[961]\tvalidation_0-logloss:0.00138\n",
      "[962]\tvalidation_0-logloss:0.00138\n",
      "[963]\tvalidation_0-logloss:0.00138\n",
      "[964]\tvalidation_0-logloss:0.00138\n",
      "[965]\tvalidation_0-logloss:0.00138\n",
      "[966]\tvalidation_0-logloss:0.00138\n",
      "[967]\tvalidation_0-logloss:0.00138\n",
      "[968]\tvalidation_0-logloss:0.00138\n",
      "[969]\tvalidation_0-logloss:0.00138\n",
      "[970]\tvalidation_0-logloss:0.00138\n",
      "[971]\tvalidation_0-logloss:0.00137\n",
      "[972]\tvalidation_0-logloss:0.00137\n",
      "[973]\tvalidation_0-logloss:0.00137\n",
      "[974]\tvalidation_0-logloss:0.00137\n",
      "[975]\tvalidation_0-logloss:0.00137\n",
      "[976]\tvalidation_0-logloss:0.00137\n",
      "[977]\tvalidation_0-logloss:0.00137\n",
      "[978]\tvalidation_0-logloss:0.00137\n",
      "[979]\tvalidation_0-logloss:0.00137\n",
      "[980]\tvalidation_0-logloss:0.00137\n",
      "[981]\tvalidation_0-logloss:0.00136\n",
      "[982]\tvalidation_0-logloss:0.00136\n",
      "[983]\tvalidation_0-logloss:0.00136\n",
      "[984]\tvalidation_0-logloss:0.00136\n",
      "[985]\tvalidation_0-logloss:0.00136\n",
      "[986]\tvalidation_0-logloss:0.00136\n",
      "[987]\tvalidation_0-logloss:0.00136\n",
      "[988]\tvalidation_0-logloss:0.00135\n",
      "[989]\tvalidation_0-logloss:0.00135\n",
      "[990]\tvalidation_0-logloss:0.00135\n",
      "[991]\tvalidation_0-logloss:0.00135\n",
      "[992]\tvalidation_0-logloss:0.00135\n",
      "[993]\tvalidation_0-logloss:0.00135\n",
      "[994]\tvalidation_0-logloss:0.00135\n",
      "[995]\tvalidation_0-logloss:0.00135\n",
      "[996]\tvalidation_0-logloss:0.00135\n",
      "[997]\tvalidation_0-logloss:0.00135\n",
      "[998]\tvalidation_0-logloss:0.00134\n",
      "[999]\tvalidation_0-logloss:0.00134\n",
      "[1000]\tvalidation_0-logloss:0.00134\n",
      "[1001]\tvalidation_0-logloss:0.00134\n",
      "[1002]\tvalidation_0-logloss:0.00134\n",
      "[1003]\tvalidation_0-logloss:0.00134\n",
      "[1004]\tvalidation_0-logloss:0.00133\n",
      "[1005]\tvalidation_0-logloss:0.00133\n",
      "[1006]\tvalidation_0-logloss:0.00133\n",
      "[1007]\tvalidation_0-logloss:0.00133\n",
      "[1008]\tvalidation_0-logloss:0.00133\n",
      "[1009]\tvalidation_0-logloss:0.00133\n",
      "[1010]\tvalidation_0-logloss:0.00132\n",
      "[1011]\tvalidation_0-logloss:0.00132\n",
      "[1012]\tvalidation_0-logloss:0.00132\n",
      "[1013]\tvalidation_0-logloss:0.00132\n",
      "[1014]\tvalidation_0-logloss:0.00132\n",
      "[1015]\tvalidation_0-logloss:0.00133\n",
      "[1016]\tvalidation_0-logloss:0.00133\n",
      "[1017]\tvalidation_0-logloss:0.00133\n",
      "[1018]\tvalidation_0-logloss:0.00133\n",
      "[1019]\tvalidation_0-logloss:0.00133\n",
      "[1020]\tvalidation_0-logloss:0.00133\n",
      "[1021]\tvalidation_0-logloss:0.00132\n",
      "[1022]\tvalidation_0-logloss:0.00132\n",
      "[1023]\tvalidation_0-logloss:0.00132\n",
      "[1024]\tvalidation_0-logloss:0.00132\n",
      "[1025]\tvalidation_0-logloss:0.00132\n",
      "[1026]\tvalidation_0-logloss:0.00132\n",
      "[1027]\tvalidation_0-logloss:0.00132\n",
      "[1028]\tvalidation_0-logloss:0.00132\n",
      "[1029]\tvalidation_0-logloss:0.00131\n",
      "[1030]\tvalidation_0-logloss:0.00131\n",
      "[1031]\tvalidation_0-logloss:0.00131\n",
      "[1032]\tvalidation_0-logloss:0.00131\n",
      "[1033]\tvalidation_0-logloss:0.00131\n",
      "[1034]\tvalidation_0-logloss:0.00131\n",
      "[1035]\tvalidation_0-logloss:0.00131\n",
      "[1036]\tvalidation_0-logloss:0.00130\n",
      "[1037]\tvalidation_0-logloss:0.00131\n",
      "[1038]\tvalidation_0-logloss:0.00131\n",
      "[1039]\tvalidation_0-logloss:0.00130\n",
      "[1040]\tvalidation_0-logloss:0.00130\n",
      "[1041]\tvalidation_0-logloss:0.00130\n",
      "[1042]\tvalidation_0-logloss:0.00130\n",
      "[1043]\tvalidation_0-logloss:0.00130\n",
      "[1044]\tvalidation_0-logloss:0.00130\n",
      "[1045]\tvalidation_0-logloss:0.00130\n",
      "[1046]\tvalidation_0-logloss:0.00129\n",
      "[1047]\tvalidation_0-logloss:0.00129\n",
      "[1048]\tvalidation_0-logloss:0.00129\n",
      "[1049]\tvalidation_0-logloss:0.00129\n",
      "[1050]\tvalidation_0-logloss:0.00129\n",
      "[1051]\tvalidation_0-logloss:0.00129\n",
      "[1052]\tvalidation_0-logloss:0.00129\n",
      "[1053]\tvalidation_0-logloss:0.00128\n",
      "[1054]\tvalidation_0-logloss:0.00128\n",
      "[1055]\tvalidation_0-logloss:0.00128\n",
      "[1056]\tvalidation_0-logloss:0.00128\n",
      "[1057]\tvalidation_0-logloss:0.00128\n",
      "[1058]\tvalidation_0-logloss:0.00128\n",
      "[1059]\tvalidation_0-logloss:0.00128\n",
      "[1060]\tvalidation_0-logloss:0.00128\n",
      "[1061]\tvalidation_0-logloss:0.00128\n",
      "[1062]\tvalidation_0-logloss:0.00127\n",
      "[1063]\tvalidation_0-logloss:0.00127\n",
      "[1064]\tvalidation_0-logloss:0.00127\n",
      "[1065]\tvalidation_0-logloss:0.00127\n",
      "[1066]\tvalidation_0-logloss:0.00127\n",
      "[1067]\tvalidation_0-logloss:0.00127\n",
      "[1068]\tvalidation_0-logloss:0.00127\n",
      "[1069]\tvalidation_0-logloss:0.00127\n",
      "[1070]\tvalidation_0-logloss:0.00127\n",
      "[1071]\tvalidation_0-logloss:0.00127\n",
      "[1072]\tvalidation_0-logloss:0.00126\n",
      "[1073]\tvalidation_0-logloss:0.00127\n",
      "[1074]\tvalidation_0-logloss:0.00126\n",
      "[1075]\tvalidation_0-logloss:0.00126\n",
      "[1076]\tvalidation_0-logloss:0.00126\n",
      "[1077]\tvalidation_0-logloss:0.00126\n",
      "[1078]\tvalidation_0-logloss:0.00126\n",
      "[1079]\tvalidation_0-logloss:0.00126\n",
      "[1080]\tvalidation_0-logloss:0.00126\n",
      "[1081]\tvalidation_0-logloss:0.00126\n",
      "[1082]\tvalidation_0-logloss:0.00126\n",
      "[1083]\tvalidation_0-logloss:0.00126\n",
      "[1084]\tvalidation_0-logloss:0.00126\n",
      "[1085]\tvalidation_0-logloss:0.00125\n",
      "[1086]\tvalidation_0-logloss:0.00125\n",
      "[1087]\tvalidation_0-logloss:0.00125\n",
      "[1088]\tvalidation_0-logloss:0.00125\n",
      "[1089]\tvalidation_0-logloss:0.00125\n",
      "[1090]\tvalidation_0-logloss:0.00125\n",
      "[1091]\tvalidation_0-logloss:0.00125\n",
      "[1092]\tvalidation_0-logloss:0.00125\n",
      "[1093]\tvalidation_0-logloss:0.00125\n",
      "[1094]\tvalidation_0-logloss:0.00125\n",
      "[1095]\tvalidation_0-logloss:0.00124\n",
      "[1096]\tvalidation_0-logloss:0.00124\n",
      "[1097]\tvalidation_0-logloss:0.00124\n",
      "[1098]\tvalidation_0-logloss:0.00124\n",
      "[1099]\tvalidation_0-logloss:0.00124\n",
      "[1100]\tvalidation_0-logloss:0.00124\n",
      "[1101]\tvalidation_0-logloss:0.00124\n",
      "[1102]\tvalidation_0-logloss:0.00124\n",
      "[1103]\tvalidation_0-logloss:0.00124\n",
      "[1104]\tvalidation_0-logloss:0.00124\n",
      "[1105]\tvalidation_0-logloss:0.00124\n",
      "[1106]\tvalidation_0-logloss:0.00124\n",
      "[1107]\tvalidation_0-logloss:0.00124\n",
      "[1108]\tvalidation_0-logloss:0.00124\n",
      "[1109]\tvalidation_0-logloss:0.00123\n",
      "[1110]\tvalidation_0-logloss:0.00123\n",
      "[1111]\tvalidation_0-logloss:0.00123\n",
      "[1112]\tvalidation_0-logloss:0.00123\n",
      "[1113]\tvalidation_0-logloss:0.00123\n",
      "[1114]\tvalidation_0-logloss:0.00123\n",
      "[1115]\tvalidation_0-logloss:0.00123\n",
      "[1116]\tvalidation_0-logloss:0.00123\n",
      "[1117]\tvalidation_0-logloss:0.00123\n",
      "[1118]\tvalidation_0-logloss:0.00123\n",
      "[1119]\tvalidation_0-logloss:0.00123\n",
      "[1120]\tvalidation_0-logloss:0.00123\n",
      "[1121]\tvalidation_0-logloss:0.00123\n",
      "[1122]\tvalidation_0-logloss:0.00123\n",
      "[1123]\tvalidation_0-logloss:0.00123\n",
      "[1124]\tvalidation_0-logloss:0.00122\n",
      "[1125]\tvalidation_0-logloss:0.00122\n",
      "[1126]\tvalidation_0-logloss:0.00122\n",
      "[1127]\tvalidation_0-logloss:0.00122\n",
      "[1128]\tvalidation_0-logloss:0.00122\n",
      "[1129]\tvalidation_0-logloss:0.00122\n",
      "[1130]\tvalidation_0-logloss:0.00121\n",
      "[1131]\tvalidation_0-logloss:0.00121\n",
      "[1132]\tvalidation_0-logloss:0.00122\n",
      "[1133]\tvalidation_0-logloss:0.00121\n",
      "[1134]\tvalidation_0-logloss:0.00121\n",
      "[1135]\tvalidation_0-logloss:0.00121\n",
      "[1136]\tvalidation_0-logloss:0.00121\n",
      "[1137]\tvalidation_0-logloss:0.00121\n",
      "[1138]\tvalidation_0-logloss:0.00121\n",
      "[1139]\tvalidation_0-logloss:0.00121\n",
      "[1140]\tvalidation_0-logloss:0.00121\n",
      "[1141]\tvalidation_0-logloss:0.00121\n",
      "[1142]\tvalidation_0-logloss:0.00121\n",
      "[1143]\tvalidation_0-logloss:0.00121\n",
      "[1144]\tvalidation_0-logloss:0.00120\n",
      "[1145]\tvalidation_0-logloss:0.00120\n",
      "[1146]\tvalidation_0-logloss:0.00120\n",
      "[1147]\tvalidation_0-logloss:0.00120\n",
      "[1148]\tvalidation_0-logloss:0.00120\n",
      "[1149]\tvalidation_0-logloss:0.00120\n",
      "[1150]\tvalidation_0-logloss:0.00120\n",
      "[1151]\tvalidation_0-logloss:0.00120\n",
      "[1152]\tvalidation_0-logloss:0.00119\n",
      "[1153]\tvalidation_0-logloss:0.00119\n",
      "[1154]\tvalidation_0-logloss:0.00119\n",
      "[1155]\tvalidation_0-logloss:0.00119\n",
      "[1156]\tvalidation_0-logloss:0.00119\n",
      "[1157]\tvalidation_0-logloss:0.00119\n",
      "[1158]\tvalidation_0-logloss:0.00119\n",
      "[1159]\tvalidation_0-logloss:0.00119\n",
      "[1160]\tvalidation_0-logloss:0.00119\n",
      "[1161]\tvalidation_0-logloss:0.00119\n",
      "[1162]\tvalidation_0-logloss:0.00119\n",
      "[1163]\tvalidation_0-logloss:0.00119\n",
      "[1164]\tvalidation_0-logloss:0.00119\n",
      "[1165]\tvalidation_0-logloss:0.00119\n",
      "[1166]\tvalidation_0-logloss:0.00118\n",
      "[1167]\tvalidation_0-logloss:0.00118\n",
      "[1168]\tvalidation_0-logloss:0.00118\n",
      "[1169]\tvalidation_0-logloss:0.00118\n",
      "[1170]\tvalidation_0-logloss:0.00118\n",
      "[1171]\tvalidation_0-logloss:0.00118\n",
      "[1172]\tvalidation_0-logloss:0.00118\n",
      "[1173]\tvalidation_0-logloss:0.00118\n",
      "[1174]\tvalidation_0-logloss:0.00118\n",
      "[1175]\tvalidation_0-logloss:0.00118\n",
      "[1176]\tvalidation_0-logloss:0.00118\n",
      "[1177]\tvalidation_0-logloss:0.00118\n",
      "[1178]\tvalidation_0-logloss:0.00118\n",
      "[1179]\tvalidation_0-logloss:0.00118\n",
      "[1180]\tvalidation_0-logloss:0.00118\n",
      "[1181]\tvalidation_0-logloss:0.00117\n",
      "[1182]\tvalidation_0-logloss:0.00117\n",
      "[1183]\tvalidation_0-logloss:0.00117\n",
      "[1184]\tvalidation_0-logloss:0.00117\n",
      "[1185]\tvalidation_0-logloss:0.00117\n",
      "[1186]\tvalidation_0-logloss:0.00117\n",
      "[1187]\tvalidation_0-logloss:0.00117\n",
      "[1188]\tvalidation_0-logloss:0.00117\n",
      "[1189]\tvalidation_0-logloss:0.00117\n",
      "[1190]\tvalidation_0-logloss:0.00117\n",
      "[1191]\tvalidation_0-logloss:0.00117\n",
      "[1192]\tvalidation_0-logloss:0.00116\n",
      "[1193]\tvalidation_0-logloss:0.00116\n",
      "[1194]\tvalidation_0-logloss:0.00116\n",
      "[1195]\tvalidation_0-logloss:0.00116\n",
      "[1196]\tvalidation_0-logloss:0.00116\n",
      "[1197]\tvalidation_0-logloss:0.00116\n",
      "[1198]\tvalidation_0-logloss:0.00116\n",
      "[1199]\tvalidation_0-logloss:0.00116\n",
      "[1200]\tvalidation_0-logloss:0.00116\n",
      "[1201]\tvalidation_0-logloss:0.00116\n",
      "[1202]\tvalidation_0-logloss:0.00116\n",
      "[1203]\tvalidation_0-logloss:0.00116\n",
      "[1204]\tvalidation_0-logloss:0.00115\n",
      "[1205]\tvalidation_0-logloss:0.00115\n",
      "[1206]\tvalidation_0-logloss:0.00115\n",
      "[1207]\tvalidation_0-logloss:0.00115\n",
      "[1208]\tvalidation_0-logloss:0.00115\n",
      "[1209]\tvalidation_0-logloss:0.00115\n",
      "[1210]\tvalidation_0-logloss:0.00115\n",
      "[1211]\tvalidation_0-logloss:0.00115\n",
      "[1212]\tvalidation_0-logloss:0.00115\n",
      "[1213]\tvalidation_0-logloss:0.00115\n",
      "[1214]\tvalidation_0-logloss:0.00115\n",
      "[1215]\tvalidation_0-logloss:0.00115\n",
      "[1216]\tvalidation_0-logloss:0.00115\n",
      "[1217]\tvalidation_0-logloss:0.00115\n",
      "[1218]\tvalidation_0-logloss:0.00115\n",
      "[1219]\tvalidation_0-logloss:0.00115\n",
      "[1220]\tvalidation_0-logloss:0.00115\n",
      "[1221]\tvalidation_0-logloss:0.00115\n",
      "[1222]\tvalidation_0-logloss:0.00114\n",
      "[1223]\tvalidation_0-logloss:0.00114\n",
      "[1224]\tvalidation_0-logloss:0.00114\n",
      "[1225]\tvalidation_0-logloss:0.00114\n",
      "[1226]\tvalidation_0-logloss:0.00114\n",
      "[1227]\tvalidation_0-logloss:0.00114\n",
      "[1228]\tvalidation_0-logloss:0.00114\n",
      "[1229]\tvalidation_0-logloss:0.00114\n",
      "[1230]\tvalidation_0-logloss:0.00114\n",
      "[1231]\tvalidation_0-logloss:0.00114\n",
      "[1232]\tvalidation_0-logloss:0.00114\n",
      "[1233]\tvalidation_0-logloss:0.00114\n",
      "[1234]\tvalidation_0-logloss:0.00114\n",
      "[1235]\tvalidation_0-logloss:0.00114\n",
      "[1236]\tvalidation_0-logloss:0.00114\n",
      "[1237]\tvalidation_0-logloss:0.00114\n",
      "[1238]\tvalidation_0-logloss:0.00114\n",
      "[1239]\tvalidation_0-logloss:0.00114\n",
      "[1240]\tvalidation_0-logloss:0.00114\n",
      "[1241]\tvalidation_0-logloss:0.00114\n",
      "[1242]\tvalidation_0-logloss:0.00114\n",
      "[1243]\tvalidation_0-logloss:0.00114\n",
      "[1244]\tvalidation_0-logloss:0.00114\n",
      "[1245]\tvalidation_0-logloss:0.00114\n",
      "[1246]\tvalidation_0-logloss:0.00113\n",
      "[1247]\tvalidation_0-logloss:0.00113\n",
      "[1248]\tvalidation_0-logloss:0.00113\n",
      "[1249]\tvalidation_0-logloss:0.00113\n",
      "[1250]\tvalidation_0-logloss:0.00113\n",
      "[1251]\tvalidation_0-logloss:0.00113\n",
      "[1252]\tvalidation_0-logloss:0.00113\n",
      "[1253]\tvalidation_0-logloss:0.00113\n",
      "[1254]\tvalidation_0-logloss:0.00113\n",
      "[1255]\tvalidation_0-logloss:0.00113\n",
      "[1256]\tvalidation_0-logloss:0.00113\n",
      "[1257]\tvalidation_0-logloss:0.00113\n",
      "[1258]\tvalidation_0-logloss:0.00113\n",
      "[1259]\tvalidation_0-logloss:0.00112\n",
      "[1260]\tvalidation_0-logloss:0.00112\n",
      "[1261]\tvalidation_0-logloss:0.00112\n",
      "[1262]\tvalidation_0-logloss:0.00112\n",
      "[1263]\tvalidation_0-logloss:0.00112\n",
      "[1264]\tvalidation_0-logloss:0.00112\n",
      "[1265]\tvalidation_0-logloss:0.00112\n",
      "[1266]\tvalidation_0-logloss:0.00112\n",
      "[1267]\tvalidation_0-logloss:0.00112\n",
      "[1268]\tvalidation_0-logloss:0.00112\n",
      "[1269]\tvalidation_0-logloss:0.00112\n",
      "[1270]\tvalidation_0-logloss:0.00112\n",
      "[1271]\tvalidation_0-logloss:0.00112\n",
      "[1272]\tvalidation_0-logloss:0.00112\n",
      "[1273]\tvalidation_0-logloss:0.00111\n",
      "[1274]\tvalidation_0-logloss:0.00111\n",
      "[1275]\tvalidation_0-logloss:0.00111\n",
      "[1276]\tvalidation_0-logloss:0.00111\n",
      "[1277]\tvalidation_0-logloss:0.00111\n",
      "[1278]\tvalidation_0-logloss:0.00111\n",
      "[1279]\tvalidation_0-logloss:0.00111\n",
      "[1280]\tvalidation_0-logloss:0.00111\n",
      "[1281]\tvalidation_0-logloss:0.00111\n",
      "[1282]\tvalidation_0-logloss:0.00111\n",
      "[1283]\tvalidation_0-logloss:0.00111\n",
      "[1284]\tvalidation_0-logloss:0.00111\n",
      "[1285]\tvalidation_0-logloss:0.00111\n",
      "[1286]\tvalidation_0-logloss:0.00111\n",
      "[1287]\tvalidation_0-logloss:0.00111\n",
      "[1288]\tvalidation_0-logloss:0.00111\n",
      "[1289]\tvalidation_0-logloss:0.00111\n",
      "[1290]\tvalidation_0-logloss:0.00111\n",
      "[1291]\tvalidation_0-logloss:0.00111\n",
      "[1292]\tvalidation_0-logloss:0.00111\n",
      "[1293]\tvalidation_0-logloss:0.00111\n",
      "[1294]\tvalidation_0-logloss:0.00111\n",
      "[1295]\tvalidation_0-logloss:0.00111\n",
      "[1296]\tvalidation_0-logloss:0.00111\n",
      "[1297]\tvalidation_0-logloss:0.00111\n",
      "[1298]\tvalidation_0-logloss:0.00111\n",
      "[1299]\tvalidation_0-logloss:0.00111\n",
      "[1300]\tvalidation_0-logloss:0.00111\n",
      "[1301]\tvalidation_0-logloss:0.00111\n",
      "[1302]\tvalidation_0-logloss:0.00111\n",
      "[1303]\tvalidation_0-logloss:0.00110\n",
      "[1304]\tvalidation_0-logloss:0.00110\n",
      "[1305]\tvalidation_0-logloss:0.00110\n",
      "[1306]\tvalidation_0-logloss:0.00110\n",
      "[1307]\tvalidation_0-logloss:0.00110\n",
      "[1308]\tvalidation_0-logloss:0.00110\n",
      "[1309]\tvalidation_0-logloss:0.00110\n",
      "[1310]\tvalidation_0-logloss:0.00110\n",
      "[1311]\tvalidation_0-logloss:0.00110\n",
      "[1312]\tvalidation_0-logloss:0.00110\n",
      "[1313]\tvalidation_0-logloss:0.00110\n",
      "[1314]\tvalidation_0-logloss:0.00110\n",
      "[1315]\tvalidation_0-logloss:0.00110\n",
      "[1316]\tvalidation_0-logloss:0.00110\n",
      "[1317]\tvalidation_0-logloss:0.00110\n",
      "[1318]\tvalidation_0-logloss:0.00110\n",
      "[1319]\tvalidation_0-logloss:0.00110\n",
      "[1320]\tvalidation_0-logloss:0.00110\n",
      "[1321]\tvalidation_0-logloss:0.00110\n",
      "[1322]\tvalidation_0-logloss:0.00110\n",
      "[1323]\tvalidation_0-logloss:0.00110\n",
      "[1324]\tvalidation_0-logloss:0.00110\n",
      "[1325]\tvalidation_0-logloss:0.00110\n",
      "[1326]\tvalidation_0-logloss:0.00109\n",
      "[1327]\tvalidation_0-logloss:0.00109\n",
      "[1328]\tvalidation_0-logloss:0.00109\n",
      "[1329]\tvalidation_0-logloss:0.00109\n",
      "[1330]\tvalidation_0-logloss:0.00109\n",
      "[1331]\tvalidation_0-logloss:0.00109\n",
      "[1332]\tvalidation_0-logloss:0.00109\n",
      "[1333]\tvalidation_0-logloss:0.00109\n",
      "[1334]\tvalidation_0-logloss:0.00109\n",
      "[1335]\tvalidation_0-logloss:0.00109\n",
      "[1336]\tvalidation_0-logloss:0.00109\n",
      "[1337]\tvalidation_0-logloss:0.00109\n",
      "[1338]\tvalidation_0-logloss:0.00109\n",
      "[1339]\tvalidation_0-logloss:0.00109\n",
      "[1340]\tvalidation_0-logloss:0.00109\n",
      "[1341]\tvalidation_0-logloss:0.00109\n",
      "[1342]\tvalidation_0-logloss:0.00109\n",
      "[1343]\tvalidation_0-logloss:0.00109\n",
      "[1344]\tvalidation_0-logloss:0.00109\n",
      "[1345]\tvalidation_0-logloss:0.00109\n",
      "[1346]\tvalidation_0-logloss:0.00109\n",
      "[1347]\tvalidation_0-logloss:0.00109\n",
      "[1348]\tvalidation_0-logloss:0.00109\n",
      "[1349]\tvalidation_0-logloss:0.00108\n",
      "[1350]\tvalidation_0-logloss:0.00108\n",
      "[1351]\tvalidation_0-logloss:0.00108\n",
      "[1352]\tvalidation_0-logloss:0.00108\n",
      "[1353]\tvalidation_0-logloss:0.00108\n",
      "[1354]\tvalidation_0-logloss:0.00108\n",
      "[1355]\tvalidation_0-logloss:0.00108\n",
      "[1356]\tvalidation_0-logloss:0.00108\n",
      "[1357]\tvalidation_0-logloss:0.00108\n",
      "[1358]\tvalidation_0-logloss:0.00108\n",
      "[1359]\tvalidation_0-logloss:0.00108\n",
      "[1360]\tvalidation_0-logloss:0.00108\n",
      "[1361]\tvalidation_0-logloss:0.00108\n",
      "[1362]\tvalidation_0-logloss:0.00108\n",
      "[1363]\tvalidation_0-logloss:0.00108\n",
      "[1364]\tvalidation_0-logloss:0.00108\n",
      "[1365]\tvalidation_0-logloss:0.00108\n",
      "[1366]\tvalidation_0-logloss:0.00108\n",
      "[1367]\tvalidation_0-logloss:0.00108\n",
      "[1368]\tvalidation_0-logloss:0.00108\n",
      "[1369]\tvalidation_0-logloss:0.00108\n",
      "[1370]\tvalidation_0-logloss:0.00108\n",
      "[1371]\tvalidation_0-logloss:0.00108\n",
      "[1372]\tvalidation_0-logloss:0.00108\n",
      "[1373]\tvalidation_0-logloss:0.00108\n",
      "[1374]\tvalidation_0-logloss:0.00108\n",
      "[1375]\tvalidation_0-logloss:0.00108\n",
      "[1376]\tvalidation_0-logloss:0.00107\n",
      "[1377]\tvalidation_0-logloss:0.00107\n",
      "[1378]\tvalidation_0-logloss:0.00107\n",
      "[1379]\tvalidation_0-logloss:0.00107\n",
      "[1380]\tvalidation_0-logloss:0.00107\n",
      "[1381]\tvalidation_0-logloss:0.00107\n",
      "[1382]\tvalidation_0-logloss:0.00107\n",
      "[1383]\tvalidation_0-logloss:0.00107\n",
      "[1384]\tvalidation_0-logloss:0.00107\n",
      "[1385]\tvalidation_0-logloss:0.00107\n",
      "[1386]\tvalidation_0-logloss:0.00107\n",
      "[1387]\tvalidation_0-logloss:0.00107\n",
      "[1388]\tvalidation_0-logloss:0.00107\n",
      "[1389]\tvalidation_0-logloss:0.00107\n",
      "[1390]\tvalidation_0-logloss:0.00107\n",
      "[1391]\tvalidation_0-logloss:0.00107\n",
      "[1392]\tvalidation_0-logloss:0.00107\n",
      "[1393]\tvalidation_0-logloss:0.00107\n",
      "[1394]\tvalidation_0-logloss:0.00107\n",
      "[1395]\tvalidation_0-logloss:0.00107\n",
      "[1396]\tvalidation_0-logloss:0.00107\n",
      "[1397]\tvalidation_0-logloss:0.00107\n",
      "[1398]\tvalidation_0-logloss:0.00107\n",
      "[1399]\tvalidation_0-logloss:0.00107\n",
      "[1400]\tvalidation_0-logloss:0.00107\n",
      "[1401]\tvalidation_0-logloss:0.00107\n",
      "[1402]\tvalidation_0-logloss:0.00107\n",
      "[1403]\tvalidation_0-logloss:0.00107\n",
      "[1404]\tvalidation_0-logloss:0.00106\n",
      "[1405]\tvalidation_0-logloss:0.00106\n",
      "[1406]\tvalidation_0-logloss:0.00106\n",
      "[1407]\tvalidation_0-logloss:0.00106\n",
      "[1408]\tvalidation_0-logloss:0.00106\n",
      "[1409]\tvalidation_0-logloss:0.00106\n",
      "[1410]\tvalidation_0-logloss:0.00106\n",
      "[1411]\tvalidation_0-logloss:0.00106\n",
      "[1412]\tvalidation_0-logloss:0.00106\n",
      "[1413]\tvalidation_0-logloss:0.00106\n",
      "[1414]\tvalidation_0-logloss:0.00106\n",
      "[1415]\tvalidation_0-logloss:0.00106\n",
      "[1416]\tvalidation_0-logloss:0.00106\n",
      "[1417]\tvalidation_0-logloss:0.00106\n",
      "[1418]\tvalidation_0-logloss:0.00106\n",
      "[1419]\tvalidation_0-logloss:0.00106\n",
      "[1420]\tvalidation_0-logloss:0.00106\n",
      "[1421]\tvalidation_0-logloss:0.00106\n",
      "[1422]\tvalidation_0-logloss:0.00106\n",
      "[1423]\tvalidation_0-logloss:0.00105\n",
      "[1424]\tvalidation_0-logloss:0.00105\n",
      "[1425]\tvalidation_0-logloss:0.00105\n",
      "[1426]\tvalidation_0-logloss:0.00105\n",
      "[1427]\tvalidation_0-logloss:0.00105\n",
      "[1428]\tvalidation_0-logloss:0.00105\n",
      "[1429]\tvalidation_0-logloss:0.00105\n",
      "[1430]\tvalidation_0-logloss:0.00105\n",
      "[1431]\tvalidation_0-logloss:0.00105\n",
      "[1432]\tvalidation_0-logloss:0.00105\n",
      "[1433]\tvalidation_0-logloss:0.00105\n",
      "[1434]\tvalidation_0-logloss:0.00105\n",
      "[1435]\tvalidation_0-logloss:0.00105\n",
      "[1436]\tvalidation_0-logloss:0.00105\n",
      "[1437]\tvalidation_0-logloss:0.00105\n",
      "[1438]\tvalidation_0-logloss:0.00105\n",
      "[1439]\tvalidation_0-logloss:0.00105\n",
      "[1440]\tvalidation_0-logloss:0.00105\n",
      "[1441]\tvalidation_0-logloss:0.00105\n",
      "[1442]\tvalidation_0-logloss:0.00105\n",
      "[1443]\tvalidation_0-logloss:0.00105\n",
      "[1444]\tvalidation_0-logloss:0.00105\n",
      "[1445]\tvalidation_0-logloss:0.00105\n",
      "[1446]\tvalidation_0-logloss:0.00105\n",
      "[1447]\tvalidation_0-logloss:0.00105\n",
      "[1448]\tvalidation_0-logloss:0.00105\n",
      "[1449]\tvalidation_0-logloss:0.00105\n",
      "[1450]\tvalidation_0-logloss:0.00105\n",
      "[1451]\tvalidation_0-logloss:0.00105\n",
      "[1452]\tvalidation_0-logloss:0.00105\n",
      "[1453]\tvalidation_0-logloss:0.00105\n",
      "[1454]\tvalidation_0-logloss:0.00104\n",
      "[1455]\tvalidation_0-logloss:0.00104\n",
      "[1456]\tvalidation_0-logloss:0.00104\n",
      "[1457]\tvalidation_0-logloss:0.00104\n",
      "[1458]\tvalidation_0-logloss:0.00104\n",
      "[1459]\tvalidation_0-logloss:0.00104\n",
      "[1460]\tvalidation_0-logloss:0.00104\n",
      "[1461]\tvalidation_0-logloss:0.00104\n",
      "[1462]\tvalidation_0-logloss:0.00104\n",
      "[1463]\tvalidation_0-logloss:0.00104\n",
      "[1464]\tvalidation_0-logloss:0.00104\n",
      "[1465]\tvalidation_0-logloss:0.00104\n",
      "[1466]\tvalidation_0-logloss:0.00104\n",
      "[1467]\tvalidation_0-logloss:0.00104\n",
      "[1468]\tvalidation_0-logloss:0.00104\n",
      "[1469]\tvalidation_0-logloss:0.00104\n",
      "[1470]\tvalidation_0-logloss:0.00104\n",
      "[1471]\tvalidation_0-logloss:0.00104\n",
      "[1472]\tvalidation_0-logloss:0.00104\n",
      "[1473]\tvalidation_0-logloss:0.00104\n",
      "[1474]\tvalidation_0-logloss:0.00104\n",
      "[1475]\tvalidation_0-logloss:0.00104\n",
      "[1476]\tvalidation_0-logloss:0.00104\n",
      "[1477]\tvalidation_0-logloss:0.00104\n",
      "[1478]\tvalidation_0-logloss:0.00103\n",
      "[1479]\tvalidation_0-logloss:0.00103\n",
      "[1480]\tvalidation_0-logloss:0.00103\n",
      "[1481]\tvalidation_0-logloss:0.00103\n",
      "[1482]\tvalidation_0-logloss:0.00103\n",
      "[1483]\tvalidation_0-logloss:0.00103\n",
      "[1484]\tvalidation_0-logloss:0.00103\n",
      "[1485]\tvalidation_0-logloss:0.00103\n",
      "[1486]\tvalidation_0-logloss:0.00103\n",
      "[1487]\tvalidation_0-logloss:0.00103\n",
      "[1488]\tvalidation_0-logloss:0.00103\n",
      "[1489]\tvalidation_0-logloss:0.00103\n",
      "[1490]\tvalidation_0-logloss:0.00103\n",
      "[1491]\tvalidation_0-logloss:0.00103\n",
      "[1492]\tvalidation_0-logloss:0.00103\n",
      "[1493]\tvalidation_0-logloss:0.00103\n",
      "[1494]\tvalidation_0-logloss:0.00103\n",
      "[1495]\tvalidation_0-logloss:0.00103\n",
      "[1496]\tvalidation_0-logloss:0.00103\n",
      "[1497]\tvalidation_0-logloss:0.00103\n",
      "[1498]\tvalidation_0-logloss:0.00103\n",
      "[1499]\tvalidation_0-logloss:0.00103\n",
      "[1500]\tvalidation_0-logloss:0.00103\n",
      "[1501]\tvalidation_0-logloss:0.00103\n",
      "[1502]\tvalidation_0-logloss:0.00103\n",
      "[1503]\tvalidation_0-logloss:0.00103\n",
      "[1504]\tvalidation_0-logloss:0.00103\n",
      "[1505]\tvalidation_0-logloss:0.00103\n",
      "[1506]\tvalidation_0-logloss:0.00103\n",
      "[1507]\tvalidation_0-logloss:0.00103\n",
      "[1508]\tvalidation_0-logloss:0.00102\n",
      "[1509]\tvalidation_0-logloss:0.00102\n",
      "[1510]\tvalidation_0-logloss:0.00102\n",
      "[1511]\tvalidation_0-logloss:0.00102\n",
      "[1512]\tvalidation_0-logloss:0.00102\n",
      "[1513]\tvalidation_0-logloss:0.00102\n",
      "[1514]\tvalidation_0-logloss:0.00102\n",
      "[1515]\tvalidation_0-logloss:0.00102\n",
      "[1516]\tvalidation_0-logloss:0.00102\n",
      "[1517]\tvalidation_0-logloss:0.00102\n",
      "[1518]\tvalidation_0-logloss:0.00102\n",
      "[1519]\tvalidation_0-logloss:0.00102\n",
      "[1520]\tvalidation_0-logloss:0.00102\n",
      "[1521]\tvalidation_0-logloss:0.00102\n",
      "[1522]\tvalidation_0-logloss:0.00102\n",
      "[1523]\tvalidation_0-logloss:0.00102\n",
      "[1524]\tvalidation_0-logloss:0.00102\n",
      "[1525]\tvalidation_0-logloss:0.00102\n",
      "[1526]\tvalidation_0-logloss:0.00102\n",
      "[1527]\tvalidation_0-logloss:0.00102\n",
      "[1528]\tvalidation_0-logloss:0.00102\n",
      "[1529]\tvalidation_0-logloss:0.00102\n",
      "[1530]\tvalidation_0-logloss:0.00101\n",
      "[1531]\tvalidation_0-logloss:0.00101\n",
      "[1532]\tvalidation_0-logloss:0.00101\n",
      "[1533]\tvalidation_0-logloss:0.00101\n",
      "[1534]\tvalidation_0-logloss:0.00101\n",
      "[1535]\tvalidation_0-logloss:0.00101\n",
      "[1536]\tvalidation_0-logloss:0.00101\n",
      "[1537]\tvalidation_0-logloss:0.00101\n",
      "[1538]\tvalidation_0-logloss:0.00101\n",
      "[1539]\tvalidation_0-logloss:0.00101\n",
      "[1540]\tvalidation_0-logloss:0.00101\n",
      "[1541]\tvalidation_0-logloss:0.00101\n",
      "[1542]\tvalidation_0-logloss:0.00101\n",
      "[1543]\tvalidation_0-logloss:0.00101\n",
      "[1544]\tvalidation_0-logloss:0.00101\n",
      "[1545]\tvalidation_0-logloss:0.00101\n",
      "[1546]\tvalidation_0-logloss:0.00101\n",
      "[1547]\tvalidation_0-logloss:0.00101\n",
      "[1548]\tvalidation_0-logloss:0.00101\n",
      "[1549]\tvalidation_0-logloss:0.00101\n",
      "[1550]\tvalidation_0-logloss:0.00101\n",
      "[1551]\tvalidation_0-logloss:0.00101\n",
      "[1552]\tvalidation_0-logloss:0.00101\n",
      "[1553]\tvalidation_0-logloss:0.00101\n",
      "[1554]\tvalidation_0-logloss:0.00101\n",
      "[1555]\tvalidation_0-logloss:0.00101\n",
      "[1556]\tvalidation_0-logloss:0.00101\n",
      "[1557]\tvalidation_0-logloss:0.00101\n",
      "[1558]\tvalidation_0-logloss:0.00101\n",
      "[1559]\tvalidation_0-logloss:0.00101\n",
      "[1560]\tvalidation_0-logloss:0.00101\n",
      "[1561]\tvalidation_0-logloss:0.00101\n",
      "[1562]\tvalidation_0-logloss:0.00101\n",
      "[1563]\tvalidation_0-logloss:0.00101\n",
      "[1564]\tvalidation_0-logloss:0.00101\n",
      "[1565]\tvalidation_0-logloss:0.00101\n",
      "[1566]\tvalidation_0-logloss:0.00101\n",
      "[1567]\tvalidation_0-logloss:0.00101\n",
      "[1568]\tvalidation_0-logloss:0.00101\n",
      "[1569]\tvalidation_0-logloss:0.00101\n",
      "[1570]\tvalidation_0-logloss:0.00101\n",
      "[1571]\tvalidation_0-logloss:0.00101\n",
      "[1572]\tvalidation_0-logloss:0.00101\n",
      "[1573]\tvalidation_0-logloss:0.00101\n",
      "[1574]\tvalidation_0-logloss:0.00101\n",
      "[1575]\tvalidation_0-logloss:0.00101\n",
      "[1576]\tvalidation_0-logloss:0.00100\n",
      "[1577]\tvalidation_0-logloss:0.00100\n",
      "[1578]\tvalidation_0-logloss:0.00100\n",
      "[1579]\tvalidation_0-logloss:0.00100\n",
      "[1580]\tvalidation_0-logloss:0.00100\n",
      "[1581]\tvalidation_0-logloss:0.00100\n",
      "[1582]\tvalidation_0-logloss:0.00100\n",
      "[1583]\tvalidation_0-logloss:0.00100\n",
      "[1584]\tvalidation_0-logloss:0.00100\n",
      "[1585]\tvalidation_0-logloss:0.00100\n",
      "[1586]\tvalidation_0-logloss:0.00100\n",
      "[1587]\tvalidation_0-logloss:0.00100\n",
      "[1588]\tvalidation_0-logloss:0.00100\n",
      "[1589]\tvalidation_0-logloss:0.00100\n",
      "[1590]\tvalidation_0-logloss:0.00100\n",
      "[1591]\tvalidation_0-logloss:0.00100\n",
      "[1592]\tvalidation_0-logloss:0.00100\n",
      "[1593]\tvalidation_0-logloss:0.00100\n",
      "[1594]\tvalidation_0-logloss:0.00100\n",
      "[1595]\tvalidation_0-logloss:0.00100\n",
      "[1596]\tvalidation_0-logloss:0.00100\n",
      "[1597]\tvalidation_0-logloss:0.00100\n",
      "[1598]\tvalidation_0-logloss:0.00100\n",
      "[1599]\tvalidation_0-logloss:0.00100\n",
      "[1600]\tvalidation_0-logloss:0.00100\n",
      "[1601]\tvalidation_0-logloss:0.00100\n",
      "[1602]\tvalidation_0-logloss:0.00100\n",
      "[1603]\tvalidation_0-logloss:0.00100\n",
      "[1604]\tvalidation_0-logloss:0.00100\n",
      "[1605]\tvalidation_0-logloss:0.00100\n",
      "[1606]\tvalidation_0-logloss:0.00100\n",
      "[1607]\tvalidation_0-logloss:0.00100\n",
      "[1608]\tvalidation_0-logloss:0.00099\n",
      "[1609]\tvalidation_0-logloss:0.00099\n",
      "[1610]\tvalidation_0-logloss:0.00099\n",
      "[1611]\tvalidation_0-logloss:0.00099\n",
      "[1612]\tvalidation_0-logloss:0.00099\n",
      "[1613]\tvalidation_0-logloss:0.00099\n",
      "[1614]\tvalidation_0-logloss:0.00099\n",
      "[1615]\tvalidation_0-logloss:0.00099\n",
      "[1616]\tvalidation_0-logloss:0.00099\n",
      "[1617]\tvalidation_0-logloss:0.00099\n",
      "[1618]\tvalidation_0-logloss:0.00099\n",
      "[1619]\tvalidation_0-logloss:0.00099\n",
      "[1620]\tvalidation_0-logloss:0.00099\n",
      "[1621]\tvalidation_0-logloss:0.00099\n",
      "[1622]\tvalidation_0-logloss:0.00099\n",
      "[1623]\tvalidation_0-logloss:0.00099\n",
      "[1624]\tvalidation_0-logloss:0.00099\n",
      "[1625]\tvalidation_0-logloss:0.00099\n",
      "[1626]\tvalidation_0-logloss:0.00099\n",
      "[1627]\tvalidation_0-logloss:0.00099\n",
      "[1628]\tvalidation_0-logloss:0.00099\n",
      "[1629]\tvalidation_0-logloss:0.00099\n",
      "[1630]\tvalidation_0-logloss:0.00099\n",
      "[1631]\tvalidation_0-logloss:0.00099\n",
      "[1632]\tvalidation_0-logloss:0.00099\n",
      "[1633]\tvalidation_0-logloss:0.00099\n",
      "[1634]\tvalidation_0-logloss:0.00099\n",
      "[1635]\tvalidation_0-logloss:0.00099\n",
      "[1636]\tvalidation_0-logloss:0.00099\n",
      "[1637]\tvalidation_0-logloss:0.00099\n",
      "[1638]\tvalidation_0-logloss:0.00099\n",
      "[1639]\tvalidation_0-logloss:0.00099\n",
      "[1640]\tvalidation_0-logloss:0.00099\n",
      "[1641]\tvalidation_0-logloss:0.00099\n",
      "[1642]\tvalidation_0-logloss:0.00099\n",
      "[1643]\tvalidation_0-logloss:0.00099\n",
      "[1644]\tvalidation_0-logloss:0.00099\n",
      "[1645]\tvalidation_0-logloss:0.00099\n",
      "[1646]\tvalidation_0-logloss:0.00099\n",
      "[1647]\tvalidation_0-logloss:0.00099\n",
      "[1648]\tvalidation_0-logloss:0.00099\n",
      "[1649]\tvalidation_0-logloss:0.00099\n",
      "[1650]\tvalidation_0-logloss:0.00099\n",
      "[1651]\tvalidation_0-logloss:0.00099\n",
      "[1652]\tvalidation_0-logloss:0.00099\n",
      "[1653]\tvalidation_0-logloss:0.00099\n",
      "[1654]\tvalidation_0-logloss:0.00099\n",
      "[1655]\tvalidation_0-logloss:0.00099\n",
      "[1656]\tvalidation_0-logloss:0.00099\n",
      "[1657]\tvalidation_0-logloss:0.00099\n",
      "[1658]\tvalidation_0-logloss:0.00099\n",
      "[1659]\tvalidation_0-logloss:0.00099\n",
      "[1660]\tvalidation_0-logloss:0.00099\n",
      "[1661]\tvalidation_0-logloss:0.00099\n",
      "[1662]\tvalidation_0-logloss:0.00099\n",
      "[1663]\tvalidation_0-logloss:0.00099\n",
      "[1664]\tvalidation_0-logloss:0.00099\n",
      "[1665]\tvalidation_0-logloss:0.00099\n",
      "[1666]\tvalidation_0-logloss:0.00099\n",
      "[1667]\tvalidation_0-logloss:0.00099\n",
      "[1668]\tvalidation_0-logloss:0.00099\n",
      "[1669]\tvalidation_0-logloss:0.00099\n",
      "[1670]\tvalidation_0-logloss:0.00099\n",
      "[1671]\tvalidation_0-logloss:0.00099\n",
      "[1672]\tvalidation_0-logloss:0.00099\n",
      "[1673]\tvalidation_0-logloss:0.00099\n",
      "[1674]\tvalidation_0-logloss:0.00099\n",
      "[1675]\tvalidation_0-logloss:0.00099\n",
      "[1676]\tvalidation_0-logloss:0.00099\n",
      "[1677]\tvalidation_0-logloss:0.00098\n",
      "[1678]\tvalidation_0-logloss:0.00098\n",
      "[1679]\tvalidation_0-logloss:0.00098\n",
      "[1680]\tvalidation_0-logloss:0.00098\n",
      "[1681]\tvalidation_0-logloss:0.00098\n",
      "[1682]\tvalidation_0-logloss:0.00098\n",
      "[1683]\tvalidation_0-logloss:0.00098\n",
      "[1684]\tvalidation_0-logloss:0.00098\n",
      "[1685]\tvalidation_0-logloss:0.00098\n",
      "[1686]\tvalidation_0-logloss:0.00098\n",
      "[1687]\tvalidation_0-logloss:0.00098\n",
      "[1688]\tvalidation_0-logloss:0.00098\n",
      "[1689]\tvalidation_0-logloss:0.00098\n",
      "[1690]\tvalidation_0-logloss:0.00098\n",
      "[1691]\tvalidation_0-logloss:0.00098\n",
      "[1692]\tvalidation_0-logloss:0.00098\n",
      "[1693]\tvalidation_0-logloss:0.00098\n",
      "[1694]\tvalidation_0-logloss:0.00098\n",
      "[1695]\tvalidation_0-logloss:0.00098\n",
      "[1696]\tvalidation_0-logloss:0.00098\n",
      "[1697]\tvalidation_0-logloss:0.00098\n",
      "[1698]\tvalidation_0-logloss:0.00097\n",
      "[1699]\tvalidation_0-logloss:0.00098\n",
      "[1700]\tvalidation_0-logloss:0.00098\n",
      "[1701]\tvalidation_0-logloss:0.00098\n",
      "[1702]\tvalidation_0-logloss:0.00098\n",
      "[1703]\tvalidation_0-logloss:0.00097\n",
      "[1704]\tvalidation_0-logloss:0.00097\n",
      "[1705]\tvalidation_0-logloss:0.00097\n",
      "[1706]\tvalidation_0-logloss:0.00097\n",
      "[1707]\tvalidation_0-logloss:0.00097\n",
      "[1708]\tvalidation_0-logloss:0.00097\n",
      "[1709]\tvalidation_0-logloss:0.00097\n",
      "[1710]\tvalidation_0-logloss:0.00097\n",
      "[1711]\tvalidation_0-logloss:0.00097\n",
      "[1712]\tvalidation_0-logloss:0.00097\n",
      "[1713]\tvalidation_0-logloss:0.00097\n",
      "[1714]\tvalidation_0-logloss:0.00097\n",
      "[1715]\tvalidation_0-logloss:0.00097\n",
      "[1716]\tvalidation_0-logloss:0.00097\n",
      "[1717]\tvalidation_0-logloss:0.00097\n",
      "[1718]\tvalidation_0-logloss:0.00097\n",
      "[1719]\tvalidation_0-logloss:0.00097\n",
      "[1720]\tvalidation_0-logloss:0.00097\n",
      "[1721]\tvalidation_0-logloss:0.00097\n",
      "[1722]\tvalidation_0-logloss:0.00097\n",
      "[1723]\tvalidation_0-logloss:0.00097\n",
      "[1724]\tvalidation_0-logloss:0.00097\n",
      "[1725]\tvalidation_0-logloss:0.00097\n",
      "[1726]\tvalidation_0-logloss:0.00097\n",
      "[1727]\tvalidation_0-logloss:0.00097\n",
      "[1728]\tvalidation_0-logloss:0.00097\n",
      "[1729]\tvalidation_0-logloss:0.00097\n",
      "[1730]\tvalidation_0-logloss:0.00097\n",
      "[1731]\tvalidation_0-logloss:0.00097\n",
      "[1732]\tvalidation_0-logloss:0.00097\n",
      "[1733]\tvalidation_0-logloss:0.00097\n",
      "[1734]\tvalidation_0-logloss:0.00097\n",
      "[1735]\tvalidation_0-logloss:0.00097\n",
      "[1736]\tvalidation_0-logloss:0.00097\n",
      "[1737]\tvalidation_0-logloss:0.00097\n",
      "[1738]\tvalidation_0-logloss:0.00097\n",
      "[1739]\tvalidation_0-logloss:0.00097\n",
      "[1740]\tvalidation_0-logloss:0.00097\n",
      "[1741]\tvalidation_0-logloss:0.00097\n",
      "[1742]\tvalidation_0-logloss:0.00097\n",
      "[1743]\tvalidation_0-logloss:0.00097\n",
      "[1744]\tvalidation_0-logloss:0.00097\n",
      "[1745]\tvalidation_0-logloss:0.00097\n",
      "[1746]\tvalidation_0-logloss:0.00097\n",
      "[1747]\tvalidation_0-logloss:0.00097\n",
      "[1748]\tvalidation_0-logloss:0.00097\n",
      "[1749]\tvalidation_0-logloss:0.00097\n",
      "[1750]\tvalidation_0-logloss:0.00097\n",
      "[1751]\tvalidation_0-logloss:0.00097\n",
      "[1752]\tvalidation_0-logloss:0.00097\n",
      "[1753]\tvalidation_0-logloss:0.00097\n",
      "[1754]\tvalidation_0-logloss:0.00097\n",
      "[1755]\tvalidation_0-logloss:0.00097\n",
      "[1756]\tvalidation_0-logloss:0.00097\n",
      "[1757]\tvalidation_0-logloss:0.00097\n",
      "[1758]\tvalidation_0-logloss:0.00097\n",
      "[1759]\tvalidation_0-logloss:0.00097\n",
      "[1760]\tvalidation_0-logloss:0.00097\n",
      "[1761]\tvalidation_0-logloss:0.00097\n",
      "[1762]\tvalidation_0-logloss:0.00097\n",
      "[1763]\tvalidation_0-logloss:0.00097\n",
      "[1764]\tvalidation_0-logloss:0.00096\n",
      "[1765]\tvalidation_0-logloss:0.00096\n",
      "[1766]\tvalidation_0-logloss:0.00096\n",
      "[1767]\tvalidation_0-logloss:0.00096\n",
      "[1768]\tvalidation_0-logloss:0.00096\n",
      "[1769]\tvalidation_0-logloss:0.00096\n",
      "[1770]\tvalidation_0-logloss:0.00096\n",
      "[1771]\tvalidation_0-logloss:0.00096\n",
      "[1772]\tvalidation_0-logloss:0.00096\n",
      "[1773]\tvalidation_0-logloss:0.00096\n",
      "[1774]\tvalidation_0-logloss:0.00096\n",
      "[1775]\tvalidation_0-logloss:0.00096\n",
      "[1776]\tvalidation_0-logloss:0.00096\n",
      "[1777]\tvalidation_0-logloss:0.00096\n",
      "[1778]\tvalidation_0-logloss:0.00096\n",
      "[1779]\tvalidation_0-logloss:0.00096\n",
      "[1780]\tvalidation_0-logloss:0.00096\n",
      "[1781]\tvalidation_0-logloss:0.00096\n",
      "[1782]\tvalidation_0-logloss:0.00096\n",
      "[1783]\tvalidation_0-logloss:0.00096\n",
      "[1784]\tvalidation_0-logloss:0.00096\n",
      "[1785]\tvalidation_0-logloss:0.00096\n",
      "[1786]\tvalidation_0-logloss:0.00096\n",
      "[1787]\tvalidation_0-logloss:0.00096\n",
      "[1788]\tvalidation_0-logloss:0.00096\n",
      "[1789]\tvalidation_0-logloss:0.00096\n",
      "[1790]\tvalidation_0-logloss:0.00096\n",
      "[1791]\tvalidation_0-logloss:0.00096\n",
      "[1792]\tvalidation_0-logloss:0.00096\n",
      "[1793]\tvalidation_0-logloss:0.00096\n",
      "[1794]\tvalidation_0-logloss:0.00096\n",
      "[1795]\tvalidation_0-logloss:0.00096\n",
      "[1796]\tvalidation_0-logloss:0.00096\n",
      "[1797]\tvalidation_0-logloss:0.00096\n",
      "[1798]\tvalidation_0-logloss:0.00096\n",
      "[1799]\tvalidation_0-logloss:0.00096\n",
      "[1800]\tvalidation_0-logloss:0.00096\n",
      "[1801]\tvalidation_0-logloss:0.00096\n",
      "[1802]\tvalidation_0-logloss:0.00096\n",
      "[1803]\tvalidation_0-logloss:0.00096\n",
      "[1804]\tvalidation_0-logloss:0.00096\n",
      "[1805]\tvalidation_0-logloss:0.00096\n",
      "[1806]\tvalidation_0-logloss:0.00096\n",
      "[1807]\tvalidation_0-logloss:0.00096\n",
      "[1808]\tvalidation_0-logloss:0.00096\n",
      "[1809]\tvalidation_0-logloss:0.00096\n",
      "[1810]\tvalidation_0-logloss:0.00096\n",
      "[1811]\tvalidation_0-logloss:0.00095\n",
      "[1812]\tvalidation_0-logloss:0.00095\n",
      "[1813]\tvalidation_0-logloss:0.00095\n",
      "[1814]\tvalidation_0-logloss:0.00096\n",
      "[1815]\tvalidation_0-logloss:0.00096\n",
      "[1816]\tvalidation_0-logloss:0.00096\n",
      "[1817]\tvalidation_0-logloss:0.00096\n",
      "[1818]\tvalidation_0-logloss:0.00096\n",
      "[1819]\tvalidation_0-logloss:0.00096\n",
      "[1820]\tvalidation_0-logloss:0.00096\n",
      "[1821]\tvalidation_0-logloss:0.00096\n",
      "[1822]\tvalidation_0-logloss:0.00096\n",
      "[1823]\tvalidation_0-logloss:0.00095\n",
      "[1824]\tvalidation_0-logloss:0.00095\n",
      "[1825]\tvalidation_0-logloss:0.00095\n",
      "[1826]\tvalidation_0-logloss:0.00096\n",
      "[1827]\tvalidation_0-logloss:0.00095\n",
      "[1828]\tvalidation_0-logloss:0.00095\n",
      "[1829]\tvalidation_0-logloss:0.00095\n",
      "[1830]\tvalidation_0-logloss:0.00095\n",
      "[1831]\tvalidation_0-logloss:0.00095\n",
      "[1832]\tvalidation_0-logloss:0.00095\n",
      "[1833]\tvalidation_0-logloss:0.00095\n",
      "[1834]\tvalidation_0-logloss:0.00095\n",
      "[1835]\tvalidation_0-logloss:0.00095\n",
      "[1836]\tvalidation_0-logloss:0.00095\n",
      "[1837]\tvalidation_0-logloss:0.00095\n",
      "[1838]\tvalidation_0-logloss:0.00095\n",
      "[1839]\tvalidation_0-logloss:0.00095\n",
      "[1840]\tvalidation_0-logloss:0.00095\n",
      "[1841]\tvalidation_0-logloss:0.00095\n",
      "[1842]\tvalidation_0-logloss:0.00095\n",
      "[1843]\tvalidation_0-logloss:0.00095\n",
      "[1844]\tvalidation_0-logloss:0.00095\n",
      "[1845]\tvalidation_0-logloss:0.00095\n",
      "[1846]\tvalidation_0-logloss:0.00095\n",
      "[1847]\tvalidation_0-logloss:0.00095\n",
      "[1848]\tvalidation_0-logloss:0.00095\n",
      "[1849]\tvalidation_0-logloss:0.00095\n",
      "[1850]\tvalidation_0-logloss:0.00095\n",
      "[1851]\tvalidation_0-logloss:0.00095\n",
      "[1852]\tvalidation_0-logloss:0.00095\n",
      "[1853]\tvalidation_0-logloss:0.00095\n",
      "[1854]\tvalidation_0-logloss:0.00095\n",
      "[1855]\tvalidation_0-logloss:0.00095\n",
      "[1856]\tvalidation_0-logloss:0.00095\n",
      "[1857]\tvalidation_0-logloss:0.00095\n",
      "[1858]\tvalidation_0-logloss:0.00095\n",
      "[1859]\tvalidation_0-logloss:0.00095\n",
      "[1860]\tvalidation_0-logloss:0.00095\n",
      "[1861]\tvalidation_0-logloss:0.00095\n",
      "[1862]\tvalidation_0-logloss:0.00095\n",
      "[1863]\tvalidation_0-logloss:0.00095\n",
      "[1864]\tvalidation_0-logloss:0.00095\n",
      "[1865]\tvalidation_0-logloss:0.00095\n",
      "[1866]\tvalidation_0-logloss:0.00095\n",
      "[1867]\tvalidation_0-logloss:0.00095\n",
      "[1868]\tvalidation_0-logloss:0.00095\n",
      "[1869]\tvalidation_0-logloss:0.00095\n",
      "[1870]\tvalidation_0-logloss:0.00094\n",
      "[1871]\tvalidation_0-logloss:0.00095\n",
      "[1872]\tvalidation_0-logloss:0.00094\n",
      "[1873]\tvalidation_0-logloss:0.00094\n",
      "[1874]\tvalidation_0-logloss:0.00094\n",
      "[1875]\tvalidation_0-logloss:0.00094\n",
      "[1876]\tvalidation_0-logloss:0.00094\n",
      "[1877]\tvalidation_0-logloss:0.00094\n",
      "[1878]\tvalidation_0-logloss:0.00094\n",
      "[1879]\tvalidation_0-logloss:0.00094\n",
      "[1880]\tvalidation_0-logloss:0.00094\n",
      "[1881]\tvalidation_0-logloss:0.00094\n",
      "[1882]\tvalidation_0-logloss:0.00094\n",
      "[1883]\tvalidation_0-logloss:0.00094\n",
      "[1884]\tvalidation_0-logloss:0.00094\n",
      "[1885]\tvalidation_0-logloss:0.00094\n",
      "[1886]\tvalidation_0-logloss:0.00094\n",
      "[1887]\tvalidation_0-logloss:0.00094\n",
      "[1888]\tvalidation_0-logloss:0.00094\n",
      "[1889]\tvalidation_0-logloss:0.00094\n",
      "[1890]\tvalidation_0-logloss:0.00094\n",
      "[1891]\tvalidation_0-logloss:0.00094\n",
      "[1892]\tvalidation_0-logloss:0.00094\n",
      "[1893]\tvalidation_0-logloss:0.00094\n",
      "[1894]\tvalidation_0-logloss:0.00094\n",
      "[1895]\tvalidation_0-logloss:0.00094\n",
      "[1896]\tvalidation_0-logloss:0.00094\n",
      "[1897]\tvalidation_0-logloss:0.00094\n",
      "[1898]\tvalidation_0-logloss:0.00094\n",
      "[1899]\tvalidation_0-logloss:0.00094\n",
      "[1900]\tvalidation_0-logloss:0.00094\n",
      "[1901]\tvalidation_0-logloss:0.00094\n",
      "[1902]\tvalidation_0-logloss:0.00094\n",
      "[1903]\tvalidation_0-logloss:0.00094\n",
      "[1904]\tvalidation_0-logloss:0.00094\n",
      "[1905]\tvalidation_0-logloss:0.00094\n",
      "[1906]\tvalidation_0-logloss:0.00094\n",
      "[1907]\tvalidation_0-logloss:0.00094\n",
      "[1908]\tvalidation_0-logloss:0.00094\n",
      "[1909]\tvalidation_0-logloss:0.00094\n",
      "[1910]\tvalidation_0-logloss:0.00094\n",
      "[1911]\tvalidation_0-logloss:0.00094\n",
      "[1912]\tvalidation_0-logloss:0.00094\n",
      "[1913]\tvalidation_0-logloss:0.00094\n",
      "[1914]\tvalidation_0-logloss:0.00094\n",
      "[1915]\tvalidation_0-logloss:0.00094\n",
      "[1916]\tvalidation_0-logloss:0.00094\n",
      "[1917]\tvalidation_0-logloss:0.00094\n",
      "[1918]\tvalidation_0-logloss:0.00094\n",
      "[1919]\tvalidation_0-logloss:0.00094\n",
      "[1920]\tvalidation_0-logloss:0.00094\n",
      "[1921]\tvalidation_0-logloss:0.00094\n",
      "[1922]\tvalidation_0-logloss:0.00094\n",
      "[1923]\tvalidation_0-logloss:0.00094\n",
      "[1924]\tvalidation_0-logloss:0.00094\n",
      "[1925]\tvalidation_0-logloss:0.00094\n",
      "[1926]\tvalidation_0-logloss:0.00094\n",
      "[1927]\tvalidation_0-logloss:0.00094\n",
      "[1928]\tvalidation_0-logloss:0.00094\n",
      "[1929]\tvalidation_0-logloss:0.00094\n",
      "[1930]\tvalidation_0-logloss:0.00094\n",
      "[1931]\tvalidation_0-logloss:0.00094\n",
      "[1932]\tvalidation_0-logloss:0.00094\n",
      "[1933]\tvalidation_0-logloss:0.00094\n",
      "[1934]\tvalidation_0-logloss:0.00094\n",
      "[1935]\tvalidation_0-logloss:0.00094\n",
      "[1936]\tvalidation_0-logloss:0.00094\n",
      "[1937]\tvalidation_0-logloss:0.00094\n",
      "[1938]\tvalidation_0-logloss:0.00094\n",
      "[1939]\tvalidation_0-logloss:0.00094\n",
      "[1940]\tvalidation_0-logloss:0.00094\n",
      "[1941]\tvalidation_0-logloss:0.00094\n",
      "[1942]\tvalidation_0-logloss:0.00094\n",
      "[1943]\tvalidation_0-logloss:0.00094\n",
      "[1944]\tvalidation_0-logloss:0.00094\n",
      "[1945]\tvalidation_0-logloss:0.00094\n",
      "[1946]\tvalidation_0-logloss:0.00094\n",
      "\n",
      "Model Evaluation Results:\n",
      "Validation Brier Score: 0.000209950151975009\n",
      "Training Log Loss: 0.0011146011236522013\n",
      "Training Brier Score: 2.305781366044884e-06\n",
      "Validation Log Loss: 0.0018930324445087829\n",
      "Training Accuracy: 1.0\n",
      "Validation Accuracy: 0.9997525181280471\n",
      "\n",
      "Top 10 Important Features:\n",
      "EfficiencyDiff      0.293099\n",
      "ScoreDiff           0.285302\n",
      "FoulDiff            0.111809\n",
      "ReboundDiff         0.062119\n",
      "AssistDiff          0.041739\n",
      "TurnoverDiff        0.034499\n",
      "Team1_Efficiency    0.025507\n",
      "Team2_Efficiency    0.024308\n",
      "Team1_FGM           0.024303\n",
      "Team2_FGM           0.022906\n",
      "dtype: float32\n"
     ]
    }
   ],
   "source": [
    "\n",
    "X = game_pairs_df.drop('Target', axis=1)\n",
    "y = game_pairs_df['Target']\n",
    "\n",
    "# Display a complete row of the feature data\n",
    "print(\"Complete feature row example:\")\n",
    "display(X.iloc[0:1])\n",
    "print(\"\\nCorresponding target value:\")\n",
    "print(y.iloc[0])\n",
    "\n",
    "# Print the shape of the feature matrix and target vector\n",
    "print(f\"Feature matrix shape: {X.shape}\")\n",
    "print(f\"Target vector shape: {y.shape}\")\n",
    "\n",
    "# Split data into training and validation sets\n",
    "X_train, X_val, y_train, y_val = train_test_split(\n",
    "    X, y, \n",
    "    test_size=0.2,  # 20% of data for validation\n",
    "    random_state=42,\n",
    "    stratify=y  # Maintain target distribution in splits\n",
    ")\n",
    "\n",
    "print(f\"\\nTraining set shape: {X_train.shape}\")\n",
    "print(f\"Validation set shape: {X_val.shape}\")\n",
    "\n",
    "# Main prediction model\n",
    "model = xgb.XGBRegressor(\n",
    "    n_estimators=5000,         # Number of boosting rounds\n",
    "    learning_rate=0.05,       # Smaller learning rate for better generalization\n",
    "    max_depth=6,              # Control model complexity\n",
    "    min_child_weight=3,       # Helps prevent overfitting\n",
    "    subsample=0.8,            # Use 80% of data for each tree\n",
    "    colsample_bytree=0.8,     # Use 80% of features for each tree\n",
    "    objective='binary:logistic',  # Binary classification with probability output\n",
    "    random_state=42,\n",
    "    n_jobs=-1                 # Use all CPU cores\n",
    ")\n",
    "\n",
    "# Train the main model\n",
    "print(\"\\nTraining main model...\")\n",
    "model.fit(\n",
    "    X_train, y_train,\n",
    "    eval_set=[(X_val, y_val)],\n",
    "    early_stopping_rounds=20,\n",
    "    verbose=True\n",
    ")\n",
    "\n",
    "# Make predictions\n",
    "train_preds = model.predict(X_train)\n",
    "val_preds = model.predict(X_val)\n",
    "\n",
    "# Calculate Brier score\n",
    "train_brier = ((y_train - train_preds) ** 2).mean()\n",
    "val_brier = ((y_val - val_preds) ** 2).mean()\n",
    "\n",
    "# Calculate additional metrics\n",
    "train_log_loss = log_loss(y_train, np.clip(train_preds, 0.001, 0.999))\n",
    "val_log_loss = log_loss(y_val, np.clip(val_preds, 0.001, 0.999))\n",
    "\n",
    "train_accuracy = accuracy_score(y_train, np.round(train_preds))\n",
    "val_accuracy = accuracy_score(y_val, np.round(val_preds))\n",
    "\n",
    "# Store results\n",
    "results = {\n",
    "    'train_brier': train_brier,\n",
    "    'val_brier': val_brier,\n",
    "    'train_log_loss': train_log_loss,\n",
    "    'val_log_loss': val_log_loss,\n",
    "    'train_accuracy': train_accuracy,\n",
    "    'val_accuracy': val_accuracy,\n",
    "    'feature_importance': model.feature_importances_,\n",
    "    'feature_names': X_train.columns.tolist()\n",
    "}\n",
    "\n",
    "# Print results\n",
    "print(\"\\nModel Evaluation Results:\")\n",
    "print(f\"Validation Brier Score: {val_brier}\")\n",
    "print(f\"Training Log Loss: {train_log_loss}\")\n",
    "print(f\"Training Brier Score: {train_brier}\")\n",
    "print(f\"Validation Log Loss: {val_log_loss}\")\n",
    "print(f\"Training Accuracy: {train_accuracy}\")\n",
    "print(f\"Validation Accuracy: {val_accuracy}\")\n",
    "\n",
    "# Print feature importance\n",
    "print(\"\\nTop 10 Important Features:\")\n",
    "feature_importance = pd.Series(model.feature_importances_, index=X_train.columns)\n",
    "print(feature_importance.sort_values(ascending=False).head(10))"
   ]
  },
  {
   "cell_type": "code",
   "execution_count": 50,
   "metadata": {},
   "outputs": [],
   "source": [
    "submission = pd.DataFrame()\n",
    "submission['ID'] = [f'{row[\"Season\"]}_{row[\"Team1\"]}_{row[\"Team2\"]}' for _, row in X_val.iterrows()]\n",
    "submission['Pred'] = model.predict(X_val)"
   ]
  }
 ],
 "metadata": {
  "kernelspec": {
   "display_name": "Python 3",
   "language": "python",
   "name": "python3"
  },
  "language_info": {
   "codemirror_mode": {
    "name": "ipython",
    "version": 3
   },
   "file_extension": ".py",
   "mimetype": "text/x-python",
   "name": "python",
   "nbconvert_exporter": "python",
   "pygments_lexer": "ipython3",
   "version": "3.12.3"
  }
 },
 "nbformat": 4,
 "nbformat_minor": 2
}
