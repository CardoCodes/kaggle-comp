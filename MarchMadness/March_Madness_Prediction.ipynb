{
 "cells": [
  {
   "cell_type": "markdown",
   "metadata": {},
   "source": [
    "# March Madness Prediction\n",
    "\n",
    "## Overview\n",
    "\n",
    "### Goal\n",
    "Submissions are based on the Brier Score, the goal will be to minimize the brier score between the predicted probabilities and the actual game outcomes. The Brier score measures the accuracy of probablistic predition, in this case the mean square error. \n",
    "\n",
    "The brier score can be thought of as a cost function that measures the average squared difference between the predicted probabilities and the actual outcomes.\n",
    "\n",
    "$$\n",
    "Brier = \\frac{1}{N} \\sum_{i=1}^{N} (p_i - o_i)^2\n",
    "$$\n",
    "\n",
    "where $p_i$ is the predicted probability of the event and $o_i$ is the actual outcome. The Brier score can span across all items in a set of N predictions.\n",
    "\n",
    "Therefore, minimizing the Brier score will result in a more accurate prediction.\n"
   ]
  },
  {
   "cell_type": "markdown",
   "metadata": {},
   "source": [
    "## Import Libraries\n",
    "Numpy for numerical operations\n",
    "Pandas for data manipulation\n",
    "Matplotlib, Seaborn, Plotly for plotting\n"
   ]
  },
  {
   "cell_type": "code",
   "execution_count": 2,
   "metadata": {},
   "outputs": [],
   "source": [
    "import glob\n",
    "import numpy as np\n",
    "import pandas as pd\n",
    "import matplotlib.pyplot as plt\n",
    "import seaborn as sns\n",
    "import plotly.express as px\n",
    "import plotly.graph_objects as go\n",
    "import plotly.io as pio\n",
    "import plotly.subplots as sp\n",
    "import xgboost as xgb\n",
    "import sklearn as sk"
   ]
  },
  {
   "cell_type": "markdown",
   "metadata": {},
   "source": [
    "## Load Data\n",
    "\n",
    "Set up a data dictionary that will store the data for each file, this will make it easier to access data from the csvs. Not all files are used in the prediction process, but they are included for completeness.\n"
   ]
  },
  {
   "cell_type": "code",
   "execution_count": 3,
   "metadata": {},
   "outputs": [],
   "source": [
    "data_dir = 'data/'\n",
    "data = {}\n",
    "\n",
    "files = glob.glob(data_dir + '*.csv')\n",
    "for file in files:\n",
    "    filename = file.split('/')[-1].split('\\\\')[-1].split('.')[0]\n",
    "    try:\n",
    "        data[filename] = pd.read_csv(file, encoding='latin-1')\n",
    "    except Exception as e:\n",
    "        print(f\"Warning: Could not load {filename}: {e}\")\n",
    "\n"
   ]
  },
  {
   "cell_type": "markdown",
   "metadata": {},
   "source": [
    "Now that we have the data loaded, lets start by loading team and team spelling data. Here we will be using the team and team spelling data from the regular season and tournament. Combining women and mens data to get a complete dataset.\n"
   ]
  },
  {
   "cell_type": "code",
   "execution_count": 4,
   "metadata": {},
   "outputs": [
    {
     "name": "stdout",
     "output_type": "stream",
     "text": [
      "   TeamID     TeamName  FirstD1Season  LastD1Season  TeamNameCount\n",
      "0    1101  Abilene Chr         2014.0        2025.0              3\n",
      "1    1102    Air Force         1985.0        2025.0              2\n",
      "2    1103        Akron         1985.0        2025.0              1\n",
      "3    1104      Alabama         1985.0        2025.0              1\n",
      "4    1105  Alabama A&M         2000.0        2025.0              2\n"
     ]
    }
   ],
   "source": [
    "teams = pd.concat([data['MTeams'], data['WTeams']])\n",
    "teams_spelling = pd.concat([data['MTeamSpellings'], data['WTeamSpellings']])\n",
    "teams_spelling = teams_spelling.groupby(by='TeamID', as_index=False)['TeamNameSpelling'].count()\n",
    "teams_spelling.columns = ['TeamID', 'TeamNameCount']\n",
    "teams = pd.merge(teams, teams_spelling, how='left', on=['TeamID'])\n",
    "print(teams.head())"
   ]
  },
  {
   "cell_type": "markdown",
   "metadata": {},
   "source": [
    "Add season and turney reluts, both compact and detailed. There is a chance we only end up using the detailed results, but it is good to have both. "
   ]
  },
  {
   "cell_type": "code",
   "execution_count": 5,
   "metadata": {},
   "outputs": [],
   "source": [
    "season_compact_results = pd.concat([data['MRegularSeasonCompactResults'], data['WRegularSeasonCompactResults']]).assign(ST='S')\n",
    "season_detailed_results = pd.concat([data['MRegularSeasonDetailedResults'], data['WRegularSeasonDetailedResults']]).assign(ST='S')\n",
    "tourney_compact_results = pd.concat([data['MNCAATourneyCompactResults'], data['WNCAATourneyCompactResults']]).assign(ST='T')\n",
    "tourney_detailed_results = pd.concat([data['MNCAATourneyDetailedResults'], data['WNCAATourneyDetailedResults']]).assign(ST='T')"
   ]
  },
  {
   "cell_type": "markdown",
   "metadata": {},
   "source": [
    "We will create a summary of the datasets. This will help us understand the shape of the data and the columns that are available. Which will be important when we start to explore the data and feature engineering."
   ]
  },
  {
   "cell_type": "code",
   "execution_count": 7,
   "metadata": {},
   "outputs": [
    {
     "data": {
      "text/html": [
       "<style type=\"text/css\">\n",
       "#T_d5268_row0_col0, #T_d5268_row0_col1, #T_d5268_row0_col2, #T_d5268_row0_col3, #T_d5268_row1_col0, #T_d5268_row1_col1, #T_d5268_row1_col2, #T_d5268_row1_col3, #T_d5268_row2_col0, #T_d5268_row2_col1, #T_d5268_row2_col2, #T_d5268_row2_col3, #T_d5268_row3_col0, #T_d5268_row3_col1, #T_d5268_row3_col2, #T_d5268_row3_col3 {\n",
       "  border-color: black;\n",
       "  border-style: solid;\n",
       "  border-width: 1px;\n",
       "  text-align: center;\n",
       "}\n",
       "</style>\n",
       "<table id=\"T_d5268\">\n",
       "  <thead>\n",
       "    <tr>\n",
       "      <th class=\"blank level0\" >&nbsp;</th>\n",
       "      <th id=\"T_d5268_level0_col0\" class=\"col_heading level0 col0\" >Dataset</th>\n",
       "      <th id=\"T_d5268_level0_col1\" class=\"col_heading level0 col1\" >Shape</th>\n",
       "      <th id=\"T_d5268_level0_col2\" class=\"col_heading level0 col2\" >Columns</th>\n",
       "      <th id=\"T_d5268_level0_col3\" class=\"col_heading level0 col3\" >Sample Years</th>\n",
       "    </tr>\n",
       "  </thead>\n",
       "  <tbody>\n",
       "    <tr>\n",
       "      <th id=\"T_d5268_level0_row0\" class=\"row_heading level0 row0\" >0</th>\n",
       "      <td id=\"T_d5268_row0_col0\" class=\"data row0 col0\" >Regular Season Compact</td>\n",
       "      <td id=\"T_d5268_row0_col1\" class=\"data row0 col1\" >(329125, 9)</td>\n",
       "      <td id=\"T_d5268_row0_col2\" class=\"data row0 col2\" >9</td>\n",
       "      <td id=\"T_d5268_row0_col3\" class=\"data row0 col3\" >1985-2025</td>\n",
       "    </tr>\n",
       "    <tr>\n",
       "      <th id=\"T_d5268_level0_row1\" class=\"row_heading level0 row1\" >1</th>\n",
       "      <td id=\"T_d5268_row1_col0\" class=\"data row1 col0\" >Regular Season Detailed</td>\n",
       "      <td id=\"T_d5268_row1_col1\" class=\"data row1 col1\" >(199757, 35)</td>\n",
       "      <td id=\"T_d5268_row1_col2\" class=\"data row1 col2\" >35</td>\n",
       "      <td id=\"T_d5268_row1_col3\" class=\"data row1 col3\" >2003-2025</td>\n",
       "    </tr>\n",
       "    <tr>\n",
       "      <th id=\"T_d5268_level0_row2\" class=\"row_heading level0 row2\" >2</th>\n",
       "      <td id=\"T_d5268_row2_col0\" class=\"data row2 col0\" >Tournament Compact</td>\n",
       "      <td id=\"T_d5268_row2_col1\" class=\"data row2 col1\" >(4168, 9)</td>\n",
       "      <td id=\"T_d5268_row2_col2\" class=\"data row2 col2\" >9</td>\n",
       "      <td id=\"T_d5268_row2_col3\" class=\"data row2 col3\" >1985-2024</td>\n",
       "    </tr>\n",
       "    <tr>\n",
       "      <th id=\"T_d5268_level0_row3\" class=\"row_heading level0 row3\" >3</th>\n",
       "      <td id=\"T_d5268_row3_col0\" class=\"data row3 col0\" >Tournament Detailed</td>\n",
       "      <td id=\"T_d5268_row3_col1\" class=\"data row3 col1\" >(2276, 35)</td>\n",
       "      <td id=\"T_d5268_row3_col2\" class=\"data row3 col2\" >35</td>\n",
       "      <td id=\"T_d5268_row3_col3\" class=\"data row3 col3\" >2003-2024</td>\n",
       "    </tr>\n",
       "  </tbody>\n",
       "</table>\n"
      ],
      "text/plain": [
       "<pandas.io.formats.style.Styler at 0x72ea830fdd60>"
      ]
     },
     "metadata": {},
     "output_type": "display_data"
    }
   ],
   "source": [
    "# Create a summary of the datasets\n",
    "summary = pd.DataFrame({\n",
    "    'Dataset': [\n",
    "        'Regular Season Compact',\n",
    "        'Regular Season Detailed',\n",
    "        'Tournament Compact',\n",
    "        'Tournament Detailed'\n",
    "    ],\n",
    "    'Shape': [\n",
    "        season_compact_results.shape,\n",
    "        season_detailed_results.shape,\n",
    "        tourney_compact_results.shape,\n",
    "        tourney_detailed_results.shape\n",
    "    ],\n",
    "    'Columns': [\n",
    "        len(season_compact_results.columns),\n",
    "        len(season_detailed_results.columns),\n",
    "        len(tourney_compact_results.columns),\n",
    "        len(tourney_detailed_results.columns)\n",
    "    ],\n",
    "    'Sample Years': [\n",
    "        f\"{season_compact_results['Season'].min()}-{season_compact_results['Season'].max()}\",\n",
    "        f\"{season_detailed_results['Season'].min()}-{season_detailed_results['Season'].max()}\",\n",
    "        f\"{tourney_compact_results['Season'].min()}-{tourney_compact_results['Season'].max()}\",\n",
    "        f\"{tourney_detailed_results['Season'].min()}-{tourney_detailed_results['Season'].max()}\"\n",
    "    ]\n",
    "})\n",
    "\n",
    "# Display the summary with nice formatting\n",
    "display(summary.style.set_properties(**{\n",
    "    'border-color': 'black',\n",
    "    'border-style': 'solid',\n",
    "    'border-width': '1px',\n",
    "    'text-align': 'center'\n",
    "}))\n",
    "\n",
    "# If you want to see the first few rows of each dataset, you can also do:\n",
    "# print(\"\\nSample of Regular Season Compact Results:\")\n",
    "# display(season_compact_results.head(3))\n",
    "\n",
    "# print(\"\\nSample of Regular Season Detailed Results:\")\n",
    "# display(season_detailed_results.head(3))\n",
    "\n",
    "# print(\"\\nSample of Tournament Compact Results:\")\n",
    "# display(tourney_compact_results.head(3))\n",
    "\n",
    "# print(\"\\nSample of Tournament Detailed Results:\")\n",
    "# display(tourney_detailed_results.head(3))"
   ]
  },
  {
   "cell_type": "code",
   "execution_count": 9,
   "metadata": {},
   "outputs": [],
   "source": [
    "# Load other data that might prove useful\n",
    "slots = pd.concat([data['MNCAATourneySlots'], data['WNCAATourneySlots']])\n",
    "seeds = pd.concat([data['MNCAATourneySeeds'], data['WNCAATourneySeeds']])\n",
    "seeds['SeedValue'] = seeds['Seed'].str.extract(r'(\\d+)').astype(int)\n",
    "seeds_dict = {'_'.join(map(str,[int(k1),k2])):int(v[1:3]) for k1, v, k2 in seeds[['Season', 'Seed', 'TeamID']].values}\n",
    "game_cities = pd.concat([data['MGameCities'], data['WGameCities']])\n",
    "seasons = pd.concat([data['MSeasons'], data['WSeasons']])\n",
    "\n",
    "# Combine all game results\n",
    "all_compact_results = pd.concat([season_compact_results, tourney_compact_results])\n",
    "all_detailed_results = pd.concat([season_detailed_results, tourney_detailed_results])\n"
   ]
  },
  {
   "cell_type": "markdown",
   "metadata": {},
   "source": [
    "## Feature Engineering\n",
    "\n"
   ]
  },
  {
   "cell_type": "code",
   "execution_count": 12,
   "metadata": {},
   "outputs": [],
   "source": [
    "# Add derived features to compact results\n",
    "all_compact_results['ScoreDiff'] = all_compact_results['WScore'] - all_compact_results['LScore']\n",
    "all_compact_results['HomeAdvantage'] = all_compact_results['WLoc'].map({'H': 1, 'N': 0, 'A': -1})\n",
    "\n",
    "# Add derived features to detaifled results\n",
    "all_detailed_results['ScoreDiff'] = all_detailed_results['WScore'] - all_detailed_results['LScore']\n",
    "all_detailed_results['HomeAdvantage'] = all_detailed_results['WLoc'].map({'H': 1, 'N': 0, 'A': -1})\n",
    "\n",
    "    # Calculate shooting percentages (handling division by zero)\n",
    "all_detailed_results['WFGPct'] = np.where(all_detailed_results['WFGA'] > 0, \n",
    "                                        all_detailed_results['WFGM'] / all_detailed_results['WFGA'], 0)\n",
    "all_detailed_results['WFG3Pct'] = np.where(all_detailed_results['WFGA3'] > 0, \n",
    "                                        all_detailed_results['WFGM3'] / all_detailed_results['WFGA3'], 0)\n",
    "all_detailed_results['WFTPct'] = np.where(all_detailed_results['WFTA'] > 0, \n",
    "                                        all_detailed_results['WFTM'] / all_detailed_results['WFTA'], 0)\n",
    "all_detailed_results['LFGPct'] = np.where(all_detailed_results['LFGA'] > 0, \n",
    "                                        all_detailed_results['LFGM'] / all_detailed_results['LFGA'], 0)\n",
    "all_detailed_results['LFG3Pct'] = np.where(all_detailed_results['LFGA3'] > 0, \n",
    "                                        all_detailed_results['LFGM3'] / all_detailed_results['LFGA3'], 0)\n",
    "all_detailed_results['LFTPct'] = np.where(all_detailed_results['LFTA'] > 0, \n",
    "                                        all_detailed_results['LFTM'] / all_detailed_results['LFTA'], 0)\n",
    "\n",
    "# Add statistical differences\n",
    "all_detailed_results['ReboundDiff'] = (all_detailed_results['WOR'] + all_detailed_results['WDR']) - \\\n",
    "                                    (all_detailed_results['LOR'] + all_detailed_results['LDR'])\n",
    "all_detailed_results['AssistDiff'] = all_detailed_results['WAst'] - all_detailed_results['LAst']\n",
    "all_detailed_results['TurnoverDiff'] = all_detailed_results['WTO'] - all_detailed_results['LTO']\n",
    "all_detailed_results['StealDiff'] = all_detailed_results['WStl'] - all_detailed_results['LStl']\n",
    "all_detailed_results['BlockDiff'] = all_detailed_results['WBlk'] - all_detailed_results['LBlk']\n",
    "all_detailed_results['FoulDiff'] = all_detailed_results['WPF'] - all_detailed_results['LPF']\n",
    "\n",
    "# Add seed information to tournament games\n",
    "tourney_compact = all_compact_results[all_compact_results['ST'] == 'T'].copy()\n",
    "tourney_detailed = all_detailed_results[all_detailed_results['ST'] == 'T'].copy()\n",
    "\n",
    "# Add winner seeds\n",
    "tourney_compact = pd.merge(\n",
    "    tourney_compact,\n",
    "    seeds[['Season', 'TeamID', 'SeedValue']],\n",
    "    how='left',\n",
    "    left_on=['Season', 'WTeamID'],\n",
    "    right_on=['Season', 'TeamID']\n",
    ")\n",
    "tourney_compact.rename(columns={'SeedValue': 'WSeedValue'}, inplace=True)\n",
    "tourney_compact.drop('TeamID', axis=1, inplace=True)\n",
    "\n",
    "tourney_detailed = pd.merge(\n",
    "    tourney_detailed,\n",
    "    seeds[['Season', 'TeamID', 'SeedValue']],\n",
    "    how='left',\n",
    "    left_on=['Season', 'WTeamID'],\n",
    "    right_on=['Season', 'TeamID']\n",
    ")\n",
    "tourney_detailed.rename(columns={'SeedValue': 'WSeedValue'}, inplace=True)\n",
    "tourney_detailed.drop('TeamID', axis=1, inplace=True)\n",
    "\n",
    "# Add loser seeds\n",
    "tourney_compact = pd.merge(\n",
    "    tourney_compact,\n",
    "    seeds[['Season', 'TeamID', 'SeedValue']],\n",
    "    how='left',\n",
    "    left_on=['Season', 'LTeamID'],\n",
    "    right_on=['Season', 'TeamID']\n",
    ")\n",
    "tourney_compact.rename(columns={'SeedValue': 'LSeedValue'}, inplace=True)\n",
    "tourney_compact.drop('TeamID', axis=1, inplace=True)\n",
    "\n",
    "tourney_detailed = pd.merge(\n",
    "    tourney_detailed,\n",
    "    seeds[['Season', 'TeamID', 'SeedValue']],\n",
    "    how='left',\n",
    "    left_on=['Season', 'LTeamID'],\n",
    "    right_on=['Season', 'TeamID']\n",
    ")\n",
    "tourney_detailed.rename(columns={'SeedValue': 'LSeedValue'}, inplace=True)\n",
    "tourney_detailed.drop('TeamID', axis=1, inplace=True)\n",
    "\n",
    "    # Calculate seed difference (lower is better in seeding, so LSeed - WSeed is positive if favorite won)\n",
    "tourney_compact['SeedDiff'] = tourney_compact['LSeedValue'] - tourney_compact['WSeedValue']\n",
    "tourney_detailed['SeedDiff'] = tourney_detailed['LSeedValue'] - tourney_detailed['WSeedValue']"
   ]
  },
  {
   "cell_type": "markdown",
   "metadata": {},
   "source": [
    "## Data Visualization"
   ]
  },
  {
   "cell_type": "code",
   "execution_count": 13,
   "metadata": {},
   "outputs": [
    {
     "data": {
      "image/png": "[encoded data removed]",
      "text/plain": [
       "<Figure size 1200x1000 with 2 Axes>"
      ]
     },
     "metadata": {},
     "output_type": "display_data"
    }
   ],
   "source": [
    "## display a heatmap of win distribution by seed matchup.\n",
    "# Create a crosstab of winner seed vs loser seed\n",
    "win_matrix = pd.crosstab(\n",
    "    index=tourney_compact['LSeedValue'],\n",
    "    columns=tourney_compact['WSeedValue']\n",
    ").fillna(0)\n",
    "\n",
    "# Create heatmap\n",
    "plt.figure(figsize=(12, 10))\n",
    "sns.heatmap(win_matrix, annot=True, fmt='.0f', cmap='YlOrRd')\n",
    "plt.title('Tournament Win Distribution by Seed Matchup')\n",
    "plt.xlabel('Winning Seed')\n",
    "plt.ylabel('Losing Seed')\n",
    "plt.show()\n",
    "\n"
   ]
  },
  {
   "cell_type": "code",
   "execution_count": 14,
   "metadata": {},
   "outputs": [
    {
     "data": {
      "application/vnd.plotly.v1+json": {
       "config": {
        "plotlyServerURL": "https://plot.ly"
       },
       "data": [
        {
         "alignmentgroup": "True",
         "hovertemplate": "Seed=%{x}<br>Number of Wins=%{y}<br>Upset=%{marker.color}<extra></extra>",
         "legendgroup": "",
         "marker": {
          "color": [
           0,
           57,
           70,
           47,
           93,
           74,
           63,
           35,
           149,
           128,
           145,
           95,
           47,
           25,
           16,
           3
          ],
          "coloraxis": "coloraxis",
          "pattern": {
           "shape": ""
          }
         },
         "name": "",
         "offsetgroup": "",
         "orientation": "v",
         "showlegend": false,
         "textposition": "auto",
         "type": "bar",
         "x": [
          1,
          2,
          3,
          4,
          5,
          6,
          7,
          8,
          9,
          10,
          11,
          12,
          13,
          14,
          15,
          16
         ],
         "xaxis": "x",
         "y": [
          915,
          641,
          509,
          424,
          308,
          263,
          231,
          167,
          153,
          138,
          175,
          109,
          48,
          26,
          16,
          45
         ],
         "yaxis": "y"
        }
       ],
       "layout": {
        "barmode": "relative",
        "coloraxis": {
         "colorbar": {
          "title": {
           "text": "Upset"
          }
         },
         "colorscale": [
          [
           0,
           "#440154"
          ],
          [
           0.1111111111111111,
           "#482878"
          ],
          [
           0.2222222222222222,
           "#3e4989"
          ],
          [
           0.3333333333333333,
           "#31688e"
          ],
          [
           0.4444444444444444,
           "#26828e"
          ],
          [
           0.5555555555555556,
           "#1f9e89"
          ],
          [
           0.6666666666666666,
           "#35b779"
          ],
          [
           0.7777777777777778,
           "#6ece58"
          ],
          [
           0.8888888888888888,
           "#b5de2b"
          ],
          [
           1,
           "#fde725"
          ]
         ]
        },
        "legend": {
         "tracegroupgap": 0
        },
        "template": {
         "data": {
          "bar": [
           {
            "error_x": {
             "color": "#2a3f5f"
            },
            "error_y": {
             "color": "#2a3f5f"
            },
            "marker": {
             "line": {
              "color": "#E5ECF6",
              "width": 0.5
             },
             "pattern": {
              "fillmode": "overlay",
              "size": 10,
              "solidity": 0.2
             }
            },
            "type": "bar"
           }
          ],
          "barpolar": [
           {
            "marker": {
             "line": {
              "color": "#E5ECF6",
              "width": 0.5
             },
             "pattern": {
              "fillmode": "overlay",
              "size": 10,
              "solidity": 0.2
             }
            },
            "type": "barpolar"
           }
          ],
          "carpet": [
           {
            "aaxis": {
             "endlinecolor": "#2a3f5f",
             "gridcolor": "white",
             "linecolor": "white",
             "minorgridcolor": "white",
             "startlinecolor": "#2a3f5f"
            },
            "baxis": {
             "endlinecolor": "#2a3f5f",
             "gridcolor": "white",
             "linecolor": "white",
             "minorgridcolor": "white",
             "startlinecolor": "#2a3f5f"
            },
            "type": "carpet"
           }
          ],
          "choropleth": [
           {
            "colorbar": {
             "outlinewidth": 0,
             "ticks": ""
            },
            "type": "choropleth"
           }
          ],
          "contour": [
           {
            "colorbar": {
             "outlinewidth": 0,
             "ticks": ""
            },
            "colorscale": [
             [
              0,
              "#0d0887"
             ],
             [
              0.1111111111111111,
              "#46039f"
             ],
             [
              0.2222222222222222,
              "#7201a8"
             ],
             [
              0.3333333333333333,
              "#9c179e"
             ],
             [
              0.4444444444444444,
              "#bd3786"
             ],
             [
              0.5555555555555556,
              "#d8576b"
             ],
             [
              0.6666666666666666,
              "#ed7953"
             ],
             [
              0.7777777777777778,
              "#fb9f3a"
             ],
             [
              0.8888888888888888,
              "#fdca26"
             ],
             [
              1,
              "#f0f921"
             ]
            ],
            "type": "contour"
           }
          ],
          "contourcarpet": [
           {
            "colorbar": {
             "outlinewidth": 0,
             "ticks": ""
            },
            "type": "contourcarpet"
           }
          ],
          "heatmap": [
           {
            "colorbar": {
             "outlinewidth": 0,
             "ticks": ""
            },
            "colorscale": [
             [
              0,
              "#0d0887"
             ],
             [
              0.1111111111111111,
              "#46039f"
             ],
             [
              0.2222222222222222,
              "#7201a8"
             ],
             [
              0.3333333333333333,
              "#9c179e"
             ],
             [
              0.4444444444444444,
              "#bd3786"
             ],
             [
              0.5555555555555556,
              "#d8576b"
             ],
             [
              0.6666666666666666,
              "#ed7953"
             ],
             [
              0.7777777777777778,
              "#fb9f3a"
             ],
             [
              0.8888888888888888,
              "#fdca26"
             ],
             [
              1,
              "#f0f921"
             ]
            ],
            "type": "heatmap"
           }
          ],
          "heatmapgl": [
           {
            "colorbar": {
             "outlinewidth": 0,
             "ticks": ""
            },
            "colorscale": [
             [
              0,
              "#0d0887"
             ],
             [
              0.1111111111111111,
              "#46039f"
             ],
             [
              0.2222222222222222,
              "#7201a8"
             ],
             [
              0.3333333333333333,
              "#9c179e"
             ],
             [
              0.4444444444444444,
              "#bd3786"
             ],
             [
              0.5555555555555556,
              "#d8576b"
             ],
             [
              0.6666666666666666,
              "#ed7953"
             ],
             [
              0.7777777777777778,
              "#fb9f3a"
             ],
             [
              0.8888888888888888,
              "#fdca26"
             ],
             [
              1,
              "#f0f921"
             ]
            ],
            "type": "heatmapgl"
           }
          ],
          "histogram": [
           {
            "marker": {
             "pattern": {
              "fillmode": "overlay",
              "size": 10,
              "solidity": 0.2
             }
            },
            "type": "histogram"
           }
          ],
          "histogram2d": [
           {
            "colorbar": {
             "outlinewidth": 0,
             "ticks": ""
            },
            "colorscale": [
             [
              0,
              "#0d0887"
             ],
             [
              0.1111111111111111,
              "#46039f"
             ],
             [
              0.2222222222222222,
              "#7201a8"
             ],
             [
              0.3333333333333333,
              "#9c179e"
             ],
             [
              0.4444444444444444,
              "#bd3786"
             ],
             [
              0.5555555555555556,
              "#d8576b"
             ],
             [
              0.6666666666666666,
              "#ed7953"
             ],
             [
              0.7777777777777778,
              "#fb9f3a"
             ],
             [
              0.8888888888888888,
              "#fdca26"
             ],
             [
              1,
              "#f0f921"
             ]
            ],
            "type": "histogram2d"
           }
          ],
          "histogram2dcontour": [
           {
            "colorbar": {
             "outlinewidth": 0,
             "ticks": ""
            },
            "colorscale": [
             [
              0,
              "#0d0887"
             ],
             [
              0.1111111111111111,
              "#46039f"
             ],
             [
              0.2222222222222222,
              "#7201a8"
             ],
             [
              0.3333333333333333,
              "#9c179e"
             ],
             [
              0.4444444444444444,
              "#bd3786"
             ],
             [
              0.5555555555555556,
              "#d8576b"
             ],
             [
              0.6666666666666666,
              "#ed7953"
             ],
             [
              0.7777777777777778,
              "#fb9f3a"
             ],
             [
              0.8888888888888888,
              "#fdca26"
             ],
             [
              1,
              "#f0f921"
             ]
            ],
            "type": "histogram2dcontour"
           }
          ],
          "mesh3d": [
           {
            "colorbar": {
             "outlinewidth": 0,
             "ticks": ""
            },
            "type": "mesh3d"
           }
          ],
          "parcoords": [
           {
            "line": {
             "colorbar": {
              "outlinewidth": 0,
              "ticks": ""
             }
            },
            "type": "parcoords"
           }
          ],
          "pie": [
           {
            "automargin": true,
            "type": "pie"
           }
          ],
          "scatter": [
           {
            "fillpattern": {
             "fillmode": "overlay",
             "size": 10,
             "solidity": 0.2
            },
            "type": "scatter"
           }
          ],
          "scatter3d": [
           {
            "line": {
             "colorbar": {
              "outlinewidth": 0,
              "ticks": ""
             }
            },
            "marker": {
             "colorbar": {
              "outlinewidth": 0,
              "ticks": ""
             }
            },
            "type": "scatter3d"
           }
          ],
          "scattercarpet": [
           {
            "marker": {
             "colorbar": {
              "outlinewidth": 0,
              "ticks": ""
             }
            },
            "type": "scattercarpet"
           }
          ],
          "scattergeo": [
           {
            "marker": {
             "colorbar": {
              "outlinewidth": 0,
              "ticks": ""
             }
            },
            "type": "scattergeo"
           }
          ],
          "scattergl": [
           {
            "marker": {
             "colorbar": {
              "outlinewidth": 0,
              "ticks": ""
             }
            },
            "type": "scattergl"
           }
          ],
          "scattermapbox": [
           {
            "marker": {
             "colorbar": {
              "outlinewidth": 0,
              "ticks": ""
             }
            },
            "type": "scattermapbox"
           }
          ],
          "scatterpolar": [
           {
            "marker": {
             "colorbar": {
              "outlinewidth": 0,
              "ticks": ""
             }
            },
            "type": "scatterpolar"
           }
          ],
          "scatterpolargl": [
           {
            "marker": {
             "colorbar": {
              "outlinewidth": 0,
              "ticks": ""
             }
            },
            "type": "scatterpolargl"
           }
          ],
          "scatterternary": [
           {
            "marker": {
             "colorbar": {
              "outlinewidth": 0,
              "ticks": ""
             }
            },
            "type": "scatterternary"
           }
          ],
          "surface": [
           {
            "colorbar": {
             "outlinewidth": 0,
             "ticks": ""
            },
            "colorscale": [
             [
              0,
              "#0d0887"
             ],
             [
              0.1111111111111111,
              "#46039f"
             ],
             [
              0.2222222222222222,
              "#7201a8"
             ],
             [
              0.3333333333333333,
              "#9c179e"
             ],
             [
              0.4444444444444444,
              "#bd3786"
             ],
             [
              0.5555555555555556,
              "#d8576b"
             ],
             [
              0.6666666666666666,
              "#ed7953"
             ],
             [
              0.7777777777777778,
              "#fb9f3a"
             ],
             [
              0.8888888888888888,
              "#fdca26"
             ],
             [
              1,
              "#f0f921"
             ]
            ],
            "type": "surface"
           }
          ],
          "table": [
           {
            "cells": {
             "fill": {
              "color": "#EBF0F8"
             },
             "line": {
              "color": "white"
             }
            },
            "header": {
             "fill": {
              "color": "#C8D4E3"
             },
             "line": {
              "color": "white"
             }
            },
            "type": "table"
           }
          ]
         },
         "layout": {
          "annotationdefaults": {
           "arrowcolor": "#2a3f5f",
           "arrowhead": 0,
           "arrowwidth": 1
          },
          "autotypenumbers": "strict",
          "coloraxis": {
           "colorbar": {
            "outlinewidth": 0,
            "ticks": ""
           }
          },
          "colorscale": {
           "diverging": [
            [
             0,
             "#8e0152"
            ],
            [
             0.1,
             "#c51b7d"
            ],
            [
             0.2,
             "#de77ae"
            ],
            [
             0.3,
             "#f1b6da"
            ],
            [
             0.4,
             "#fde0ef"
            ],
            [
             0.5,
             "#f7f7f7"
            ],
            [
             0.6,
             "#e6f5d0"
            ],
            [
             0.7,
             "#b8e186"
            ],
            [
             0.8,
             "#7fbc41"
            ],
            [
             0.9,
             "#4d9221"
            ],
            [
             1,
             "#276419"
            ]
           ],
           "sequential": [
            [
             0,
             "#0d0887"
            ],
            [
             0.1111111111111111,
             "#46039f"
            ],
            [
             0.2222222222222222,
             "#7201a8"
            ],
            [
             0.3333333333333333,
             "#9c179e"
            ],
            [
             0.4444444444444444,
             "#bd3786"
            ],
            [
             0.5555555555555556,
             "#d8576b"
            ],
            [
             0.6666666666666666,
             "#ed7953"
            ],
            [
             0.7777777777777778,
             "#fb9f3a"
            ],
            [
             0.8888888888888888,
             "#fdca26"
            ],
            [
             1,
             "#f0f921"
            ]
           ],
           "sequentialminus": [
            [
             0,
             "#0d0887"
            ],
            [
             0.1111111111111111,
             "#46039f"
            ],
            [
             0.2222222222222222,
             "#7201a8"
            ],
            [
             0.3333333333333333,
             "#9c179e"
            ],
            [
             0.4444444444444444,
             "#bd3786"
            ],
            [
             0.5555555555555556,
             "#d8576b"
            ],
            [
             0.6666666666666666,
             "#ed7953"
            ],
            [
             0.7777777777777778,
             "#fb9f3a"
            ],
            [
             0.8888888888888888,
             "#fdca26"
            ],
            [
             1,
             "#f0f921"
            ]
           ]
          },
          "colorway": [
           "#636efa",
           "#EF553B",
           "#00cc96",
           "#ab63fa",
           "#FFA15A",
           "#19d3f3",
           "#FF6692",
           "#B6E880",
           "#FF97FF",
           "#FECB52"
          ],
          "font": {
           "color": "#2a3f5f"
          },
          "geo": {
           "bgcolor": "white",
           "lakecolor": "white",
           "landcolor": "#E5ECF6",
           "showlakes": true,
           "showland": true,
           "subunitcolor": "white"
          },
          "hoverlabel": {
           "align": "left"
          },
          "hovermode": "closest",
          "mapbox": {
           "style": "light"
          },
          "paper_bgcolor": "white",
          "plot_bgcolor": "#E5ECF6",
          "polar": {
           "angularaxis": {
            "gridcolor": "white",
            "linecolor": "white",
            "ticks": ""
           },
           "bgcolor": "#E5ECF6",
           "radialaxis": {
            "gridcolor": "white",
            "linecolor": "white",
            "ticks": ""
           }
          },
          "scene": {
           "xaxis": {
            "backgroundcolor": "#E5ECF6",
            "gridcolor": "white",
            "gridwidth": 2,
            "linecolor": "white",
            "showbackground": true,
            "ticks": "",
            "zerolinecolor": "white"
           },
           "yaxis": {
            "backgroundcolor": "#E5ECF6",
            "gridcolor": "white",
            "gridwidth": 2,
            "linecolor": "white",
            "showbackground": true,
            "ticks": "",
            "zerolinecolor": "white"
           },
           "zaxis": {
            "backgroundcolor": "#E5ECF6",
            "gridcolor": "white",
            "gridwidth": 2,
            "linecolor": "white",
            "showbackground": true,
            "ticks": "",
            "zerolinecolor": "white"
           }
          },
          "shapedefaults": {
           "line": {
            "color": "#2a3f5f"
           }
          },
          "ternary": {
           "aaxis": {
            "gridcolor": "white",
            "linecolor": "white",
            "ticks": ""
           },
           "baxis": {
            "gridcolor": "white",
            "linecolor": "white",
            "ticks": ""
           },
           "bgcolor": "#E5ECF6",
           "caxis": {
            "gridcolor": "white",
            "linecolor": "white",
            "ticks": ""
           }
          },
          "title": {
           "x": 0.05
          },
          "xaxis": {
           "automargin": true,
           "gridcolor": "white",
           "linecolor": "white",
           "ticks": "",
           "title": {
            "standoff": 15
           },
           "zerolinecolor": "white",
           "zerolinewidth": 2
          },
          "yaxis": {
           "automargin": true,
           "gridcolor": "white",
           "linecolor": "white",
           "ticks": "",
           "title": {
            "standoff": 15
           },
           "zerolinecolor": "white",
           "zerolinewidth": 2
          }
         }
        },
        "title": {
         "text": "Tournament Wins by Seed (1985-2024)"
        },
        "xaxis": {
         "anchor": "y",
         "domain": [
          0,
          1
         ],
         "title": {
          "text": "Seed"
         }
        },
        "yaxis": {
         "anchor": "x",
         "domain": [
          0,
          1
         ],
         "title": {
          "text": "Number of Wins"
         }
        }
       }
      }
     },
     "metadata": {},
     "output_type": "display_data"
    }
   ],
   "source": [
    "seed_performance = tourney_compact.copy()\n",
    "seed_performance['Upset'] = seed_performance['WSeedValue'] > seed_performance['LSeedValue']\n",
    "\n",
    "# Group by seed and calculate win percentage\n",
    "seed_stats = seed_performance.groupby('WSeedValue').agg({\n",
    "    'Season': 'count',  # Total wins by this seed\n",
    "    'Upset': 'sum'      # Number of upsets by this seed\n",
    "}).rename(columns={'Season': 'Wins'})\n",
    "\n",
    "# Add visualization\n",
    "fig = px.bar(seed_stats, x=seed_stats.index, y='Wins', \n",
    "             title='Tournament Wins by Seed (1985-2024)',\n",
    "             labels={'WSeedValue': 'Seed', 'Wins': 'Number of Wins'},\n",
    "             color='Upset', color_continuous_scale='Viridis')\n",
    "fig.update_layout(xaxis_title='Seed', yaxis_title='Number of Wins')\n",
    "fig.show()"
   ]
  }
 ],
 "metadata": {
  "kernelspec": {
   "display_name": "Python 3",
   "language": "python",
   "name": "python3"
  },
  "language_info": {
   "codemirror_mode": {
    "name": "ipython",
    "version": 3
   },
   "file_extension": ".py",
   "mimetype": "text/x-python",
   "name": "python",
   "nbconvert_exporter": "python",
   "pygments_lexer": "ipython3",
   "version": "3.12.3"
  }
 },
 "nbformat": 4,
 "nbformat_minor": 2
}
