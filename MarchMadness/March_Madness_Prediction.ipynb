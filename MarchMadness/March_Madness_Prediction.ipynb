{
 "cells": [
  {
   "cell_type": "markdown",
   "metadata": {},
   "source": [
    "# March Madness Prediction\n",
    "\n",
    "## Overview\n",
    "\n",
    "### Goal\n",
    "Submissions are based on the Brier Score, the goal will be to minimize the brier score between the predicted probabilities and the actual game outcomes. The Brier score measures the accuracy of probablistic predition, in this case the mean square error. \n",
    "\n",
    "The brier score can be thought of as a cost function that measures the average squared difference between the predicted probabilities and the actual outcomes.\n",
    "\n",
    "$$\n",
    "Brier = \\frac{1}{N} \\sum_{i=1}^{N} (p_i - o_i)^2\n",
    "$$\n",
    "\n",
    "where $p_i$ is the predicted probability of the event and $o_i$ is the actual outcome. The Brier score can span across all items in a set of N predictions.\n",
    "\n",
    "Therefore, minimizing the Brier score will result in a more accurate prediction.\n",
    "\n"
   ]
  },
  {
   "cell_type": "markdown",
   "metadata": {},
   "source": [
    "## Import Libraries\n",
    "Numpy for numerical operations\n",
    "Pandas for data manipulation\n",
    "Matplotlib, Seaborn, Plotly for plotting\n",
    "\n"
   ]
  },
  {
   "cell_type": "code",
   "execution_count": 2,
   "metadata": {},
   "outputs": [],
   "source": [
    "import glob\n",
    "import numpy as np\n",
    "import pandas as pd\n",
    "import matplotlib.pyplot as plt\n",
    "import seaborn as sns\n",
    "import plotly.express as px\n",
    "import plotly.graph_objects as go\n",
    "import plotly.io as pio\n",
    "import plotly.subplots as sp\n",
    "import xgboost as xgb\n",
    "import sklearn as sk"
   ]
  },
  {
   "cell_type": "markdown",
   "metadata": {},
   "source": [
    "## Load Data\n",
    "\n",
    "Set up a data dictionary that will store the data for each file, this will make it easier to access data from the csvs\n"
   ]
  },
  {
   "cell_type": "code",
   "execution_count": 3,
   "metadata": {},
   "outputs": [],
   "source": [
    "data_dir = 'data/'\n",
    "data = {}\n",
    "\n",
    "files = glob.glob(data_dir + '*.csv')\n",
    "for file in files:\n",
    "    filename = file.split('/')[-1].split('\\\\')[-1].split('.')[0]\n",
    "    try:\n",
    "        data[filename] = pd.read_csv(file, encoding='latin-1')\n",
    "    except Exception as e:\n",
    "        print(f\"Warning: Could not load {filename}: {e}\")\n",
    "\n"
   ]
  },
  {
   "cell_type": "markdown",
   "metadata": {},
   "source": [
    "Now that we have the data loaded, lets start by loading team and team spelling data.\n"
   ]
  },
  {
   "cell_type": "code",
   "execution_count": 4,
   "metadata": {},
   "outputs": [
    {
     "name": "stdout",
     "output_type": "stream",
     "text": [
      "   TeamID     TeamName  FirstD1Season  LastD1Season  TeamNameCount\n",
      "0    1101  Abilene Chr         2014.0        2025.0              3\n",
      "1    1102    Air Force         1985.0        2025.0              2\n",
      "2    1103        Akron         1985.0        2025.0              1\n",
      "3    1104      Alabama         1985.0        2025.0              1\n",
      "4    1105  Alabama A&M         2000.0        2025.0              2\n"
     ]
    }
   ],
   "source": [
    "teams = pd.concat([data['MTeams'], data['WTeams']])\n",
    "teams_spelling = pd.concat([data['MTeamSpellings'], data['WTeamSpellings']])\n",
    "teams_spelling = teams_spelling.groupby(by='TeamID', as_index=False)['TeamNameSpelling'].count()\n",
    "teams_spelling.columns = ['TeamID', 'TeamNameCount']\n",
    "teams = pd.merge(teams, teams_spelling, how='left', on=['TeamID'])\n",
    "print(teams.head())"
   ]
  },
  {
   "cell_type": "markdown",
   "metadata": {},
   "source": [
    "Add season and turney reluts, both compact and detailed. There is a chance we only end up using the detailed results"
   ]
  },
  {
   "cell_type": "code",
   "execution_count": 5,
   "metadata": {},
   "outputs": [],
   "source": [
    "season_compact_results = pd.concat([data['MRegularSeasonCompactResults'], data['WRegularSeasonCompactResults']]).assign(ST='S')\n",
    "season_detailed_results = pd.concat([data['MRegularSeasonDetailedResults'], data['WRegularSeasonDetailedResults']]).assign(ST='S')\n",
    "tourney_compact_results = pd.concat([data['MNCAATourneyCompactResults'], data['WNCAATourneyCompactResults']]).assign(ST='T')\n",
    "tourney_detailed_results = pd.concat([data['MNCAATourneyDetailedResults'], data['WNCAATourneyDetailedResults']]).assign(ST='T')\n"
   ]
  },
  {
   "cell_type": "markdown",
   "metadata": {},
   "source": [
    "Take a look at what the data format"
   ]
  },
  {
   "cell_type": "code",
   "execution_count": 6,
   "metadata": {},
   "outputs": [
    {
     "data": {
      "text/html": [
       "<style type=\"text/css\">\n",
       "#T_119e1_row0_col0, #T_119e1_row0_col1, #T_119e1_row0_col2, #T_119e1_row0_col3, #T_119e1_row1_col0, #T_119e1_row1_col1, #T_119e1_row1_col2, #T_119e1_row1_col3, #T_119e1_row2_col0, #T_119e1_row2_col1, #T_119e1_row2_col2, #T_119e1_row2_col3, #T_119e1_row3_col0, #T_119e1_row3_col1, #T_119e1_row3_col2, #T_119e1_row3_col3 {\n",
       "  border-color: black;\n",
       "  border-style: solid;\n",
       "  border-width: 1px;\n",
       "  text-align: center;\n",
       "}\n",
       "</style>\n",
       "<table id=\"T_119e1\">\n",
       "  <thead>\n",
       "    <tr>\n",
       "      <th class=\"blank level0\" >&nbsp;</th>\n",
       "      <th id=\"T_119e1_level0_col0\" class=\"col_heading level0 col0\" >Dataset</th>\n",
       "      <th id=\"T_119e1_level0_col1\" class=\"col_heading level0 col1\" >Shape</th>\n",
       "      <th id=\"T_119e1_level0_col2\" class=\"col_heading level0 col2\" >Columns</th>\n",
       "      <th id=\"T_119e1_level0_col3\" class=\"col_heading level0 col3\" >Sample Years</th>\n",
       "    </tr>\n",
       "  </thead>\n",
       "  <tbody>\n",
       "    <tr>\n",
       "      <th id=\"T_119e1_level0_row0\" class=\"row_heading level0 row0\" >0</th>\n",
       "      <td id=\"T_119e1_row0_col0\" class=\"data row0 col0\" >Regular Season Compact</td>\n",
       "      <td id=\"T_119e1_row0_col1\" class=\"data row0 col1\" >(325732, 9)</td>\n",
       "      <td id=\"T_119e1_row0_col2\" class=\"data row0 col2\" >9</td>\n",
       "      <td id=\"T_119e1_row0_col3\" class=\"data row0 col3\" >1985-2025</td>\n",
       "    </tr>\n",
       "    <tr>\n",
       "      <th id=\"T_119e1_level0_row1\" class=\"row_heading level0 row1\" >1</th>\n",
       "      <td id=\"T_119e1_row1_col0\" class=\"data row1 col0\" >Regular Season Detailed</td>\n",
       "      <td id=\"T_119e1_row1_col1\" class=\"data row1 col1\" >(196362, 35)</td>\n",
       "      <td id=\"T_119e1_row1_col2\" class=\"data row1 col2\" >35</td>\n",
       "      <td id=\"T_119e1_row1_col3\" class=\"data row1 col3\" >2003-2025</td>\n",
       "    </tr>\n",
       "    <tr>\n",
       "      <th id=\"T_119e1_level0_row2\" class=\"row_heading level0 row2\" >2</th>\n",
       "      <td id=\"T_119e1_row2_col0\" class=\"data row2 col0\" >Tournament Compact</td>\n",
       "      <td id=\"T_119e1_row2_col1\" class=\"data row2 col1\" >(4168, 9)</td>\n",
       "      <td id=\"T_119e1_row2_col2\" class=\"data row2 col2\" >9</td>\n",
       "      <td id=\"T_119e1_row2_col3\" class=\"data row2 col3\" >1985-2024</td>\n",
       "    </tr>\n",
       "    <tr>\n",
       "      <th id=\"T_119e1_level0_row3\" class=\"row_heading level0 row3\" >3</th>\n",
       "      <td id=\"T_119e1_row3_col0\" class=\"data row3 col0\" >Tournament Detailed</td>\n",
       "      <td id=\"T_119e1_row3_col1\" class=\"data row3 col1\" >(2276, 35)</td>\n",
       "      <td id=\"T_119e1_row3_col2\" class=\"data row3 col2\" >35</td>\n",
       "      <td id=\"T_119e1_row3_col3\" class=\"data row3 col3\" >2003-2024</td>\n",
       "    </tr>\n",
       "  </tbody>\n",
       "</table>\n"
      ],
      "text/plain": [
       "<pandas.io.formats.style.Styler at 0x233854e6120>"
      ]
     },
     "metadata": {},
     "output_type": "display_data"
    }
   ],
   "source": [
    "# Create a summary of the datasets\n",
    "summary = pd.DataFrame({\n",
    "    'Dataset': [\n",
    "        'Regular Season Compact',\n",
    "        'Regular Season Detailed',\n",
    "        'Tournament Compact',\n",
    "        'Tournament Detailed'\n",
    "    ],\n",
    "    'Shape': [\n",
    "        season_compact_results.shape,\n",
    "        season_detailed_results.shape,\n",
    "        tourney_compact_results.shape,\n",
    "        tourney_detailed_results.shape\n",
    "    ],\n",
    "    'Columns': [\n",
    "        len(season_compact_results.columns),\n",
    "        len(season_detailed_results.columns),\n",
    "        len(tourney_compact_results.columns),\n",
    "        len(tourney_detailed_results.columns)\n",
    "    ],\n",
    "    'Sample Years': [\n",
    "        f\"{season_compact_results['Season'].min()}-{season_compact_results['Season'].max()}\",\n",
    "        f\"{season_detailed_results['Season'].min()}-{season_detailed_results['Season'].max()}\",\n",
    "        f\"{tourney_compact_results['Season'].min()}-{tourney_compact_results['Season'].max()}\",\n",
    "        f\"{tourney_detailed_results['Season'].min()}-{tourney_detailed_results['Season'].max()}\"\n",
    "    ]\n",
    "})\n",
    "\n",
    "# Display the summary with nice formatting\n",
    "display(summary.style.set_properties(**{\n",
    "    'border-color': 'black',\n",
    "    'border-style': 'solid',\n",
    "    'border-width': '1px',\n",
    "    'text-align': 'center'\n",
    "}))\n",
    "\n",
    "# If you want to see the first few rows of each dataset, you can also do:\n",
    "# print(\"\\nSample of Regular Season Compact Results:\")\n",
    "# display(season_compact_results.head(3))\n",
    "\n",
    "# print(\"\\nSample of Regular Season Detailed Results:\")\n",
    "# display(season_detailed_results.head(3))\n",
    "\n",
    "# print(\"\\nSample of Tournament Compact Results:\")\n",
    "# display(tourney_compact_results.head(3))\n",
    "\n",
    "# print(\"\\nSample of Tournament Detailed Results:\")\n",
    "# display(tourney_detailed_results.head(3))"
   ]
  },
  {
   "cell_type": "code",
   "execution_count": 18,
   "metadata": {},
   "outputs": [],
   "source": [
    "# Load other data that might prove useful\n",
    "slots = pd.concat([data['MNCAATourneySlots'], data['WNCAATourneySlots']])\n",
    "seeds = pd.concat([data['MNCAATourneySeeds'], data['WNCAATourneySeeds']])\n",
    "seeds['SeedValue'] = seeds['Seed'].str.extract(r'(\\d+)').astype(int)\n",
    "seeds_dict = {'_'.join(map(str,[int(k1),k2])):int(v[1:3]) for k1, v, k2 in seeds[['Season', 'Seed', 'TeamID']].values}\n",
    "game_cities = pd.concat([data['MGameCities'], data['WGameCities']])\n",
    "seasons = pd.concat([data['MSeasons'], data['WSeasons']])\n",
    "\n",
    "# Combine all game results\n",
    "all_compact_results = pd.concat([season_compact_results, tourney_compact_results])\n",
    "all_detailed_results = pd.concat([season_detailed_results, tourney_detailed_results])\n"
   ]
  },
  {
   "cell_type": "markdown",
   "metadata": {},
   "source": [
    "## Feature Engineering\n",
    "\n"
   ]
  },
  {
   "cell_type": "code",
   "execution_count": 19,
   "metadata": {},
   "outputs": [
    {
     "ename": "KeyError",
     "evalue": "\"['SeedValue'] not in index\"",
     "output_type": "error",
     "traceback": [
      "\u001b[1;31m---------------------------------------------------------------------------\u001b[0m",
      "\u001b[1;31mKeyError\u001b[0m                                  Traceback (most recent call last)",
      "Cell \u001b[1;32mIn[19], line 39\u001b[0m\n\u001b[0;32m     34\u001b[0m tourney_detailed \u001b[38;5;241m=\u001b[39m all_detailed_results[all_detailed_results[\u001b[38;5;124m'\u001b[39m\u001b[38;5;124mST\u001b[39m\u001b[38;5;124m'\u001b[39m] \u001b[38;5;241m==\u001b[39m \u001b[38;5;124m'\u001b[39m\u001b[38;5;124mT\u001b[39m\u001b[38;5;124m'\u001b[39m]\u001b[38;5;241m.\u001b[39mcopy()\n\u001b[0;32m     36\u001b[0m \u001b[38;5;66;03m# Add winner seeds\u001b[39;00m\n\u001b[0;32m     37\u001b[0m tourney_compact \u001b[38;5;241m=\u001b[39m pd\u001b[38;5;241m.\u001b[39mmerge(\n\u001b[0;32m     38\u001b[0m     tourney_compact,\n\u001b[1;32m---> 39\u001b[0m     \u001b[43mseeds\u001b[49m\u001b[43m[\u001b[49m\u001b[43m[\u001b[49m\u001b[38;5;124;43m'\u001b[39;49m\u001b[38;5;124;43mSeason\u001b[39;49m\u001b[38;5;124;43m'\u001b[39;49m\u001b[43m,\u001b[49m\u001b[43m \u001b[49m\u001b[38;5;124;43m'\u001b[39;49m\u001b[38;5;124;43mTeamID\u001b[39;49m\u001b[38;5;124;43m'\u001b[39;49m\u001b[43m,\u001b[49m\u001b[43m \u001b[49m\u001b[38;5;124;43m'\u001b[39;49m\u001b[38;5;124;43mSeedValue\u001b[39;49m\u001b[38;5;124;43m'\u001b[39;49m\u001b[43m]\u001b[49m\u001b[43m]\u001b[49m,\n\u001b[0;32m     40\u001b[0m     how\u001b[38;5;241m=\u001b[39m\u001b[38;5;124m'\u001b[39m\u001b[38;5;124mleft\u001b[39m\u001b[38;5;124m'\u001b[39m,\n\u001b[0;32m     41\u001b[0m     left_on\u001b[38;5;241m=\u001b[39m[\u001b[38;5;124m'\u001b[39m\u001b[38;5;124mSeason\u001b[39m\u001b[38;5;124m'\u001b[39m, \u001b[38;5;124m'\u001b[39m\u001b[38;5;124mWTeamID\u001b[39m\u001b[38;5;124m'\u001b[39m],\n\u001b[0;32m     42\u001b[0m     right_on\u001b[38;5;241m=\u001b[39m[\u001b[38;5;124m'\u001b[39m\u001b[38;5;124mSeason\u001b[39m\u001b[38;5;124m'\u001b[39m, \u001b[38;5;124m'\u001b[39m\u001b[38;5;124mTeamID\u001b[39m\u001b[38;5;124m'\u001b[39m]\n\u001b[0;32m     43\u001b[0m )\n\u001b[0;32m     44\u001b[0m tourney_compact\u001b[38;5;241m.\u001b[39mrename(columns\u001b[38;5;241m=\u001b[39m{\u001b[38;5;124m'\u001b[39m\u001b[38;5;124mSeedValue\u001b[39m\u001b[38;5;124m'\u001b[39m: \u001b[38;5;124m'\u001b[39m\u001b[38;5;124mWSeedValue\u001b[39m\u001b[38;5;124m'\u001b[39m}, inplace\u001b[38;5;241m=\u001b[39m\u001b[38;5;28;01mTrue\u001b[39;00m)\n\u001b[0;32m     45\u001b[0m tourney_compact\u001b[38;5;241m.\u001b[39mdrop(\u001b[38;5;124m'\u001b[39m\u001b[38;5;124mTeamID\u001b[39m\u001b[38;5;124m'\u001b[39m, axis\u001b[38;5;241m=\u001b[39m\u001b[38;5;241m1\u001b[39m, inplace\u001b[38;5;241m=\u001b[39m\u001b[38;5;28;01mTrue\u001b[39;00m)\n",
      "File \u001b[1;32m~\\AppData\\Roaming\\Python\\Python313\\site-packages\\pandas\\core\\frame.py:4108\u001b[0m, in \u001b[0;36mDataFrame.__getitem__\u001b[1;34m(self, key)\u001b[0m\n\u001b[0;32m   4106\u001b[0m     \u001b[38;5;28;01mif\u001b[39;00m is_iterator(key):\n\u001b[0;32m   4107\u001b[0m         key \u001b[38;5;241m=\u001b[39m \u001b[38;5;28mlist\u001b[39m(key)\n\u001b[1;32m-> 4108\u001b[0m     indexer \u001b[38;5;241m=\u001b[39m \u001b[38;5;28;43mself\u001b[39;49m\u001b[38;5;241;43m.\u001b[39;49m\u001b[43mcolumns\u001b[49m\u001b[38;5;241;43m.\u001b[39;49m\u001b[43m_get_indexer_strict\u001b[49m\u001b[43m(\u001b[49m\u001b[43mkey\u001b[49m\u001b[43m,\u001b[49m\u001b[43m \u001b[49m\u001b[38;5;124;43m\"\u001b[39;49m\u001b[38;5;124;43mcolumns\u001b[39;49m\u001b[38;5;124;43m\"\u001b[39;49m\u001b[43m)\u001b[49m[\u001b[38;5;241m1\u001b[39m]\n\u001b[0;32m   4110\u001b[0m \u001b[38;5;66;03m# take() does not accept boolean indexers\u001b[39;00m\n\u001b[0;32m   4111\u001b[0m \u001b[38;5;28;01mif\u001b[39;00m \u001b[38;5;28mgetattr\u001b[39m(indexer, \u001b[38;5;124m\"\u001b[39m\u001b[38;5;124mdtype\u001b[39m\u001b[38;5;124m\"\u001b[39m, \u001b[38;5;28;01mNone\u001b[39;00m) \u001b[38;5;241m==\u001b[39m \u001b[38;5;28mbool\u001b[39m:\n",
      "File \u001b[1;32m~\\AppData\\Roaming\\Python\\Python313\\site-packages\\pandas\\core\\indexes\\base.py:6200\u001b[0m, in \u001b[0;36mIndex._get_indexer_strict\u001b[1;34m(self, key, axis_name)\u001b[0m\n\u001b[0;32m   6197\u001b[0m \u001b[38;5;28;01melse\u001b[39;00m:\n\u001b[0;32m   6198\u001b[0m     keyarr, indexer, new_indexer \u001b[38;5;241m=\u001b[39m \u001b[38;5;28mself\u001b[39m\u001b[38;5;241m.\u001b[39m_reindex_non_unique(keyarr)\n\u001b[1;32m-> 6200\u001b[0m \u001b[38;5;28;43mself\u001b[39;49m\u001b[38;5;241;43m.\u001b[39;49m\u001b[43m_raise_if_missing\u001b[49m\u001b[43m(\u001b[49m\u001b[43mkeyarr\u001b[49m\u001b[43m,\u001b[49m\u001b[43m \u001b[49m\u001b[43mindexer\u001b[49m\u001b[43m,\u001b[49m\u001b[43m \u001b[49m\u001b[43maxis_name\u001b[49m\u001b[43m)\u001b[49m\n\u001b[0;32m   6202\u001b[0m keyarr \u001b[38;5;241m=\u001b[39m \u001b[38;5;28mself\u001b[39m\u001b[38;5;241m.\u001b[39mtake(indexer)\n\u001b[0;32m   6203\u001b[0m \u001b[38;5;28;01mif\u001b[39;00m \u001b[38;5;28misinstance\u001b[39m(key, Index):\n\u001b[0;32m   6204\u001b[0m     \u001b[38;5;66;03m# GH 42790 - Preserve name from an Index\u001b[39;00m\n",
      "File \u001b[1;32m~\\AppData\\Roaming\\Python\\Python313\\site-packages\\pandas\\core\\indexes\\base.py:6252\u001b[0m, in \u001b[0;36mIndex._raise_if_missing\u001b[1;34m(self, key, indexer, axis_name)\u001b[0m\n\u001b[0;32m   6249\u001b[0m     \u001b[38;5;28;01mraise\u001b[39;00m \u001b[38;5;167;01mKeyError\u001b[39;00m(\u001b[38;5;124mf\u001b[39m\u001b[38;5;124m\"\u001b[39m\u001b[38;5;124mNone of [\u001b[39m\u001b[38;5;132;01m{\u001b[39;00mkey\u001b[38;5;132;01m}\u001b[39;00m\u001b[38;5;124m] are in the [\u001b[39m\u001b[38;5;132;01m{\u001b[39;00maxis_name\u001b[38;5;132;01m}\u001b[39;00m\u001b[38;5;124m]\u001b[39m\u001b[38;5;124m\"\u001b[39m)\n\u001b[0;32m   6251\u001b[0m not_found \u001b[38;5;241m=\u001b[39m \u001b[38;5;28mlist\u001b[39m(ensure_index(key)[missing_mask\u001b[38;5;241m.\u001b[39mnonzero()[\u001b[38;5;241m0\u001b[39m]]\u001b[38;5;241m.\u001b[39munique())\n\u001b[1;32m-> 6252\u001b[0m \u001b[38;5;28;01mraise\u001b[39;00m \u001b[38;5;167;01mKeyError\u001b[39;00m(\u001b[38;5;124mf\u001b[39m\u001b[38;5;124m\"\u001b[39m\u001b[38;5;132;01m{\u001b[39;00mnot_found\u001b[38;5;132;01m}\u001b[39;00m\u001b[38;5;124m not in index\u001b[39m\u001b[38;5;124m\"\u001b[39m)\n",
      "\u001b[1;31mKeyError\u001b[0m: \"['SeedValue'] not in index\""
     ]
    }
   ],
   "source": [
    "# Add derived features to compact results\n",
    "all_compact_results['ScoreDiff'] = all_compact_results['WScore'] - all_compact_results['LScore']\n",
    "all_compact_results['HomeAdvantage'] = all_compact_results['WLoc'].map({'H': 1, 'N': 0, 'A': -1})\n",
    "\n",
    "# Add derived features to detaifled results\n",
    "all_detailed_results['ScoreDiff'] = all_detailed_results['WScore'] - all_detailed_results['LScore']\n",
    "all_detailed_results['HomeAdvantage'] = all_detailed_results['WLoc'].map({'H': 1, 'N': 0, 'A': -1})\n",
    "\n",
    "    # Calculate shooting percentages (handling division by zero)\n",
    "all_detailed_results['WFGPct'] = np.where(all_detailed_results['WFGA'] > 0, \n",
    "                                        all_detailed_results['WFGM'] / all_detailed_results['WFGA'], 0)\n",
    "all_detailed_results['WFG3Pct'] = np.where(all_detailed_results['WFGA3'] > 0, \n",
    "                                        all_detailed_results['WFGM3'] / all_detailed_results['WFGA3'], 0)\n",
    "all_detailed_results['WFTPct'] = np.where(all_detailed_results['WFTA'] > 0, \n",
    "                                        all_detailed_results['WFTM'] / all_detailed_results['WFTA'], 0)\n",
    "all_detailed_results['LFGPct'] = np.where(all_detailed_results['LFGA'] > 0, \n",
    "                                        all_detailed_results['LFGM'] / all_detailed_results['LFGA'], 0)\n",
    "all_detailed_results['LFG3Pct'] = np.where(all_detailed_results['LFGA3'] > 0, \n",
    "                                        all_detailed_results['LFGM3'] / all_detailed_results['LFGA3'], 0)\n",
    "all_detailed_results['LFTPct'] = np.where(all_detailed_results['LFTA'] > 0, \n",
    "                                        all_detailed_results['LFTM'] / all_detailed_results['LFTA'], 0)\n",
    "\n",
    "# Add statistical differences\n",
    "all_detailed_results['ReboundDiff'] = (all_detailed_results['WOR'] + all_detailed_results['WDR']) - \\\n",
    "                                    (all_detailed_results['LOR'] + all_detailed_results['LDR'])\n",
    "all_detailed_results['AssistDiff'] = all_detailed_results['WAst'] - all_detailed_results['LAst']\n",
    "all_detailed_results['TurnoverDiff'] = all_detailed_results['WTO'] - all_detailed_results['LTO']\n",
    "all_detailed_results['StealDiff'] = all_detailed_results['WStl'] - all_detailed_results['LStl']\n",
    "all_detailed_results['BlockDiff'] = all_detailed_results['WBlk'] - all_detailed_results['LBlk']\n",
    "all_detailed_results['FoulDiff'] = all_detailed_results['WPF'] - all_detailed_results['LPF']\n",
    "\n",
    "# Add seed information to tournament games\n",
    "tourney_compact = all_compact_results[all_compact_results['ST'] == 'T'].copy()\n",
    "tourney_detailed = all_detailed_results[all_detailed_results['ST'] == 'T'].copy()\n",
    "\n",
    "# Add winner seeds\n",
    "tourney_compact = pd.merge(\n",
    "    tourney_compact,\n",
    "    seeds[['Season', 'TeamID', 'SeedValue']],\n",
    "    how='left',\n",
    "    left_on=['Season', 'WTeamID'],\n",
    "    right_on=['Season', 'TeamID']\n",
    ")\n",
    "tourney_compact.rename(columns={'SeedValue': 'WSeedValue'}, inplace=True)\n",
    "tourney_compact.drop('TeamID', axis=1, inplace=True)\n",
    "\n",
    "tourney_detailed = pd.merge(\n",
    "    tourney_detailed,\n",
    "    seeds[['Season', 'TeamID', 'SeedValue']],\n",
    "    how='left',\n",
    "    left_on=['Season', 'WTeamID'],\n",
    "    right_on=['Season', 'TeamID']\n",
    ")\n",
    "tourney_detailed.rename(columns={'SeedValue': 'WSeedValue'}, inplace=True)\n",
    "tourney_detailed.drop('TeamID', axis=1, inplace=True)\n",
    "\n",
    "# Add loser seeds\n",
    "tourney_compact = pd.merge(\n",
    "    tourney_compact,\n",
    "    seeds[['Season', 'TeamID', 'SeedValue']],\n",
    "    how='left',\n",
    "    left_on=['Season', 'LTeamID'],\n",
    "    right_on=['Season', 'TeamID']\n",
    ")\n",
    "tourney_compact.rename(columns={'SeedValue': 'LSeedValue'}, inplace=True)\n",
    "tourney_compact.drop('TeamID', axis=1, inplace=True)\n",
    "\n",
    "tourney_detailed = pd.merge(\n",
    "    tourney_detailed,\n",
    "    seeds[['Season', 'TeamID', 'SeedValue']],\n",
    "    how='left',\n",
    "    left_on=['Season', 'LTeamID'],\n",
    "    right_on=['Season', 'TeamID']\n",
    ")\n",
    "tourney_detailed.rename(columns={'SeedValue': 'LSeedValue'}, inplace=True)\n",
    "tourney_detailed.drop('TeamID', axis=1, inplace=True)\n",
    "\n",
    "    # Calculate seed difference (lower is better in seeding, so LSeed - WSeed is positive if favorite won)\n",
    "tourney_compact['SeedDiff'] = tourney_compact['LSeedValue'] - tourney_compact['WSeedValue']\n",
    "tourney_detailed['SeedDiff'] = tourney_detailed['LSeedValue'] - tourney_detailed['WSeedValue']"
   ]
  }
 ],
 "metadata": {
  "kernelspec": {
   "display_name": "Python 3",
   "language": "python",
   "name": "python3"
  },
  "language_info": {
   "codemirror_mode": {
    "name": "ipython",
    "version": 3
   },
   "file_extension": ".py",
   "mimetype": "text/x-python",
   "name": "python",
   "nbconvert_exporter": "python",
   "pygments_lexer": "ipython3",
   "version": "3.13.1"
  }
 },
 "nbformat": 4,
 "nbformat_minor": 2
}
