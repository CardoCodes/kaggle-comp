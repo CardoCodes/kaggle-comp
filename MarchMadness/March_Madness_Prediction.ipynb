{
 "cells": [
  {
   "cell_type": "markdown",
   "metadata": {},
   "source": [
    "# March Madness Prediction\n",
    "\n",
    "## Overview\n",
    "\n",
    "### Goal\n",
    "Submissions are based on the Brier Score, the goal will be to minimize the brier score between the predicted probabilities and the actual game outcomes. The Brier score measures the accuracy of probablistic predition, in this case the mean square error. \n",
    "\n",
    "The brier score can be thought of as a cost function that measures the average squared difference between the predicted probabilities and the actual outcomes.\n",
    "\n",
    "$$\n",
    "Brier = \\frac{1}{N} \\sum_{i=1}^{N} (p_i - o_i)^2\n",
    "$$\n",
    "\n",
    "where $p_i$ is the predicted probability of the event and $o_i$ is the actual outcome. The Brier score can span across all items in a set of N predictions.\n",
    "\n",
    "Therefore, minimizing the Brier score will result in a more accurate prediction.\n",
    "\n",
    "\n"
   ]
  },
  {
   "cell_type": "markdown",
   "metadata": {},
   "source": [
    "## Import Libraries\n",
    "Numpy for numerical operations\n",
    "Pandas for data manipulation\n",
    "Matplotlib, Seaborn, Plotly for plotting\n",
    "\n"
   ]
  },
  {
   "cell_type": "code",
   "execution_count": 6,
   "metadata": {},
   "outputs": [],
   "source": [
    "import glob\n",
    "import numpy as np\n",
    "import pandas as pd\n",
    "import matplotlib.pyplot as plt\n",
    "import seaborn as sns\n",
    "import plotly.express as px\n",
    "import plotly.graph_objects as go\n",
    "import plotly.io as pio\n",
    "import plotly.subplots as sp"
   ]
  },
  {
   "cell_type": "markdown",
   "metadata": {},
   "source": [
    "## Load Data\n",
    "\n",
    "We want to get a baseline model in which we can improve upon. In order to do this effectively, I will use a class structure to store all the data and functions that will be used along the process. This will make it easier to improve and maintain changes to the prediction process.\n"
   ]
  },
  {
   "cell_type": "code",
   "execution_count": 42,
   "metadata": {},
   "outputs": [],
   "source": [
    "class MarchMadnessPredictor:\n",
    "    def __init__(self, data_dir):\n",
    "        self.data_dir = data_dir\n",
    "        self.data = None\n",
    "        self.teams = None\n",
    "\n",
    "    def load_data(self):\n",
    "        \n",
    "        \"\"\"\n",
    "        Set up a data dictionary that will store the data for each file. e.g.\n",
    "        self.data = {\n",
    "            'teams': [DataFrame with teams data],\n",
    "            'games': [DataFrame with games data],\n",
    "            'players': [DataFrame with players data]\n",
    "        }\n",
    "        \"\"\"\n",
    "\n",
    "        files = glob.glob(self.data_dir + '*.csv')\n",
    "        self.data = {file.split('\\\\')[-1].split('.')[0]: pd.read_csv(file, encoding='latin-1') for file in files}\n",
    "\n",
    "        teams = pd.concat([self.data['MTeams'], self.data['WTeams']])\n",
    "        teams_spelling = pd.concat([self.data['MTeamSpellings'], self.data['WTeamSpellings']])\n",
    "        teams_spelling = teams_spelling.groupby(by='TeamID', as_index=False)['TeamNameSpelling'].count()\n",
    "        teams_spelling.columns = ['TeamID', 'TeamNameCount']\n",
    "        self.teams = pd.merge(teams, teams_spelling, how='left', on=['TeamID'])\n",
    "\n",
    "        print(self.teams)\n",
    "        \n",
    "\n",
    "        \n",
    "        \n",
    "\n"
   ]
  },
  {
   "cell_type": "code",
   "execution_count": 43,
   "metadata": {},
   "outputs": [
    {
     "name": "stdout",
     "output_type": "stream",
     "text": [
      "     TeamID        TeamName  FirstD1Season  LastD1Season  TeamNameCount\n",
      "0      1101     Abilene Chr         2014.0        2025.0              3\n",
      "1      1102       Air Force         1985.0        2025.0              2\n",
      "2      1103           Akron         1985.0        2025.0              1\n",
      "3      1104         Alabama         1985.0        2025.0              1\n",
      "4      1105     Alabama A&M         2000.0        2025.0              2\n",
      "..      ...             ...            ...           ...            ...\n",
      "753    3476       Stonehill            NaN           NaN              1\n",
      "754    3477  East Texas A&M            NaN           NaN              2\n",
      "755    3478        Le Moyne            NaN           NaN              1\n",
      "756    3479      Mercyhurst            NaN           NaN              1\n",
      "757    3480    West Georgia            NaN           NaN              1\n",
      "\n",
      "[758 rows x 5 columns]\n"
     ]
    }
   ],
   "source": [
    "if __name__ == '__main__':\n",
    "    data_dir = 'data/'\n",
    "    predictor = MarchMadnessPredictor(data_dir)\n",
    "    predictor.load_data()\n"
   ]
  }
 ],
 "metadata": {
  "kernelspec": {
   "display_name": "Python 3",
   "language": "python",
   "name": "python3"
  },
  "language_info": {
   "codemirror_mode": {
    "name": "ipython",
    "version": 3
   },
   "file_extension": ".py",
   "mimetype": "text/x-python",
   "name": "python",
   "nbconvert_exporter": "python",
   "pygments_lexer": "ipython3",
   "version": "3.13.1"
  }
 },
 "nbformat": 4,
 "nbformat_minor": 2
}
