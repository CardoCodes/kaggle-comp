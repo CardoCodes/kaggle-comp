{
 "cells": [
  {
   "cell_type": "markdown",
   "metadata": {},
   "source": [
    "# March Madness Prediction\n",
    "\n",
    "## Overview\n",
    "\n",
    "### Goal\n",
    "Submissions are based on the Brier Score, the goal will be to minimize the brier score between the predicted probabilities and the actual game outcomes. The Brier score measures the accuracy of probablistic predition, in this case the mean square error. \n",
    "\n",
    "The brier score can be thought of as a cost function that measures the average squared difference between the predicted probabilities and the actual outcomes.\n",
    "\n",
    "$$\n",
    "Brier = \\frac{1}{N} \\sum_{i=1}^{N} (p_i - o_i)^2\n",
    "$$\n",
    "\n",
    "where $p_i$ is the predicted probability of the event and $o_i$ is the actual outcome. The Brier score can span across all items in a set of N predictions.\n",
    "\n",
    "Therefore, minimizing the Brier score will result in a more accurate prediction.\n",
    "\n",
    "\n"
   ]
  },
  {
   "cell_type": "markdown",
   "metadata": {},
   "source": [
    "## Import Libraries\n",
    "Numpy for numerical operations\n",
    "Pandas for data manipulation\n",
    "Matplotlib, Seaborn, Plotly for plotting\n",
    "\n"
   ]
  },
  {
   "cell_type": "code",
   "execution_count": 6,
   "metadata": {},
   "outputs": [],
   "source": [
    "import glob\n",
    "import numpy as np\n",
    "import pandas as pd\n",
    "import matplotlib.pyplot as plt\n",
    "import seaborn as sns\n",
    "import plotly.express as px\n",
    "import plotly.graph_objects as go\n",
    "import plotly.io as pio\n",
    "import plotly.subplots as sp\n",
    "import sklearn as sk\n"
   ]
  },
  {
   "cell_type": "markdown",
   "metadata": {},
   "source": [
    "## Load Data\n",
    "\n",
    "We want to get a baseline model in which we can improve upon. In order to do this effectively, I will use a class structure to store all the data and functions that will be used along the process. This will make it easier to improve and maintain changes to the prediction process.\n"
   ]
  },
  {
   "cell_type": "code",
   "execution_count": 68,
   "metadata": {},
   "outputs": [],
   "source": [
    "class MarchMadnessPredictor:\n",
    "    def __init__(self, data_dir):\n",
    "        self.data_dir = data_dir\n",
    "        self.data = None\n",
    "        self.teams = None\n",
    "        self.seeds  = None\n",
    "        self.submission = None\n",
    "\n",
    "    def load_data(self):\n",
    "        \n",
    "        \"\"\"\n",
    "        Set up a data dictionary that will store the data for each file. e.g.\n",
    "        self.data = {\n",
    "            'teams': [DataFrame with teams data],\n",
    "            'games': [DataFrame with games data],\n",
    "            'players': [DataFrame with players data]\n",
    "        }\n",
    "        \"\"\"\n",
    "\n",
    "        files = glob.glob(self.data_dir + '*.csv')\n",
    "        self.data = {file.split('\\\\')[-1].split('.')[0]: pd.read_csv(file, encoding='latin-1') for file in files}\n",
    "\n",
    "        teams = pd.concat([self.data['MTeams'], self.data['WTeams']])\n",
    "        teams_spelling = pd.concat([self.data['MTeamSpellings'], self.data['WTeamSpellings']])\n",
    "        teams_spelling = teams_spelling.groupby(by='TeamID', as_index=False)['TeamNameSpelling'].count()\n",
    "        teams_spelling.columns = ['TeamID', 'TeamNameCount']\n",
    "        self.teams = pd.merge(teams, teams_spelling, how='left', on=['TeamID'])\n",
    "        #print(self.teams.head())\n",
    "\n",
    "        season_compact_results = pd.concat([self.data['MRegularSeasonCompactResults'], self.data['WRegularSeasonCompactResults']]).assign(ST='S')\n",
    "        season_detailed_results = pd.concat([self.data['MRegularSeasonDetailedResults'], self.data['WRegularSeasonDetailedResults']]).assign(ST='S')\n",
    "        tourney_compact_results = pd.concat([self.data['MNCAATourneyCompactResults'], self.data['WNCAATourneyCompactResults']]).assign(ST='T')\n",
    "        tourney_detailed_results = pd.concat([self.data['MNCAATourneyDetailedResults'], self.data['WNCAATourneyDetailedResults']]).assign(ST='T')\n",
    "\n",
    "        seeds = pd.concat([self.data['MNCAATourneySeeds'], self.data['WNCAATourneySeeds']])\n",
    "        self.seeds = seeds\n",
    "        #print(self.seeds.head())\n",
    "\n",
    "        seeds = seeds.groupby(by='TeamID', as_index=False)['Seed'].count()\n",
    "        seeds.columns = ['TeamID', 'SeedCount']\n",
    "        self.teams = pd.merge(self.teams, seeds, how='left', on=['TeamID'])\n",
    "        #print(self.teams.head())\n",
    "\n",
    "        self.submission = self.data['SampleSubmissionStage1']\n",
    "\n",
    "        self.games = pd.concat([season_compact_results, tourney_compact_results])\n",
    "\n",
    "    def create_model(self):\n",
    "        self.model = sk.ensemble.RandomForestRegressor(\n",
    "          n_estimators=235,\n",
    "          random_state=42,\n",
    "          max_depth=15,\n",
    "          min_samples_split=2,\n",
    "          max_features='sqrt',\n",
    "          n_jobs=-1)\n",
    "        self.calibration_model = sk.ensemble.RandomForestRegressor(n_estimators=100, random_state=42, n_jobs=-1, max_depth=10)\n",
    "\n",
    "\n"
   ]
  },
  {
   "cell_type": "code",
   "execution_count": 69,
   "metadata": {},
   "outputs": [
    {
     "name": "stdout",
     "output_type": "stream",
     "text": [
      "   Season  DayNum  WTeamID  WScore  LTeamID  LScore WLoc  NumOT ST\n",
      "0    1985      20     1228      81     1328      64    N      0  S\n",
      "1    1985      25     1106      77     1354      70    H      0  S\n",
      "2    1985      25     1112      63     1223      56    H      0  S\n",
      "3    1985      25     1165      70     1432      54    H      0  S\n",
      "4    1985      25     1192      86     1447      74    H      0  S\n"
     ]
    }
   ],
   "source": [
    "if __name__ == '__main__':\n",
    "    data_dir = 'data/'\n",
    "    predictor = MarchMadnessPredictor(data_dir)\n",
    "    predictor.load_data()\n"
   ]
  }
 ],
 "metadata": {
  "kernelspec": {
   "display_name": "Python 3",
   "language": "python",
   "name": "python3"
  },
  "language_info": {
   "codemirror_mode": {
    "name": "ipython",
    "version": 3
   },
   "file_extension": ".py",
   "mimetype": "text/x-python",
   "name": "python",
   "nbconvert_exporter": "python",
   "pygments_lexer": "ipython3",
   "version": "3.13.1"
  }
 },
 "nbformat": 4,
 "nbformat_minor": 2
}
