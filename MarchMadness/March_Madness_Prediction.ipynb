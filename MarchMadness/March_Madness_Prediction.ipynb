{
 "cells": [
  {
   "cell_type": "markdown",
   "metadata": {},
   "source": [
    "# March Madness Prediction\n",
    "\n",
    "## Overview\n",
    "\n",
    "### Goal\n",
    "Submissions are based on the Brier Score, the goal will be to minimize the brier score between the predicted probabilities and the actual game outcomes. The Brier score measures the accuracy of probablistic predition, in this case the mean square error. \n",
    "\n",
    "The brier score can be thought of as a cost function that measures the average squared difference between the predicted probabilities and the actual outcomes.\n",
    "\n",
    "$$\n",
    "Brier = \\frac{1}{N} \\sum_{i=1}^{N} (p_i - o_i)^2\n",
    "$$\n",
    "\n",
    "where $p_i$ is the predicted probability of the event and $o_i$ is the actual outcome. The Brier score can span across all items in a set of N predictions.\n",
    "\n",
    "Therefore, minimizing the Brier score will result in a more accurate prediction.\n"
   ]
  },
  {
   "cell_type": "markdown",
   "metadata": {},
   "source": [
    "## Import Libraries\n",
    "Numpy for numerical operations\n",
    "Pandas for data manipulation\n",
    "Matplotlib, Seaborn, Plotly for plotting\n"
   ]
  },
  {
   "cell_type": "code",
   "execution_count": 2,
   "metadata": {},
   "outputs": [],
   "source": [
    "import glob\n",
    "import numpy as np\n",
    "import pandas as pd\n",
    "import matplotlib.pyplot as plt\n",
    "import seaborn as sns\n",
    "import plotly.express as px\n",
    "import plotly.graph_objects as go\n",
    "import plotly.io as pio\n",
    "import plotly.subplots as sp\n",
    "import xgboost as xgb\n",
    "import sklearn as sk"
   ]
  },
  {
   "cell_type": "markdown",
   "metadata": {},
   "source": [
    "## Load Data\n",
    "\n",
    "Set up a data dictionary that will store the data for each file, this will make it easier to access data from the csvs. Not all files are used in the prediction process, but they are included for completeness.\n"
   ]
  },
  {
   "cell_type": "code",
   "execution_count": 3,
   "metadata": {},
   "outputs": [],
   "source": [
    "data_dir = 'data/'\n",
    "data = {}\n",
    "\n",
    "files = glob.glob(data_dir + '*.csv')\n",
    "for file in files:\n",
    "    filename = file.split('/')[-1].split('\\\\')[-1].split('.')[0]\n",
    "    try:\n",
    "        data[filename] = pd.read_csv(file, encoding='latin-1')\n",
    "    except Exception as e:\n",
    "        print(f\"Warning: Could not load {filename}: {e}\")\n",
    "\n"
   ]
  },
  {
   "cell_type": "markdown",
   "metadata": {},
   "source": [
    "Now that we have the data loaded, lets start by loading team and team spelling data. Here we will be using the team and team spelling data from the regular season and tournament. Combining women and mens data to get a complete dataset.\n"
   ]
  },
  {
   "cell_type": "code",
   "execution_count": null,
   "metadata": {},
   "outputs": [],
   "source": [
    "teams = pd.concat([data['MTeams'], data['WTeams']])\n",
    "teams_spelling = pd.concat([data['MTeamSpellings'], data['WTeamSpellings']])\n",
    "teams_spelling = teams_spelling.groupby(by='TeamID', as_index=False)['TeamNameSpelling'].count()\n",
    "teams_spelling.columns = ['TeamID', 'TeamNameCount']\n",
    "teams = pd.merge(teams, teams_spelling, how='left', on=['TeamID'])\n",
    "print(teams.head())"
   ]
  },
  {
   "cell_type": "markdown",
   "metadata": {},
   "source": [
    "Add season and turney reluts, both compact and detailed. There is a chance we only end up using the detailed results, but it is good to have both. "
   ]
  },
  {
   "cell_type": "code",
   "execution_count": 5,
   "metadata": {},
   "outputs": [],
   "source": [
    "season_compact_results = pd.concat([data['MRegularSeasonCompactResults'], data['WRegularSeasonCompactResults']]).assign(ST='S')\n",
    "season_detailed_results = pd.concat([data['MRegularSeasonDetailedResults'], data['WRegularSeasonDetailedResults']]).assign(ST='S')\n",
    "tourney_compact_results = pd.concat([data['MNCAATourneyCompactResults'], data['WNCAATourneyCompactResults']]).assign(ST='T')\n",
    "tourney_detailed_results = pd.concat([data['MNCAATourneyDetailedResults'], data['WNCAATourneyDetailedResults']]).assign(ST='T')"
   ]
  },
  {
   "cell_type": "markdown",
   "metadata": {},
   "source": [
    "For the sake of visualization, we will create a summary of the datasets. This will help us understand the shape of the data and the columns that are available. Which will be important when we start to explore the data and feature engineering."
   ]
  },
  {
   "cell_type": "code",
   "execution_count": null,
   "metadata": {},
   "outputs": [],
   "source": [
    "# Create a summary of the datasets\n",
    "summary = pd.DataFrame({\n",
    "    'Dataset': [\n",
    "        'Regular Season Compact',\n",
    "        'Regular Season Detailed',\n",
    "        'Tournament Compact',\n",
    "        'Tournament Detailed'\n",
    "    ],\n",
    "    'Shape': [\n",
    "        season_compact_results.shape,\n",
    "        season_detailed_results.shape,\n",
    "        tourney_compact_results.shape,\n",
    "        tourney_detailed_results.shape\n",
    "    ],\n",
    "    'Columns': [\n",
    "        len(season_compact_results.columns),\n",
    "        len(season_detailed_results.columns),\n",
    "        len(tourney_compact_results.columns),\n",
    "        len(tourney_detailed_results.columns)\n",
    "    ],\n",
    "    'Sample Years': [\n",
    "        f\"{season_compact_results['Season'].min()}-{season_compact_results['Season'].max()}\",\n",
    "        f\"{season_detailed_results['Season'].min()}-{season_detailed_results['Season'].max()}\",\n",
    "        f\"{tourney_compact_results['Season'].min()}-{tourney_compact_results['Season'].max()}\",\n",
    "        f\"{tourney_detailed_results['Season'].min()}-{tourney_detailed_results['Season'].max()}\"\n",
    "    ]\n",
    "})\n",
    "\n",
    "# Display the summary with nice formatting\n",
    "display(summary.style.set_properties(**{\n",
    "    'border-color': 'black',\n",
    "    'border-style': 'solid',\n",
    "    'border-width': '1px',\n",
    "    'text-align': 'center'\n",
    "}))\n",
    "\n",
    "# If you want to see the first few rows of each dataset, you can also do:\n",
    "# print(\"\\nSample of Regular Season Compact Results:\")\n",
    "# display(season_compact_results.head(3))\n",
    "\n",
    "# print(\"\\nSample of Regular Season Detailed Results:\")\n",
    "# display(season_detailed_results.head(3))\n",
    "\n",
    "# print(\"\\nSample of Tournament Compact Results:\")\n",
    "# display(tourney_compact_results.head(3))\n",
    "\n",
    "# print(\"\\nSample of Tournament Detailed Results:\")\n",
    "# display(tourney_detailed_results.head(3))"
   ]
  },
  {
   "cell_type": "code",
   "execution_count": 20,
   "metadata": {},
   "outputs": [],
   "source": [
    "# Load other data that might prove useful\n",
    "slots = pd.concat([data['MNCAATourneySlots'], data['WNCAATourneySlots']])\n",
    "seeds = pd.concat([data['MNCAATourneySeeds'], data['WNCAATourneySeeds']])\n",
    "seeds['SeedValue'] = seeds['Seed'].str.extract(r'(\\d+)').astype(int)\n",
    "seeds_dict = {'_'.join(map(str,[int(k1),k2])):int(v[1:3]) for k1, v, k2 in seeds[['Season', 'Seed', 'TeamID']].values}\n",
    "game_cities = pd.concat([data['MGameCities'], data['WGameCities']])\n",
    "seasons = pd.concat([data['MSeasons'], data['WSeasons']])\n",
    "\n",
    "# Combine all game results\n",
    "all_compact_results = pd.concat([season_compact_results, tourney_compact_results])\n",
    "all_detailed_results = pd.concat([season_detailed_results, tourney_detailed_results])\n"
   ]
  },
  {
   "cell_type": "markdown",
   "metadata": {},
   "source": [
    "## Feature Engineering\n",
    "\n"
   ]
  },
  {
   "cell_type": "code",
   "execution_count": 21,
   "metadata": {},
   "outputs": [],
   "source": [
    "# Add derived features to compact results\n",
    "all_compact_results['ScoreDiff'] = all_compact_results['WScore'] - all_compact_results['LScore']\n",
    "all_compact_results['HomeAdvantage'] = all_compact_results['WLoc'].map({'H': 1, 'N': 0, 'A': -1})\n",
    "\n",
    "# Add derived features to detaifled results\n",
    "all_detailed_results['ScoreDiff'] = all_detailed_results['WScore'] - all_detailed_results['LScore']\n",
    "all_detailed_results['HomeAdvantage'] = all_detailed_results['WLoc'].map({'H': 1, 'N': 0, 'A': -1})\n",
    "\n",
    "    # Calculate shooting percentages (handling division by zero)\n",
    "all_detailed_results['WFGPct'] = np.where(all_detailed_results['WFGA'] > 0, \n",
    "                                        all_detailed_results['WFGM'] / all_detailed_results['WFGA'], 0)\n",
    "all_detailed_results['WFG3Pct'] = np.where(all_detailed_results['WFGA3'] > 0, \n",
    "                                        all_detailed_results['WFGM3'] / all_detailed_results['WFGA3'], 0)\n",
    "all_detailed_results['WFTPct'] = np.where(all_detailed_results['WFTA'] > 0, \n",
    "                                        all_detailed_results['WFTM'] / all_detailed_results['WFTA'], 0)\n",
    "all_detailed_results['LFGPct'] = np.where(all_detailed_results['LFGA'] > 0, \n",
    "                                        all_detailed_results['LFGM'] / all_detailed_results['LFGA'], 0)\n",
    "all_detailed_results['LFG3Pct'] = np.where(all_detailed_results['LFGA3'] > 0, \n",
    "                                        all_detailed_results['LFGM3'] / all_detailed_results['LFGA3'], 0)\n",
    "all_detailed_results['LFTPct'] = np.where(all_detailed_results['LFTA'] > 0, \n",
    "                                        all_detailed_results['LFTM'] / all_detailed_results['LFTA'], 0)\n",
    "\n",
    "# Add statistical differences\n",
    "all_detailed_results['ReboundDiff'] = (all_detailed_results['WOR'] + all_detailed_results['WDR']) - \\\n",
    "                                    (all_detailed_results['LOR'] + all_detailed_results['LDR'])\n",
    "all_detailed_results['AssistDiff'] = all_detailed_results['WAst'] - all_detailed_results['LAst']\n",
    "all_detailed_results['TurnoverDiff'] = all_detailed_results['WTO'] - all_detailed_results['LTO']\n",
    "all_detailed_results['StealDiff'] = all_detailed_results['WStl'] - all_detailed_results['LStl']\n",
    "all_detailed_results['BlockDiff'] = all_detailed_results['WBlk'] - all_detailed_results['LBlk']\n",
    "all_detailed_results['FoulDiff'] = all_detailed_results['WPF'] - all_detailed_results['LPF']\n",
    "\n",
    "# Add seed information to tournament games\n",
    "tourney_compact = all_compact_results[all_compact_results['ST'] == 'T'].copy()\n",
    "tourney_detailed = all_detailed_results[all_detailed_results['ST'] == 'T'].copy()\n",
    "\n",
    "# Add winner seeds\n",
    "tourney_compact = pd.merge(\n",
    "    tourney_compact,\n",
    "    seeds[['Season', 'TeamID', 'SeedValue']],\n",
    "    how='left',\n",
    "    left_on=['Season', 'WTeamID'],\n",
    "    right_on=['Season', 'TeamID']\n",
    ")\n",
    "tourney_compact.rename(columns={'SeedValue': 'WSeedValue'}, inplace=True)\n",
    "tourney_compact.drop('TeamID', axis=1, inplace=True)\n",
    "\n",
    "tourney_detailed = pd.merge(\n",
    "    tourney_detailed,\n",
    "    seeds[['Season', 'TeamID', 'SeedValue']],\n",
    "    how='left',\n",
    "    left_on=['Season', 'WTeamID'],\n",
    "    right_on=['Season', 'TeamID']\n",
    ")\n",
    "tourney_detailed.rename(columns={'SeedValue': 'WSeedValue'}, inplace=True)\n",
    "tourney_detailed.drop('TeamID', axis=1, inplace=True)\n",
    "\n",
    "# Add loser seeds\n",
    "tourney_compact = pd.merge(\n",
    "    tourney_compact,\n",
    "    seeds[['Season', 'TeamID', 'SeedValue']],\n",
    "    how='left',\n",
    "    left_on=['Season', 'LTeamID'],\n",
    "    right_on=['Season', 'TeamID']\n",
    ")\n",
    "tourney_compact.rename(columns={'SeedValue': 'LSeedValue'}, inplace=True)\n",
    "tourney_compact.drop('TeamID', axis=1, inplace=True)\n",
    "\n",
    "tourney_detailed = pd.merge(\n",
    "    tourney_detailed,\n",
    "    seeds[['Season', 'TeamID', 'SeedValue']],\n",
    "    how='left',\n",
    "    left_on=['Season', 'LTeamID'],\n",
    "    right_on=['Season', 'TeamID']\n",
    ")\n",
    "tourney_detailed.rename(columns={'SeedValue': 'LSeedValue'}, inplace=True)\n",
    "tourney_detailed.drop('TeamID', axis=1, inplace=True)\n",
    "\n",
    "    # Calculate seed difference (lower is better in seeding, so LSeed - WSeed is positive if favorite won)\n",
    "tourney_compact['SeedDiff'] = tourney_compact['LSeedValue'] - tourney_compact['WSeedValue']\n",
    "tourney_detailed['SeedDiff'] = tourney_detailed['LSeedValue'] - tourney_detailed['WSeedValue']"
   ]
  }
 ],
 "metadata": {
  "kernelspec": {
   "display_name": "Python 3",
   "language": "python",
   "name": "python3"
  },
  "language_info": {
   "codemirror_mode": {
    "name": "ipython",
    "version": 3
   },
   "file_extension": ".py",
   "mimetype": "text/x-python",
   "name": "python",
   "nbconvert_exporter": "python",
   "pygments_lexer": "ipython3",
   "version": "3.12.3"
  }
 },
 "nbformat": 4,
 "nbformat_minor": 2
}
